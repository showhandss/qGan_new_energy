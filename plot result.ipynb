{
 "cells": [
  {
   "cell_type": "code",
   "execution_count": 3,
   "id": "8223be41",
   "metadata": {},
   "outputs": [
    {
     "name": "stderr",
     "output_type": "stream",
     "text": [
      "C:\\Users\\user\\anaconda3\\lib\\site-packages\\qiskit\\aqua\\__init__.py:86: DeprecationWarning: The package qiskit.aqua is deprecated. It was moved/refactored to qiskit-terra For more information see <https://github.com/Qiskit/qiskit-aqua/blob/main/README.md#migration-guide>\n",
      "  warn_package('aqua', 'qiskit-terra')\n",
      "C:\\Users\\user\\anaconda3\\lib\\site-packages\\qiskit\\finance\\__init__.py:50: DeprecationWarning: The package qiskit.finance is deprecated. It was moved/refactored to qiskit_finance (pip install qiskit-finance). For more information see <https://github.com/Qiskit/qiskit-aqua/blob/main/README.md#migration-guide>\n",
      "  warn_package('finance', 'qiskit_finance', 'qiskit-finance')\n"
     ]
    }
   ],
   "source": [
    "import pandas\n",
    "import time\n",
    "from scipy.stats import lognorm\n",
    "from sklearn.preprocessing import StandardScaler\n",
    "import numpy as np\n",
    "seed = 71\n",
    "np.random.seed = seed\n",
    "\n",
    "import warnings\n",
    "\n",
    "warnings.filterwarnings('ignore')\n",
    "\n",
    "import matplotlib.pyplot as plt\n",
    "%matplotlib inline\n",
    "\n",
    "from scipy import stats\n",
    "\n",
    "from qiskit import Aer, QuantumRegister, QuantumCircuit, BasicAer\n",
    "from qiskit.circuit import ParameterVector\n",
    "from qiskit.quantum_info import Statevector\n",
    "from qiskit.circuit.library import TwoLocal, UniformDistribution, NormalDistribution\n",
    "\n",
    "from qiskit.utils import QuantumInstance, algorithm_globals\n",
    "from qiskit_machine_learning.algorithms import NumPyDiscriminator, QGAN\n",
    "\n",
    "from qiskit.aqua import aqua_globals, QuantumInstance\n",
    "from qiskit.aqua.algorithms import IterativeAmplitudeEstimation\n",
    "from qiskit.finance.applications import EuropeanCallExpectedValue\n",
    "\n",
    "algorithm_globals.random_seed = seed"
   ]
  },
  {
   "cell_type": "code",
   "execution_count": null,
   "id": "744ae9a3",
   "metadata": {},
   "outputs": [
    {
     "name": "stderr",
     "output_type": "stream",
     "text": [
      "C:\\Users\\user\\anaconda3\\lib\\site-packages\\qiskit\\utils\\deprecation.py:62: DeprecationWarning: Using a qobj for run() is deprecated as of qiskit-aer 0.9.0 and will be removed no sooner than 3 months from that release date. Transpiled circuits should now be passed directly using `backend.run(circuits, **run_options).\n",
      "  return func(*args, **kwargs)\n"
     ]
    },
    {
     "name": "stdout",
     "output_type": "stream",
     "text": [
      "Target value:       \t1.6291\n",
      "Exact value:        \t2.5690\n",
      "Estimated value:    \t2.5498\n",
      "Confidence interval:\t[2.5000, 2.5995]\n",
      "1\n",
      "5\n",
      "執行時間：18.187500 秒\n"
     ]
    },
    {
     "name": "stderr",
     "output_type": "stream",
     "text": [
      "C:\\Users\\user\\anaconda3\\lib\\site-packages\\qiskit\\utils\\deprecation.py:62: DeprecationWarning: Using a qobj for run() is deprecated as of qiskit-aer 0.9.0 and will be removed no sooner than 3 months from that release date. Transpiled circuits should now be passed directly using `backend.run(circuits, **run_options).\n",
      "  return func(*args, **kwargs)\n"
     ]
    },
    {
     "name": "stdout",
     "output_type": "stream",
     "text": [
      "Target value:       \t1.6362\n",
      "Exact value:        \t1.9701\n",
      "Estimated value:    \t2.0083\n",
      "Confidence interval:\t[1.9475, 2.0692]\n",
      "2\n",
      "5\n",
      "執行時間：18.406250 秒\n"
     ]
    },
    {
     "name": "stderr",
     "output_type": "stream",
     "text": [
      "C:\\Users\\user\\anaconda3\\lib\\site-packages\\qiskit\\utils\\deprecation.py:62: DeprecationWarning: Using a qobj for run() is deprecated as of qiskit-aer 0.9.0 and will be removed no sooner than 3 months from that release date. Transpiled circuits should now be passed directly using `backend.run(circuits, **run_options).\n",
      "  return func(*args, **kwargs)\n"
     ]
    },
    {
     "name": "stdout",
     "output_type": "stream",
     "text": [
      "Target value:       \t1.6276\n",
      "Exact value:        \t1.6960\n",
      "Estimated value:    \t1.6640\n",
      "Confidence interval:\t[1.5860, 1.7421]\n",
      "3\n",
      "5\n",
      "執行時間：21.828125 秒\n"
     ]
    },
    {
     "name": "stderr",
     "output_type": "stream",
     "text": [
      "C:\\Users\\user\\anaconda3\\lib\\site-packages\\qiskit\\utils\\deprecation.py:62: DeprecationWarning: Using a qobj for run() is deprecated as of qiskit-aer 0.9.0 and will be removed no sooner than 3 months from that release date. Transpiled circuits should now be passed directly using `backend.run(circuits, **run_options).\n",
      "  return func(*args, **kwargs)\n"
     ]
    },
    {
     "name": "stdout",
     "output_type": "stream",
     "text": [
      "Target value:       \t1.6270\n",
      "Exact value:        \t1.1584\n",
      "Estimated value:    \t1.1967\n",
      "Confidence interval:\t[1.1652, 1.2283]\n",
      "4\n",
      "5\n",
      "執行時間：18.500000 秒\n"
     ]
    },
    {
     "name": "stderr",
     "output_type": "stream",
     "text": [
      "C:\\Users\\user\\anaconda3\\lib\\site-packages\\qiskit\\utils\\deprecation.py:62: DeprecationWarning: Using a qobj for run() is deprecated as of qiskit-aer 0.9.0 and will be removed no sooner than 3 months from that release date. Transpiled circuits should now be passed directly using `backend.run(circuits, **run_options).\n",
      "  return func(*args, **kwargs)\n"
     ]
    },
    {
     "name": "stdout",
     "output_type": "stream",
     "text": [
      "Target value:       \t1.6291\n",
      "Exact value:        \t1.7581\n",
      "Estimated value:    \t1.7695\n",
      "Confidence interval:\t[1.6914, 1.8475]\n",
      "5\n",
      "5\n",
      "執行時間：18.359375 秒\n"
     ]
    },
    {
     "name": "stderr",
     "output_type": "stream",
     "text": [
      "C:\\Users\\user\\anaconda3\\lib\\site-packages\\qiskit\\utils\\deprecation.py:62: DeprecationWarning: Using a qobj for run() is deprecated as of qiskit-aer 0.9.0 and will be removed no sooner than 3 months from that release date. Transpiled circuits should now be passed directly using `backend.run(circuits, **run_options).\n",
      "  return func(*args, **kwargs)\n"
     ]
    },
    {
     "name": "stdout",
     "output_type": "stream",
     "text": [
      "Target value:       \t1.6322\n",
      "Exact value:        \t0.7530\n",
      "Estimated value:    \t0.7868\n",
      "Confidence interval:\t[0.7388, 0.8347]\n",
      "6\n",
      "5\n",
      "執行時間：19.015625 秒\n"
     ]
    },
    {
     "name": "stderr",
     "output_type": "stream",
     "text": [
      "C:\\Users\\user\\anaconda3\\lib\\site-packages\\qiskit\\utils\\deprecation.py:62: DeprecationWarning: Using a qobj for run() is deprecated as of qiskit-aer 0.9.0 and will be removed no sooner than 3 months from that release date. Transpiled circuits should now be passed directly using `backend.run(circuits, **run_options).\n",
      "  return func(*args, **kwargs)\n"
     ]
    },
    {
     "name": "stdout",
     "output_type": "stream",
     "text": [
      "Target value:       \t1.6263\n",
      "Exact value:        \t0.0303\n",
      "Estimated value:    \t0.0961\n",
      "Confidence interval:\t[0.0622, 0.1299]\n",
      "7\n",
      "5\n",
      "執行時間：19.531250 秒\n"
     ]
    },
    {
     "name": "stderr",
     "output_type": "stream",
     "text": [
      "C:\\Users\\user\\anaconda3\\lib\\site-packages\\qiskit\\utils\\deprecation.py:62: DeprecationWarning: Using a qobj for run() is deprecated as of qiskit-aer 0.9.0 and will be removed no sooner than 3 months from that release date. Transpiled circuits should now be passed directly using `backend.run(circuits, **run_options).\n",
      "  return func(*args, **kwargs)\n"
     ]
    },
    {
     "name": "stdout",
     "output_type": "stream",
     "text": [
      "Target value:       \t1.6286\n",
      "Exact value:        \t3.5611\n",
      "Estimated value:    \t3.5913\n",
      "Confidence interval:\t[3.4829, 3.6998]\n",
      "8\n",
      "5\n",
      "執行時間：18.203125 秒\n"
     ]
    },
    {
     "name": "stderr",
     "output_type": "stream",
     "text": [
      "C:\\Users\\user\\anaconda3\\lib\\site-packages\\qiskit\\utils\\deprecation.py:62: DeprecationWarning: Using a qobj for run() is deprecated as of qiskit-aer 0.9.0 and will be removed no sooner than 3 months from that release date. Transpiled circuits should now be passed directly using `backend.run(circuits, **run_options).\n",
      "  return func(*args, **kwargs)\n"
     ]
    },
    {
     "name": "stdout",
     "output_type": "stream",
     "text": [
      "Target value:       \t1.6330\n",
      "Exact value:        \t2.2115\n",
      "Estimated value:    \t2.2252\n",
      "Confidence interval:\t[2.1754, 2.2750]\n",
      "9\n",
      "5\n",
      "執行時間：19.296875 秒\n"
     ]
    },
    {
     "name": "stderr",
     "output_type": "stream",
     "text": [
      "C:\\Users\\user\\anaconda3\\lib\\site-packages\\qiskit\\utils\\deprecation.py:62: DeprecationWarning: Using a qobj for run() is deprecated as of qiskit-aer 0.9.0 and will be removed no sooner than 3 months from that release date. Transpiled circuits should now be passed directly using `backend.run(circuits, **run_options).\n",
      "  return func(*args, **kwargs)\n"
     ]
    },
    {
     "name": "stdout",
     "output_type": "stream",
     "text": [
      "Target value:       \t1.6258\n",
      "Exact value:        \t3.0272\n",
      "Estimated value:    \t3.0028\n",
      "Confidence interval:\t[2.9419, 3.0636]\n",
      "10\n",
      "5\n",
      "執行時間：19.140625 秒\n"
     ]
    },
    {
     "name": "stderr",
     "output_type": "stream",
     "text": [
      "C:\\Users\\user\\anaconda3\\lib\\site-packages\\qiskit\\utils\\deprecation.py:62: DeprecationWarning: Using a qobj for run() is deprecated as of qiskit-aer 0.9.0 and will be removed no sooner than 3 months from that release date. Transpiled circuits should now be passed directly using `backend.run(circuits, **run_options).\n",
      "  return func(*args, **kwargs)\n"
     ]
    },
    {
     "name": "stdout",
     "output_type": "stream",
     "text": [
      "Target value:       \t1.6275\n",
      "Exact value:        \t2.3204\n",
      "Estimated value:    \t2.2927\n",
      "Confidence interval:\t[2.2562, 2.3293]\n",
      "11\n",
      "5\n",
      "執行時間：20.140625 秒\n"
     ]
    },
    {
     "name": "stderr",
     "output_type": "stream",
     "text": [
      "C:\\Users\\user\\anaconda3\\lib\\site-packages\\qiskit\\utils\\deprecation.py:62: DeprecationWarning: Using a qobj for run() is deprecated as of qiskit-aer 0.9.0 and will be removed no sooner than 3 months from that release date. Transpiled circuits should now be passed directly using `backend.run(circuits, **run_options).\n",
      "  return func(*args, **kwargs)\n"
     ]
    },
    {
     "name": "stdout",
     "output_type": "stream",
     "text": [
      "Target value:       \t1.6325\n",
      "Exact value:        \t2.6108\n",
      "Estimated value:    \t2.6329\n",
      "Confidence interval:\t[2.5831, 2.6827]\n",
      "12\n",
      "5\n",
      "執行時間：20.062500 秒\n"
     ]
    },
    {
     "name": "stderr",
     "output_type": "stream",
     "text": [
      "C:\\Users\\user\\anaconda3\\lib\\site-packages\\qiskit\\utils\\deprecation.py:62: DeprecationWarning: Using a qobj for run() is deprecated as of qiskit-aer 0.9.0 and will be removed no sooner than 3 months from that release date. Transpiled circuits should now be passed directly using `backend.run(circuits, **run_options).\n",
      "  return func(*args, **kwargs)\n"
     ]
    },
    {
     "name": "stdout",
     "output_type": "stream",
     "text": [
      "Target value:       \t1.6297\n",
      "Exact value:        \t2.4099\n",
      "Estimated value:    \t2.3848\n",
      "Confidence interval:\t[2.3351, 2.4346]\n",
      "13\n",
      "5\n",
      "執行時間：19.593750 秒\n"
     ]
    },
    {
     "name": "stderr",
     "output_type": "stream",
     "text": [
      "C:\\Users\\user\\anaconda3\\lib\\site-packages\\qiskit\\utils\\deprecation.py:62: DeprecationWarning: Using a qobj for run() is deprecated as of qiskit-aer 0.9.0 and will be removed no sooner than 3 months from that release date. Transpiled circuits should now be passed directly using `backend.run(circuits, **run_options).\n",
      "  return func(*args, **kwargs)\n"
     ]
    },
    {
     "name": "stdout",
     "output_type": "stream",
     "text": [
      "Target value:       \t1.6301\n",
      "Exact value:        \t3.0165\n",
      "Estimated value:    \t3.0016\n",
      "Confidence interval:\t[2.9517, 3.0515]\n",
      "14\n",
      "5\n",
      "執行時間：19.765625 秒\n"
     ]
    },
    {
     "name": "stderr",
     "output_type": "stream",
     "text": [
      "C:\\Users\\user\\anaconda3\\lib\\site-packages\\qiskit\\utils\\deprecation.py:62: DeprecationWarning: Using a qobj for run() is deprecated as of qiskit-aer 0.9.0 and will be removed no sooner than 3 months from that release date. Transpiled circuits should now be passed directly using `backend.run(circuits, **run_options).\n",
      "  return func(*args, **kwargs)\n"
     ]
    },
    {
     "name": "stdout",
     "output_type": "stream",
     "text": [
      "Target value:       \t1.6275\n",
      "Exact value:        \t0.2468\n",
      "Estimated value:    \t0.3032\n",
      "Confidence interval:\t[0.2730, 0.3334]\n",
      "15\n",
      "5\n",
      "執行時間：19.890625 秒\n"
     ]
    },
    {
     "name": "stderr",
     "output_type": "stream",
     "text": [
      "C:\\Users\\user\\anaconda3\\lib\\site-packages\\qiskit\\utils\\deprecation.py:62: DeprecationWarning: Using a qobj for run() is deprecated as of qiskit-aer 0.9.0 and will be removed no sooner than 3 months from that release date. Transpiled circuits should now be passed directly using `backend.run(circuits, **run_options).\n",
      "  return func(*args, **kwargs)\n"
     ]
    },
    {
     "name": "stdout",
     "output_type": "stream",
     "text": [
      "Target value:       \t1.6363\n",
      "Exact value:        \t2.1088\n",
      "Estimated value:    \t2.1716\n",
      "Confidence interval:\t[2.0935, 2.2498]\n",
      "16\n",
      "5\n",
      "執行時間：18.156250 秒\n"
     ]
    },
    {
     "name": "stderr",
     "output_type": "stream",
     "text": [
      "C:\\Users\\user\\anaconda3\\lib\\site-packages\\qiskit\\utils\\deprecation.py:62: DeprecationWarning: Using a qobj for run() is deprecated as of qiskit-aer 0.9.0 and will be removed no sooner than 3 months from that release date. Transpiled circuits should now be passed directly using `backend.run(circuits, **run_options).\n",
      "  return func(*args, **kwargs)\n"
     ]
    },
    {
     "name": "stdout",
     "output_type": "stream",
     "text": [
      "Target value:       \t1.6263\n",
      "Exact value:        \t3.3267\n",
      "Estimated value:    \t3.3061\n",
      "Confidence interval:\t[3.1972, 3.4150]\n",
      "17\n",
      "5\n",
      "執行時間：17.578125 秒\n"
     ]
    },
    {
     "name": "stderr",
     "output_type": "stream",
     "text": [
      "C:\\Users\\user\\anaconda3\\lib\\site-packages\\qiskit\\utils\\deprecation.py:62: DeprecationWarning: Using a qobj for run() is deprecated as of qiskit-aer 0.9.0 and will be removed no sooner than 3 months from that release date. Transpiled circuits should now be passed directly using `backend.run(circuits, **run_options).\n",
      "  return func(*args, **kwargs)\n"
     ]
    },
    {
     "name": "stdout",
     "output_type": "stream",
     "text": [
      "Target value:       \t1.6297\n",
      "Exact value:        \t0.4855\n",
      "Estimated value:    \t0.5338\n",
      "Confidence interval:\t[0.5030, 0.5647]\n",
      "18\n",
      "5\n",
      "執行時間：19.640625 秒\n"
     ]
    },
    {
     "name": "stderr",
     "output_type": "stream",
     "text": [
      "C:\\Users\\user\\anaconda3\\lib\\site-packages\\qiskit\\utils\\deprecation.py:62: DeprecationWarning: Using a qobj for run() is deprecated as of qiskit-aer 0.9.0 and will be removed no sooner than 3 months from that release date. Transpiled circuits should now be passed directly using `backend.run(circuits, **run_options).\n",
      "  return func(*args, **kwargs)\n"
     ]
    },
    {
     "name": "stdout",
     "output_type": "stream",
     "text": [
      "Target value:       \t1.6282\n",
      "Exact value:        \t0.7989\n",
      "Estimated value:    \t0.7952\n",
      "Confidence interval:\t[0.7546, 0.8358]\n",
      "19\n",
      "5\n",
      "執行時間：19.062500 秒\n"
     ]
    },
    {
     "name": "stderr",
     "output_type": "stream",
     "text": [
      "C:\\Users\\user\\anaconda3\\lib\\site-packages\\qiskit\\utils\\deprecation.py:62: DeprecationWarning: Using a qobj for run() is deprecated as of qiskit-aer 0.9.0 and will be removed no sooner than 3 months from that release date. Transpiled circuits should now be passed directly using `backend.run(circuits, **run_options).\n",
      "  return func(*args, **kwargs)\n"
     ]
    },
    {
     "name": "stdout",
     "output_type": "stream",
     "text": [
      "Target value:       \t1.6324\n",
      "Exact value:        \t0.1296\n",
      "Estimated value:    \t0.2017\n",
      "Confidence interval:\t[0.1450, 0.2585]\n",
      "20\n",
      "5\n",
      "執行時間：18.343750 秒\n"
     ]
    },
    {
     "name": "stderr",
     "output_type": "stream",
     "text": [
      "C:\\Users\\user\\anaconda3\\lib\\site-packages\\qiskit\\utils\\deprecation.py:62: DeprecationWarning: Using a qobj for run() is deprecated as of qiskit-aer 0.9.0 and will be removed no sooner than 3 months from that release date. Transpiled circuits should now be passed directly using `backend.run(circuits, **run_options).\n",
      "  return func(*args, **kwargs)\n"
     ]
    },
    {
     "name": "stdout",
     "output_type": "stream",
     "text": [
      "Target value:       \t1.6327\n",
      "Exact value:        \t0.2290\n",
      "Estimated value:    \t0.2763\n",
      "Confidence interval:\t[0.2193, 0.3333]\n",
      "21\n",
      "5\n",
      "執行時間：18.328125 秒\n"
     ]
    },
    {
     "name": "stderr",
     "output_type": "stream",
     "text": [
      "C:\\Users\\user\\anaconda3\\lib\\site-packages\\qiskit\\utils\\deprecation.py:62: DeprecationWarning: Using a qobj for run() is deprecated as of qiskit-aer 0.9.0 and will be removed no sooner than 3 months from that release date. Transpiled circuits should now be passed directly using `backend.run(circuits, **run_options).\n",
      "  return func(*args, **kwargs)\n"
     ]
    },
    {
     "name": "stdout",
     "output_type": "stream",
     "text": [
      "Target value:       \t1.6262\n",
      "Exact value:        \t1.7197\n",
      "Estimated value:    \t1.7951\n",
      "Confidence interval:\t[1.7171, 1.8732]\n",
      "22\n",
      "5\n",
      "執行時間：18.062500 秒\n"
     ]
    },
    {
     "name": "stderr",
     "output_type": "stream",
     "text": [
      "C:\\Users\\user\\anaconda3\\lib\\site-packages\\qiskit\\utils\\deprecation.py:62: DeprecationWarning: Using a qobj for run() is deprecated as of qiskit-aer 0.9.0 and will be removed no sooner than 3 months from that release date. Transpiled circuits should now be passed directly using `backend.run(circuits, **run_options).\n",
      "  return func(*args, **kwargs)\n"
     ]
    },
    {
     "name": "stdout",
     "output_type": "stream",
     "text": [
      "Target value:       \t1.6313\n",
      "Exact value:        \t0.7873\n",
      "Estimated value:    \t0.8578\n",
      "Confidence interval:\t[0.8171, 0.8985]\n",
      "23\n",
      "5\n",
      "執行時間：18.968750 秒\n"
     ]
    },
    {
     "name": "stderr",
     "output_type": "stream",
     "text": [
      "C:\\Users\\user\\anaconda3\\lib\\site-packages\\qiskit\\utils\\deprecation.py:62: DeprecationWarning: Using a qobj for run() is deprecated as of qiskit-aer 0.9.0 and will be removed no sooner than 3 months from that release date. Transpiled circuits should now be passed directly using `backend.run(circuits, **run_options).\n",
      "  return func(*args, **kwargs)\n"
     ]
    },
    {
     "name": "stdout",
     "output_type": "stream",
     "text": [
      "Target value:       \t1.6358\n",
      "Exact value:        \t0.7128\n",
      "Estimated value:    \t0.7260\n",
      "Confidence interval:\t[0.6855, 0.7665]\n",
      "24\n",
      "5\n",
      "執行時間：18.984375 秒\n"
     ]
    },
    {
     "name": "stderr",
     "output_type": "stream",
     "text": [
      "C:\\Users\\user\\anaconda3\\lib\\site-packages\\qiskit\\utils\\deprecation.py:62: DeprecationWarning: Using a qobj for run() is deprecated as of qiskit-aer 0.9.0 and will be removed no sooner than 3 months from that release date. Transpiled circuits should now be passed directly using `backend.run(circuits, **run_options).\n",
      "  return func(*args, **kwargs)\n"
     ]
    },
    {
     "name": "stdout",
     "output_type": "stream",
     "text": [
      "Target value:       \t1.6319\n",
      "Exact value:        \t2.1428\n",
      "Estimated value:    \t2.1325\n",
      "Confidence interval:\t[2.0544, 2.2107]\n",
      "25\n",
      "5\n",
      "執行時間：17.968750 秒\n"
     ]
    },
    {
     "name": "stderr",
     "output_type": "stream",
     "text": [
      "C:\\Users\\user\\anaconda3\\lib\\site-packages\\qiskit\\utils\\deprecation.py:62: DeprecationWarning: Using a qobj for run() is deprecated as of qiskit-aer 0.9.0 and will be removed no sooner than 3 months from that release date. Transpiled circuits should now be passed directly using `backend.run(circuits, **run_options).\n",
      "  return func(*args, **kwargs)\n"
     ]
    },
    {
     "name": "stdout",
     "output_type": "stream",
     "text": [
      "Target value:       \t1.6277\n",
      "Exact value:        \t0.9463\n",
      "Estimated value:    \t0.9803\n",
      "Confidence interval:\t[0.9394, 1.0212]\n",
      "26\n",
      "5\n",
      "執行時間：19.093750 秒\n"
     ]
    },
    {
     "name": "stderr",
     "output_type": "stream",
     "text": [
      "C:\\Users\\user\\anaconda3\\lib\\site-packages\\qiskit\\utils\\deprecation.py:62: DeprecationWarning: Using a qobj for run() is deprecated as of qiskit-aer 0.9.0 and will be removed no sooner than 3 months from that release date. Transpiled circuits should now be passed directly using `backend.run(circuits, **run_options).\n",
      "  return func(*args, **kwargs)\n"
     ]
    },
    {
     "name": "stdout",
     "output_type": "stream",
     "text": [
      "Target value:       \t1.6275\n",
      "Exact value:        \t0.9553\n",
      "Estimated value:    \t0.9790\n",
      "Confidence interval:\t[0.9435, 1.0145]\n",
      "27\n",
      "5\n",
      "執行時間：19.468750 秒\n"
     ]
    },
    {
     "name": "stderr",
     "output_type": "stream",
     "text": [
      "C:\\Users\\user\\anaconda3\\lib\\site-packages\\qiskit\\utils\\deprecation.py:62: DeprecationWarning: Using a qobj for run() is deprecated as of qiskit-aer 0.9.0 and will be removed no sooner than 3 months from that release date. Transpiled circuits should now be passed directly using `backend.run(circuits, **run_options).\n",
      "  return func(*args, **kwargs)\n"
     ]
    },
    {
     "name": "stdout",
     "output_type": "stream",
     "text": [
      "Target value:       \t1.6291\n",
      "Exact value:        \t3.9232\n",
      "Estimated value:    \t3.8874\n",
      "Confidence interval:\t[3.8463, 3.9285]\n",
      "28\n",
      "5\n",
      "執行時間：19.109375 秒\n"
     ]
    },
    {
     "name": "stderr",
     "output_type": "stream",
     "text": [
      "C:\\Users\\user\\anaconda3\\lib\\site-packages\\qiskit\\utils\\deprecation.py:62: DeprecationWarning: Using a qobj for run() is deprecated as of qiskit-aer 0.9.0 and will be removed no sooner than 3 months from that release date. Transpiled circuits should now be passed directly using `backend.run(circuits, **run_options).\n",
      "  return func(*args, **kwargs)\n"
     ]
    },
    {
     "name": "stdout",
     "output_type": "stream",
     "text": [
      "Target value:       \t1.6272\n",
      "Exact value:        \t2.1597\n",
      "Estimated value:    \t2.1580\n",
      "Confidence interval:\t[2.0799, 2.2362]\n",
      "29\n",
      "5\n",
      "執行時間：18.203125 秒\n"
     ]
    },
    {
     "name": "stderr",
     "output_type": "stream",
     "text": [
      "C:\\Users\\user\\anaconda3\\lib\\site-packages\\qiskit\\utils\\deprecation.py:62: DeprecationWarning: Using a qobj for run() is deprecated as of qiskit-aer 0.9.0 and will be removed no sooner than 3 months from that release date. Transpiled circuits should now be passed directly using `backend.run(circuits, **run_options).\n",
      "  return func(*args, **kwargs)\n"
     ]
    },
    {
     "name": "stdout",
     "output_type": "stream",
     "text": [
      "Target value:       \t1.6281\n",
      "Exact value:        \t0.3108\n",
      "Estimated value:    \t0.3613\n",
      "Confidence interval:\t[0.3040, 0.4186]\n",
      "30\n",
      "5\n",
      "執行時間：18.375000 秒\n"
     ]
    },
    {
     "name": "stderr",
     "output_type": "stream",
     "text": [
      "C:\\Users\\user\\anaconda3\\lib\\site-packages\\qiskit\\utils\\deprecation.py:62: DeprecationWarning: Using a qobj for run() is deprecated as of qiskit-aer 0.9.0 and will be removed no sooner than 3 months from that release date. Transpiled circuits should now be passed directly using `backend.run(circuits, **run_options).\n",
      "  return func(*args, **kwargs)\n"
     ]
    },
    {
     "name": "stdout",
     "output_type": "stream",
     "text": [
      "Target value:       \t1.6321\n",
      "Exact value:        \t0.4012\n",
      "Estimated value:    \t0.4676\n",
      "Confidence interval:\t[0.4204, 0.5149]\n",
      "31\n",
      "5\n",
      "執行時間：18.765625 秒\n"
     ]
    },
    {
     "name": "stderr",
     "output_type": "stream",
     "text": [
      "C:\\Users\\user\\anaconda3\\lib\\site-packages\\qiskit\\utils\\deprecation.py:62: DeprecationWarning: Using a qobj for run() is deprecated as of qiskit-aer 0.9.0 and will be removed no sooner than 3 months from that release date. Transpiled circuits should now be passed directly using `backend.run(circuits, **run_options).\n",
      "  return func(*args, **kwargs)\n"
     ]
    },
    {
     "name": "stdout",
     "output_type": "stream",
     "text": [
      "Target value:       \t1.6313\n",
      "Exact value:        \t2.1883\n",
      "Estimated value:    \t2.1831\n",
      "Confidence interval:\t[2.1223, 2.2439]\n",
      "32\n",
      "5\n",
      "執行時間：18.296875 秒\n"
     ]
    },
    {
     "name": "stderr",
     "output_type": "stream",
     "text": [
      "C:\\Users\\user\\anaconda3\\lib\\site-packages\\qiskit\\utils\\deprecation.py:62: DeprecationWarning: Using a qobj for run() is deprecated as of qiskit-aer 0.9.0 and will be removed no sooner than 3 months from that release date. Transpiled circuits should now be passed directly using `backend.run(circuits, **run_options).\n",
      "  return func(*args, **kwargs)\n"
     ]
    },
    {
     "name": "stdout",
     "output_type": "stream",
     "text": [
      "Target value:       \t1.6345\n",
      "Exact value:        \t4.8656\n",
      "Estimated value:    \t4.8251\n",
      "Confidence interval:\t[4.7685, 4.8818]\n",
      "33\n",
      "5\n",
      "執行時間：22.640625 秒\n"
     ]
    },
    {
     "name": "stderr",
     "output_type": "stream",
     "text": [
      "C:\\Users\\user\\anaconda3\\lib\\site-packages\\qiskit\\utils\\deprecation.py:62: DeprecationWarning: Using a qobj for run() is deprecated as of qiskit-aer 0.9.0 and will be removed no sooner than 3 months from that release date. Transpiled circuits should now be passed directly using `backend.run(circuits, **run_options).\n",
      "  return func(*args, **kwargs)\n"
     ]
    },
    {
     "name": "stdout",
     "output_type": "stream",
     "text": [
      "Target value:       \t1.6284\n",
      "Exact value:        \t1.4650\n",
      "Estimated value:    \t1.4759\n",
      "Confidence interval:\t[1.3673, 1.5844]\n",
      "34\n",
      "5\n",
      "執行時間：17.765625 秒\n"
     ]
    },
    {
     "name": "stderr",
     "output_type": "stream",
     "text": [
      "C:\\Users\\user\\anaconda3\\lib\\site-packages\\qiskit\\utils\\deprecation.py:62: DeprecationWarning: Using a qobj for run() is deprecated as of qiskit-aer 0.9.0 and will be removed no sooner than 3 months from that release date. Transpiled circuits should now be passed directly using `backend.run(circuits, **run_options).\n",
      "  return func(*args, **kwargs)\n"
     ]
    },
    {
     "name": "stdout",
     "output_type": "stream",
     "text": [
      "Target value:       \t1.6303\n",
      "Exact value:        \t1.6748\n",
      "Estimated value:    \t1.7024\n",
      "Confidence interval:\t[1.6701, 1.7346]\n",
      "35\n",
      "5\n",
      "執行時間：20.015625 秒\n"
     ]
    },
    {
     "name": "stderr",
     "output_type": "stream",
     "text": [
      "C:\\Users\\user\\anaconda3\\lib\\site-packages\\qiskit\\utils\\deprecation.py:62: DeprecationWarning: Using a qobj for run() is deprecated as of qiskit-aer 0.9.0 and will be removed no sooner than 3 months from that release date. Transpiled circuits should now be passed directly using `backend.run(circuits, **run_options).\n",
      "  return func(*args, **kwargs)\n"
     ]
    },
    {
     "name": "stdout",
     "output_type": "stream",
     "text": [
      "Target value:       \t1.6269\n",
      "Exact value:        \t2.7474\n",
      "Estimated value:    \t2.7327\n",
      "Confidence interval:\t[2.6829, 2.7825]\n",
      "36\n",
      "5\n",
      "執行時間：18.640625 秒\n"
     ]
    },
    {
     "name": "stderr",
     "output_type": "stream",
     "text": [
      "C:\\Users\\user\\anaconda3\\lib\\site-packages\\qiskit\\utils\\deprecation.py:62: DeprecationWarning: Using a qobj for run() is deprecated as of qiskit-aer 0.9.0 and will be removed no sooner than 3 months from that release date. Transpiled circuits should now be passed directly using `backend.run(circuits, **run_options).\n",
      "  return func(*args, **kwargs)\n"
     ]
    },
    {
     "name": "stdout",
     "output_type": "stream",
     "text": [
      "Target value:       \t1.6303\n",
      "Exact value:        \t1.1725\n",
      "Estimated value:    \t1.2076\n",
      "Confidence interval:\t[1.1663, 1.2489]\n",
      "37\n",
      "5\n",
      "執行時間：19.062500 秒\n"
     ]
    },
    {
     "name": "stderr",
     "output_type": "stream",
     "text": [
      "C:\\Users\\user\\anaconda3\\lib\\site-packages\\qiskit\\utils\\deprecation.py:62: DeprecationWarning: Using a qobj for run() is deprecated as of qiskit-aer 0.9.0 and will be removed no sooner than 3 months from that release date. Transpiled circuits should now be passed directly using `backend.run(circuits, **run_options).\n",
      "  return func(*args, **kwargs)\n"
     ]
    },
    {
     "name": "stdout",
     "output_type": "stream",
     "text": [
      "Target value:       \t1.6298\n",
      "Exact value:        \t0.4001\n",
      "Estimated value:    \t0.4555\n",
      "Confidence interval:\t[0.4083, 0.5027]\n",
      "38\n",
      "5\n",
      "執行時間：18.828125 秒\n"
     ]
    },
    {
     "name": "stderr",
     "output_type": "stream",
     "text": [
      "C:\\Users\\user\\anaconda3\\lib\\site-packages\\qiskit\\utils\\deprecation.py:62: DeprecationWarning: Using a qobj for run() is deprecated as of qiskit-aer 0.9.0 and will be removed no sooner than 3 months from that release date. Transpiled circuits should now be passed directly using `backend.run(circuits, **run_options).\n",
      "  return func(*args, **kwargs)\n"
     ]
    },
    {
     "name": "stdout",
     "output_type": "stream",
     "text": [
      "Target value:       \t1.6266\n",
      "Exact value:        \t1.5223\n",
      "Estimated value:    \t1.5222\n",
      "Confidence interval:\t[1.4859, 1.5584]\n",
      "39\n",
      "5\n",
      "執行時間：19.218750 秒\n"
     ]
    },
    {
     "name": "stderr",
     "output_type": "stream",
     "text": [
      "C:\\Users\\user\\anaconda3\\lib\\site-packages\\qiskit\\utils\\deprecation.py:62: DeprecationWarning: Using a qobj for run() is deprecated as of qiskit-aer 0.9.0 and will be removed no sooner than 3 months from that release date. Transpiled circuits should now be passed directly using `backend.run(circuits, **run_options).\n",
      "  return func(*args, **kwargs)\n"
     ]
    },
    {
     "name": "stdout",
     "output_type": "stream",
     "text": [
      "Target value:       \t1.6219\n",
      "Exact value:        \t0.8335\n",
      "Estimated value:    \t0.8355\n",
      "Confidence interval:\t[0.7875, 0.8836]\n",
      "40\n",
      "5\n",
      "執行時間：18.750000 秒\n"
     ]
    },
    {
     "name": "stderr",
     "output_type": "stream",
     "text": [
      "C:\\Users\\user\\anaconda3\\lib\\site-packages\\qiskit\\utils\\deprecation.py:62: DeprecationWarning: Using a qobj for run() is deprecated as of qiskit-aer 0.9.0 and will be removed no sooner than 3 months from that release date. Transpiled circuits should now be passed directly using `backend.run(circuits, **run_options).\n",
      "  return func(*args, **kwargs)\n"
     ]
    },
    {
     "name": "stdout",
     "output_type": "stream",
     "text": [
      "Target value:       \t1.6290\n",
      "Exact value:        \t1.1481\n",
      "Estimated value:    \t1.1963\n",
      "Confidence interval:\t[1.1606, 1.2320]\n",
      "41\n",
      "5\n",
      "執行時間：19.312500 秒\n"
     ]
    },
    {
     "name": "stderr",
     "output_type": "stream",
     "text": [
      "C:\\Users\\user\\anaconda3\\lib\\site-packages\\qiskit\\utils\\deprecation.py:62: DeprecationWarning: Using a qobj for run() is deprecated as of qiskit-aer 0.9.0 and will be removed no sooner than 3 months from that release date. Transpiled circuits should now be passed directly using `backend.run(circuits, **run_options).\n",
      "  return func(*args, **kwargs)\n"
     ]
    },
    {
     "name": "stdout",
     "output_type": "stream",
     "text": [
      "Target value:       \t1.6262\n",
      "Exact value:        \t0.4750\n",
      "Estimated value:    \t0.5256\n",
      "Confidence interval:\t[0.4782, 0.5729]\n",
      "42\n",
      "5\n",
      "執行時間：18.781250 秒\n"
     ]
    },
    {
     "name": "stderr",
     "output_type": "stream",
     "text": [
      "C:\\Users\\user\\anaconda3\\lib\\site-packages\\qiskit\\utils\\deprecation.py:62: DeprecationWarning: Using a qobj for run() is deprecated as of qiskit-aer 0.9.0 and will be removed no sooner than 3 months from that release date. Transpiled circuits should now be passed directly using `backend.run(circuits, **run_options).\n",
      "  return func(*args, **kwargs)\n"
     ]
    },
    {
     "name": "stdout",
     "output_type": "stream",
     "text": [
      "Target value:       \t1.6364\n",
      "Exact value:        \t0.4198\n",
      "Estimated value:    \t0.4662\n",
      "Confidence interval:\t[0.4258, 0.5066]\n",
      "43\n",
      "5\n",
      "執行時間：19.203125 秒\n"
     ]
    },
    {
     "name": "stderr",
     "output_type": "stream",
     "text": [
      "C:\\Users\\user\\anaconda3\\lib\\site-packages\\qiskit\\utils\\deprecation.py:62: DeprecationWarning: Using a qobj for run() is deprecated as of qiskit-aer 0.9.0 and will be removed no sooner than 3 months from that release date. Transpiled circuits should now be passed directly using `backend.run(circuits, **run_options).\n",
      "  return func(*args, **kwargs)\n"
     ]
    },
    {
     "name": "stdout",
     "output_type": "stream",
     "text": [
      "Target value:       \t1.6344\n",
      "Exact value:        \t3.3996\n",
      "Estimated value:    \t3.4017\n",
      "Confidence interval:\t[3.3236, 3.4798]\n",
      "44\n",
      "5\n",
      "執行時間：18.078125 秒\n"
     ]
    },
    {
     "name": "stderr",
     "output_type": "stream",
     "text": [
      "C:\\Users\\user\\anaconda3\\lib\\site-packages\\qiskit\\utils\\deprecation.py:62: DeprecationWarning: Using a qobj for run() is deprecated as of qiskit-aer 0.9.0 and will be removed no sooner than 3 months from that release date. Transpiled circuits should now be passed directly using `backend.run(circuits, **run_options).\n",
      "  return func(*args, **kwargs)\n"
     ]
    },
    {
     "name": "stdout",
     "output_type": "stream",
     "text": [
      "Target value:       \t1.6331\n",
      "Exact value:        \t1.9203\n",
      "Estimated value:    \t1.9592\n",
      "Confidence interval:\t[1.8983, 2.0200]\n",
      "45\n",
      "5\n",
      "執行時間：19.406250 秒\n"
     ]
    },
    {
     "name": "stderr",
     "output_type": "stream",
     "text": [
      "C:\\Users\\user\\anaconda3\\lib\\site-packages\\qiskit\\utils\\deprecation.py:62: DeprecationWarning: Using a qobj for run() is deprecated as of qiskit-aer 0.9.0 and will be removed no sooner than 3 months from that release date. Transpiled circuits should now be passed directly using `backend.run(circuits, **run_options).\n",
      "  return func(*args, **kwargs)\n"
     ]
    },
    {
     "name": "stdout",
     "output_type": "stream",
     "text": [
      "Target value:       \t1.6275\n",
      "Exact value:        \t2.1975\n",
      "Estimated value:    \t2.1989\n",
      "Confidence interval:\t[2.1491, 2.2487]\n",
      "46\n",
      "5\n",
      "執行時間：19.515625 秒\n"
     ]
    },
    {
     "name": "stderr",
     "output_type": "stream",
     "text": [
      "C:\\Users\\user\\anaconda3\\lib\\site-packages\\qiskit\\utils\\deprecation.py:62: DeprecationWarning: Using a qobj for run() is deprecated as of qiskit-aer 0.9.0 and will be removed no sooner than 3 months from that release date. Transpiled circuits should now be passed directly using `backend.run(circuits, **run_options).\n",
      "  return func(*args, **kwargs)\n"
     ]
    },
    {
     "name": "stdout",
     "output_type": "stream",
     "text": [
      "Target value:       \t1.6301\n",
      "Exact value:        \t0.0648\n",
      "Estimated value:    \t0.1246\n",
      "Confidence interval:\t[0.0681, 0.1810]\n",
      "47\n",
      "5\n",
      "執行時間：18.875000 秒\n"
     ]
    },
    {
     "name": "stderr",
     "output_type": "stream",
     "text": [
      "C:\\Users\\user\\anaconda3\\lib\\site-packages\\qiskit\\utils\\deprecation.py:62: DeprecationWarning: Using a qobj for run() is deprecated as of qiskit-aer 0.9.0 and will be removed no sooner than 3 months from that release date. Transpiled circuits should now be passed directly using `backend.run(circuits, **run_options).\n",
      "  return func(*args, **kwargs)\n"
     ]
    },
    {
     "name": "stdout",
     "output_type": "stream",
     "text": [
      "Target value:       \t1.6301\n",
      "Exact value:        \t0.4150\n",
      "Estimated value:    \t0.4868\n",
      "Confidence interval:\t[0.4396, 0.5341]\n",
      "48\n",
      "5\n",
      "執行時間：19.156250 秒\n"
     ]
    },
    {
     "name": "stderr",
     "output_type": "stream",
     "text": [
      "C:\\Users\\user\\anaconda3\\lib\\site-packages\\qiskit\\utils\\deprecation.py:62: DeprecationWarning: Using a qobj for run() is deprecated as of qiskit-aer 0.9.0 and will be removed no sooner than 3 months from that release date. Transpiled circuits should now be passed directly using `backend.run(circuits, **run_options).\n",
      "  return func(*args, **kwargs)\n"
     ]
    },
    {
     "name": "stdout",
     "output_type": "stream",
     "text": [
      "Target value:       \t1.6325\n",
      "Exact value:        \t2.5329\n",
      "Estimated value:    \t2.5486\n",
      "Confidence interval:\t[2.4988, 2.5984]\n",
      "49\n",
      "5\n",
      "執行時間：19.078125 秒\n"
     ]
    },
    {
     "name": "stderr",
     "output_type": "stream",
     "text": [
      "C:\\Users\\user\\anaconda3\\lib\\site-packages\\qiskit\\utils\\deprecation.py:62: DeprecationWarning: Using a qobj for run() is deprecated as of qiskit-aer 0.9.0 and will be removed no sooner than 3 months from that release date. Transpiled circuits should now be passed directly using `backend.run(circuits, **run_options).\n",
      "  return func(*args, **kwargs)\n"
     ]
    },
    {
     "name": "stdout",
     "output_type": "stream",
     "text": [
      "Target value:       \t1.6353\n",
      "Exact value:        \t3.2938\n",
      "Estimated value:    \t3.2787\n",
      "Confidence interval:\t[3.2007, 3.3568]\n",
      "50\n",
      "5\n",
      "執行時間：18.078125 秒\n"
     ]
    },
    {
     "name": "stderr",
     "output_type": "stream",
     "text": [
      "C:\\Users\\user\\anaconda3\\lib\\site-packages\\qiskit\\utils\\deprecation.py:62: DeprecationWarning: Using a qobj for run() is deprecated as of qiskit-aer 0.9.0 and will be removed no sooner than 3 months from that release date. Transpiled circuits should now be passed directly using `backend.run(circuits, **run_options).\n",
      "  return func(*args, **kwargs)\n"
     ]
    },
    {
     "name": "stdout",
     "output_type": "stream",
     "text": [
      "Target value:       \t1.6332\n",
      "Exact value:        \t0.9411\n",
      "Estimated value:    \t0.9643\n",
      "Confidence interval:\t[0.9159, 1.0126]\n",
      "51\n",
      "5\n",
      "執行時間：22.921875 秒\n"
     ]
    },
    {
     "name": "stderr",
     "output_type": "stream",
     "text": [
      "C:\\Users\\user\\anaconda3\\lib\\site-packages\\qiskit\\utils\\deprecation.py:62: DeprecationWarning: Using a qobj for run() is deprecated as of qiskit-aer 0.9.0 and will be removed no sooner than 3 months from that release date. Transpiled circuits should now be passed directly using `backend.run(circuits, **run_options).\n",
      "  return func(*args, **kwargs)\n"
     ]
    },
    {
     "name": "stdout",
     "output_type": "stream",
     "text": [
      "Target value:       \t1.6267\n",
      "Exact value:        \t0.5815\n",
      "Estimated value:    \t0.6176\n",
      "Confidence interval:\t[0.5700, 0.6651]\n",
      "52\n",
      "5\n",
      "執行時間：18.671875 秒\n"
     ]
    },
    {
     "name": "stderr",
     "output_type": "stream",
     "text": [
      "C:\\Users\\user\\anaconda3\\lib\\site-packages\\qiskit\\utils\\deprecation.py:62: DeprecationWarning: Using a qobj for run() is deprecated as of qiskit-aer 0.9.0 and will be removed no sooner than 3 months from that release date. Transpiled circuits should now be passed directly using `backend.run(circuits, **run_options).\n",
      "  return func(*args, **kwargs)\n"
     ]
    },
    {
     "name": "stdout",
     "output_type": "stream",
     "text": [
      "Target value:       \t1.6319\n",
      "Exact value:        \t0.4617\n",
      "Estimated value:    \t0.5010\n",
      "Confidence interval:\t[0.4537, 0.5483]\n",
      "53\n",
      "5\n",
      "執行時間：18.890625 秒\n"
     ]
    },
    {
     "name": "stderr",
     "output_type": "stream",
     "text": [
      "C:\\Users\\user\\anaconda3\\lib\\site-packages\\qiskit\\utils\\deprecation.py:62: DeprecationWarning: Using a qobj for run() is deprecated as of qiskit-aer 0.9.0 and will be removed no sooner than 3 months from that release date. Transpiled circuits should now be passed directly using `backend.run(circuits, **run_options).\n",
      "  return func(*args, **kwargs)\n"
     ]
    },
    {
     "name": "stdout",
     "output_type": "stream",
     "text": [
      "Target value:       \t1.6324\n",
      "Exact value:        \t0.4762\n",
      "Estimated value:    \t0.5092\n",
      "Confidence interval:\t[0.4619, 0.5565]\n",
      "54\n",
      "5\n",
      "執行時間：18.671875 秒\n"
     ]
    },
    {
     "name": "stderr",
     "output_type": "stream",
     "text": [
      "C:\\Users\\user\\anaconda3\\lib\\site-packages\\qiskit\\utils\\deprecation.py:62: DeprecationWarning: Using a qobj for run() is deprecated as of qiskit-aer 0.9.0 and will be removed no sooner than 3 months from that release date. Transpiled circuits should now be passed directly using `backend.run(circuits, **run_options).\n",
      "  return func(*args, **kwargs)\n"
     ]
    },
    {
     "name": "stdout",
     "output_type": "stream",
     "text": [
      "Target value:       \t1.6274\n",
      "Exact value:        \t0.9794\n",
      "Estimated value:    \t1.0118\n",
      "Confidence interval:\t[0.9762, 1.0473]\n",
      "55\n",
      "5\n",
      "執行時間：19.718750 秒\n"
     ]
    },
    {
     "name": "stderr",
     "output_type": "stream",
     "text": [
      "C:\\Users\\user\\anaconda3\\lib\\site-packages\\qiskit\\utils\\deprecation.py:62: DeprecationWarning: Using a qobj for run() is deprecated as of qiskit-aer 0.9.0 and will be removed no sooner than 3 months from that release date. Transpiled circuits should now be passed directly using `backend.run(circuits, **run_options).\n",
      "  return func(*args, **kwargs)\n"
     ]
    },
    {
     "name": "stdout",
     "output_type": "stream",
     "text": [
      "Target value:       \t1.6355\n",
      "Exact value:        \t3.3312\n",
      "Estimated value:    \t3.3893\n",
      "Confidence interval:\t[3.3278, 3.4508]\n",
      "56\n",
      "5\n",
      "執行時間：22.703125 秒\n"
     ]
    },
    {
     "name": "stderr",
     "output_type": "stream",
     "text": [
      "C:\\Users\\user\\anaconda3\\lib\\site-packages\\qiskit\\utils\\deprecation.py:62: DeprecationWarning: Using a qobj for run() is deprecated as of qiskit-aer 0.9.0 and will be removed no sooner than 3 months from that release date. Transpiled circuits should now be passed directly using `backend.run(circuits, **run_options).\n",
      "  return func(*args, **kwargs)\n"
     ]
    },
    {
     "name": "stdout",
     "output_type": "stream",
     "text": [
      "Target value:       \t1.6257\n",
      "Exact value:        \t2.1752\n",
      "Estimated value:    \t2.1737\n",
      "Confidence interval:\t[2.1129, 2.2345]\n",
      "57\n",
      "5\n",
      "執行時間：18.531250 秒\n"
     ]
    },
    {
     "name": "stderr",
     "output_type": "stream",
     "text": [
      "C:\\Users\\user\\anaconda3\\lib\\site-packages\\qiskit\\utils\\deprecation.py:62: DeprecationWarning: Using a qobj for run() is deprecated as of qiskit-aer 0.9.0 and will be removed no sooner than 3 months from that release date. Transpiled circuits should now be passed directly using `backend.run(circuits, **run_options).\n",
      "  return func(*args, **kwargs)\n"
     ]
    },
    {
     "name": "stdout",
     "output_type": "stream",
     "text": [
      "Target value:       \t1.6307\n",
      "Exact value:        \t0.3989\n",
      "Estimated value:    \t0.4272\n",
      "Confidence interval:\t[0.3800, 0.4743]\n",
      "58\n",
      "5\n",
      "執行時間：18.718750 秒\n"
     ]
    },
    {
     "name": "stderr",
     "output_type": "stream",
     "text": [
      "C:\\Users\\user\\anaconda3\\lib\\site-packages\\qiskit\\utils\\deprecation.py:62: DeprecationWarning: Using a qobj for run() is deprecated as of qiskit-aer 0.9.0 and will be removed no sooner than 3 months from that release date. Transpiled circuits should now be passed directly using `backend.run(circuits, **run_options).\n",
      "  return func(*args, **kwargs)\n"
     ]
    },
    {
     "name": "stdout",
     "output_type": "stream",
     "text": [
      "Target value:       \t1.6296\n",
      "Exact value:        \t2.9640\n",
      "Estimated value:    \t2.9398\n",
      "Confidence interval:\t[2.8616, 3.0179]\n",
      "59\n",
      "5\n",
      "執行時間：18.375000 秒\n"
     ]
    },
    {
     "name": "stderr",
     "output_type": "stream",
     "text": [
      "C:\\Users\\user\\anaconda3\\lib\\site-packages\\qiskit\\utils\\deprecation.py:62: DeprecationWarning: Using a qobj for run() is deprecated as of qiskit-aer 0.9.0 and will be removed no sooner than 3 months from that release date. Transpiled circuits should now be passed directly using `backend.run(circuits, **run_options).\n",
      "  return func(*args, **kwargs)\n"
     ]
    },
    {
     "name": "stdout",
     "output_type": "stream",
     "text": [
      "Target value:       \t1.6270\n",
      "Exact value:        \t0.4003\n",
      "Estimated value:    \t0.4583\n",
      "Confidence interval:\t[0.4006, 0.5159]\n",
      "60\n",
      "5\n",
      "執行時間：18.562500 秒\n"
     ]
    },
    {
     "name": "stderr",
     "output_type": "stream",
     "text": [
      "C:\\Users\\user\\anaconda3\\lib\\site-packages\\qiskit\\utils\\deprecation.py:62: DeprecationWarning: Using a qobj for run() is deprecated as of qiskit-aer 0.9.0 and will be removed no sooner than 3 months from that release date. Transpiled circuits should now be passed directly using `backend.run(circuits, **run_options).\n",
      "  return func(*args, **kwargs)\n"
     ]
    },
    {
     "name": "stdout",
     "output_type": "stream",
     "text": [
      "Target value:       \t1.6246\n",
      "Exact value:        \t2.3873\n",
      "Estimated value:    \t2.3842\n",
      "Confidence interval:\t[2.3477, 2.4207]\n",
      "61\n",
      "5\n",
      "執行時間：24.125000 秒\n"
     ]
    },
    {
     "name": "stderr",
     "output_type": "stream",
     "text": [
      "C:\\Users\\user\\anaconda3\\lib\\site-packages\\qiskit\\utils\\deprecation.py:62: DeprecationWarning: Using a qobj for run() is deprecated as of qiskit-aer 0.9.0 and will be removed no sooner than 3 months from that release date. Transpiled circuits should now be passed directly using `backend.run(circuits, **run_options).\n",
      "  return func(*args, **kwargs)\n"
     ]
    },
    {
     "name": "stdout",
     "output_type": "stream",
     "text": [
      "Target value:       \t1.6381\n",
      "Exact value:        \t0.7299\n",
      "Estimated value:    \t0.7901\n",
      "Confidence interval:\t[0.7422, 0.8381]\n",
      "62\n",
      "5\n",
      "執行時間：19.390625 秒\n"
     ]
    },
    {
     "name": "stderr",
     "output_type": "stream",
     "text": [
      "C:\\Users\\user\\anaconda3\\lib\\site-packages\\qiskit\\utils\\deprecation.py:62: DeprecationWarning: Using a qobj for run() is deprecated as of qiskit-aer 0.9.0 and will be removed no sooner than 3 months from that release date. Transpiled circuits should now be passed directly using `backend.run(circuits, **run_options).\n",
      "  return func(*args, **kwargs)\n"
     ]
    },
    {
     "name": "stdout",
     "output_type": "stream",
     "text": [
      "Target value:       \t1.6254\n",
      "Exact value:        \t2.8566\n",
      "Estimated value:    \t2.9033\n",
      "Confidence interval:\t[2.8251, 2.9814]\n",
      "63\n",
      "5\n",
      "執行時間：18.656250 秒\n"
     ]
    },
    {
     "name": "stderr",
     "output_type": "stream",
     "text": [
      "C:\\Users\\user\\anaconda3\\lib\\site-packages\\qiskit\\utils\\deprecation.py:62: DeprecationWarning: Using a qobj for run() is deprecated as of qiskit-aer 0.9.0 and will be removed no sooner than 3 months from that release date. Transpiled circuits should now be passed directly using `backend.run(circuits, **run_options).\n",
      "  return func(*args, **kwargs)\n"
     ]
    },
    {
     "name": "stdout",
     "output_type": "stream",
     "text": [
      "Target value:       \t1.6274\n",
      "Exact value:        \t0.4476\n",
      "Estimated value:    \t0.5092\n",
      "Confidence interval:\t[0.4619, 0.5565]\n",
      "64\n",
      "5\n",
      "執行時間：23.875000 秒\n"
     ]
    },
    {
     "name": "stderr",
     "output_type": "stream",
     "text": [
      "C:\\Users\\user\\anaconda3\\lib\\site-packages\\qiskit\\utils\\deprecation.py:62: DeprecationWarning: Using a qobj for run() is deprecated as of qiskit-aer 0.9.0 and will be removed no sooner than 3 months from that release date. Transpiled circuits should now be passed directly using `backend.run(circuits, **run_options).\n",
      "  return func(*args, **kwargs)\n"
     ]
    },
    {
     "name": "stdout",
     "output_type": "stream",
     "text": [
      "Target value:       \t1.6274\n",
      "Exact value:        \t0.8859\n",
      "Estimated value:    \t0.9013\n",
      "Confidence interval:\t[0.8605, 0.9421]\n",
      "65\n",
      "5\n",
      "執行時間：19.640625 秒\n"
     ]
    },
    {
     "name": "stderr",
     "output_type": "stream",
     "text": [
      "C:\\Users\\user\\anaconda3\\lib\\site-packages\\qiskit\\utils\\deprecation.py:62: DeprecationWarning: Using a qobj for run() is deprecated as of qiskit-aer 0.9.0 and will be removed no sooner than 3 months from that release date. Transpiled circuits should now be passed directly using `backend.run(circuits, **run_options).\n",
      "  return func(*args, **kwargs)\n"
     ]
    },
    {
     "name": "stdout",
     "output_type": "stream",
     "text": [
      "Target value:       \t1.6316\n",
      "Exact value:        \t1.7364\n",
      "Estimated value:    \t1.7572\n",
      "Confidence interval:\t[1.6962, 1.8183]\n",
      "66\n",
      "5\n",
      "執行時間：18.656250 秒\n"
     ]
    },
    {
     "name": "stderr",
     "output_type": "stream",
     "text": [
      "C:\\Users\\user\\anaconda3\\lib\\site-packages\\qiskit\\utils\\deprecation.py:62: DeprecationWarning: Using a qobj for run() is deprecated as of qiskit-aer 0.9.0 and will be removed no sooner than 3 months from that release date. Transpiled circuits should now be passed directly using `backend.run(circuits, **run_options).\n",
      "  return func(*args, **kwargs)\n"
     ]
    },
    {
     "name": "stdout",
     "output_type": "stream",
     "text": [
      "Target value:       \t1.6313\n",
      "Exact value:        \t2.5789\n",
      "Estimated value:    \t2.5945\n",
      "Confidence interval:\t[2.5523, 2.6366]\n",
      "67\n",
      "5\n",
      "執行時間：19.687500 秒\n"
     ]
    },
    {
     "name": "stderr",
     "output_type": "stream",
     "text": [
      "C:\\Users\\user\\anaconda3\\lib\\site-packages\\qiskit\\utils\\deprecation.py:62: DeprecationWarning: Using a qobj for run() is deprecated as of qiskit-aer 0.9.0 and will be removed no sooner than 3 months from that release date. Transpiled circuits should now be passed directly using `backend.run(circuits, **run_options).\n",
      "  return func(*args, **kwargs)\n"
     ]
    },
    {
     "name": "stdout",
     "output_type": "stream",
     "text": [
      "Target value:       \t1.6296\n",
      "Exact value:        \t3.1337\n",
      "Estimated value:    \t3.0969\n",
      "Confidence interval:\t[3.0189, 3.1750]\n",
      "68\n",
      "5\n",
      "執行時間：18.593750 秒\n"
     ]
    },
    {
     "name": "stderr",
     "output_type": "stream",
     "text": [
      "C:\\Users\\user\\anaconda3\\lib\\site-packages\\qiskit\\utils\\deprecation.py:62: DeprecationWarning: Using a qobj for run() is deprecated as of qiskit-aer 0.9.0 and will be removed no sooner than 3 months from that release date. Transpiled circuits should now be passed directly using `backend.run(circuits, **run_options).\n",
      "  return func(*args, **kwargs)\n"
     ]
    },
    {
     "name": "stdout",
     "output_type": "stream",
     "text": [
      "Target value:       \t1.6322\n",
      "Exact value:        \t0.1092\n",
      "Estimated value:    \t0.1836\n",
      "Confidence interval:\t[0.1536, 0.2136]\n",
      "69\n",
      "5\n",
      "執行時間：20.031250 秒\n"
     ]
    },
    {
     "name": "stderr",
     "output_type": "stream",
     "text": [
      "C:\\Users\\user\\anaconda3\\lib\\site-packages\\qiskit\\utils\\deprecation.py:62: DeprecationWarning: Using a qobj for run() is deprecated as of qiskit-aer 0.9.0 and will be removed no sooner than 3 months from that release date. Transpiled circuits should now be passed directly using `backend.run(circuits, **run_options).\n",
      "  return func(*args, **kwargs)\n"
     ]
    },
    {
     "name": "stdout",
     "output_type": "stream",
     "text": [
      "Target value:       \t1.6296\n",
      "Exact value:        \t2.8659\n",
      "Estimated value:    \t2.8393\n",
      "Confidence interval:\t[2.7971, 2.8815]\n",
      "70\n",
      "5\n",
      "執行時間：19.750000 秒\n"
     ]
    },
    {
     "name": "stderr",
     "output_type": "stream",
     "text": [
      "C:\\Users\\user\\anaconda3\\lib\\site-packages\\qiskit\\utils\\deprecation.py:62: DeprecationWarning: Using a qobj for run() is deprecated as of qiskit-aer 0.9.0 and will be removed no sooner than 3 months from that release date. Transpiled circuits should now be passed directly using `backend.run(circuits, **run_options).\n",
      "  return func(*args, **kwargs)\n"
     ]
    },
    {
     "name": "stdout",
     "output_type": "stream",
     "text": [
      "Target value:       \t1.6356\n",
      "Exact value:        \t2.8812\n",
      "Estimated value:    \t2.8843\n",
      "Confidence interval:\t[2.8234, 2.9451]\n",
      "71\n",
      "5\n",
      "執行時間：19.078125 秒\n"
     ]
    },
    {
     "name": "stderr",
     "output_type": "stream",
     "text": [
      "C:\\Users\\user\\anaconda3\\lib\\site-packages\\qiskit\\utils\\deprecation.py:62: DeprecationWarning: Using a qobj for run() is deprecated as of qiskit-aer 0.9.0 and will be removed no sooner than 3 months from that release date. Transpiled circuits should now be passed directly using `backend.run(circuits, **run_options).\n",
      "  return func(*args, **kwargs)\n"
     ]
    },
    {
     "name": "stdout",
     "output_type": "stream",
     "text": [
      "Target value:       \t1.6376\n",
      "Exact value:        \t2.2750\n",
      "Estimated value:    \t2.2871\n",
      "Confidence interval:\t[2.2449, 2.3292]\n",
      "72\n",
      "5\n",
      "執行時間：19.515625 秒\n"
     ]
    },
    {
     "name": "stderr",
     "output_type": "stream",
     "text": [
      "C:\\Users\\user\\anaconda3\\lib\\site-packages\\qiskit\\utils\\deprecation.py:62: DeprecationWarning: Using a qobj for run() is deprecated as of qiskit-aer 0.9.0 and will be removed no sooner than 3 months from that release date. Transpiled circuits should now be passed directly using `backend.run(circuits, **run_options).\n",
      "  return func(*args, **kwargs)\n"
     ]
    },
    {
     "name": "stdout",
     "output_type": "stream",
     "text": [
      "Target value:       \t1.6309\n",
      "Exact value:        \t2.8044\n",
      "Estimated value:    \t2.7661\n",
      "Confidence interval:\t[2.7052, 2.8269]\n",
      "73\n",
      "5\n",
      "執行時間：18.828125 秒\n"
     ]
    },
    {
     "name": "stderr",
     "output_type": "stream",
     "text": [
      "C:\\Users\\user\\anaconda3\\lib\\site-packages\\qiskit\\utils\\deprecation.py:62: DeprecationWarning: Using a qobj for run() is deprecated as of qiskit-aer 0.9.0 and will be removed no sooner than 3 months from that release date. Transpiled circuits should now be passed directly using `backend.run(circuits, **run_options).\n",
      "  return func(*args, **kwargs)\n"
     ]
    },
    {
     "name": "stdout",
     "output_type": "stream",
     "text": [
      "Target value:       \t1.6263\n",
      "Exact value:        \t1.7576\n",
      "Estimated value:    \t1.7712\n",
      "Confidence interval:\t[1.7102, 1.8322]\n",
      "74\n",
      "5\n",
      "執行時間：18.843750 秒\n"
     ]
    },
    {
     "name": "stderr",
     "output_type": "stream",
     "text": [
      "C:\\Users\\user\\anaconda3\\lib\\site-packages\\qiskit\\utils\\deprecation.py:62: DeprecationWarning: Using a qobj for run() is deprecated as of qiskit-aer 0.9.0 and will be removed no sooner than 3 months from that release date. Transpiled circuits should now be passed directly using `backend.run(circuits, **run_options).\n",
      "  return func(*args, **kwargs)\n"
     ]
    },
    {
     "name": "stdout",
     "output_type": "stream",
     "text": [
      "Target value:       \t1.6354\n",
      "Exact value:        \t3.0403\n",
      "Estimated value:    \t3.0292\n",
      "Confidence interval:\t[2.9684, 3.0901]\n",
      "75\n",
      "5\n",
      "執行時間：19.125000 秒\n"
     ]
    },
    {
     "name": "stderr",
     "output_type": "stream",
     "text": [
      "C:\\Users\\user\\anaconda3\\lib\\site-packages\\qiskit\\utils\\deprecation.py:62: DeprecationWarning: Using a qobj for run() is deprecated as of qiskit-aer 0.9.0 and will be removed no sooner than 3 months from that release date. Transpiled circuits should now be passed directly using `backend.run(circuits, **run_options).\n",
      "  return func(*args, **kwargs)\n"
     ]
    },
    {
     "name": "stdout",
     "output_type": "stream",
     "text": [
      "Target value:       \t1.6309\n",
      "Exact value:        \t2.8770\n",
      "Estimated value:    \t2.8940\n",
      "Confidence interval:\t[2.8518, 2.9362]\n",
      "76\n",
      "5\n",
      "執行時間：19.546875 秒\n"
     ]
    },
    {
     "name": "stderr",
     "output_type": "stream",
     "text": [
      "C:\\Users\\user\\anaconda3\\lib\\site-packages\\qiskit\\utils\\deprecation.py:62: DeprecationWarning: Using a qobj for run() is deprecated as of qiskit-aer 0.9.0 and will be removed no sooner than 3 months from that release date. Transpiled circuits should now be passed directly using `backend.run(circuits, **run_options).\n",
      "  return func(*args, **kwargs)\n"
     ]
    },
    {
     "name": "stdout",
     "output_type": "stream",
     "text": [
      "Target value:       \t1.6330\n",
      "Exact value:        \t2.5457\n",
      "Estimated value:    \t2.5245\n",
      "Confidence interval:\t[2.4823, 2.5666]\n",
      "77\n",
      "5\n",
      "執行時間：19.937500 秒\n"
     ]
    },
    {
     "name": "stderr",
     "output_type": "stream",
     "text": [
      "C:\\Users\\user\\anaconda3\\lib\\site-packages\\qiskit\\utils\\deprecation.py:62: DeprecationWarning: Using a qobj for run() is deprecated as of qiskit-aer 0.9.0 and will be removed no sooner than 3 months from that release date. Transpiled circuits should now be passed directly using `backend.run(circuits, **run_options).\n",
      "  return func(*args, **kwargs)\n"
     ]
    },
    {
     "name": "stdout",
     "output_type": "stream",
     "text": [
      "Target value:       \t1.6315\n",
      "Exact value:        \t2.9730\n",
      "Estimated value:    \t2.9686\n",
      "Confidence interval:\t[2.8905, 3.0468]\n",
      "78\n",
      "5\n",
      "執行時間：18.921875 秒\n"
     ]
    },
    {
     "name": "stderr",
     "output_type": "stream",
     "text": [
      "C:\\Users\\user\\anaconda3\\lib\\site-packages\\qiskit\\utils\\deprecation.py:62: DeprecationWarning: Using a qobj for run() is deprecated as of qiskit-aer 0.9.0 and will be removed no sooner than 3 months from that release date. Transpiled circuits should now be passed directly using `backend.run(circuits, **run_options).\n",
      "  return func(*args, **kwargs)\n"
     ]
    },
    {
     "name": "stdout",
     "output_type": "stream",
     "text": [
      "Target value:       \t1.6271\n",
      "Exact value:        \t3.8518\n",
      "Estimated value:    \t3.8119\n",
      "Confidence interval:\t[3.7804, 3.8435]\n",
      "79\n",
      "5\n",
      "執行時間：20.781250 秒\n"
     ]
    },
    {
     "name": "stderr",
     "output_type": "stream",
     "text": [
      "C:\\Users\\user\\anaconda3\\lib\\site-packages\\qiskit\\utils\\deprecation.py:62: DeprecationWarning: Using a qobj for run() is deprecated as of qiskit-aer 0.9.0 and will be removed no sooner than 3 months from that release date. Transpiled circuits should now be passed directly using `backend.run(circuits, **run_options).\n",
      "  return func(*args, **kwargs)\n"
     ]
    },
    {
     "name": "stdout",
     "output_type": "stream",
     "text": [
      "Target value:       \t1.6303\n",
      "Exact value:        \t1.4876\n",
      "Estimated value:    \t1.5040\n",
      "Confidence interval:\t[1.4678, 1.5402]\n",
      "80\n",
      "5\n",
      "執行時間：19.984375 秒\n"
     ]
    }
   ],
   "source": [
    "ep_list_1 = []\n",
    "ep_train_list_1 =[]\n",
    "estimate_list_1 = []\n",
    "times_list_1 = []\n",
    "in_ci_1 = 0\n",
    "run_time_1 = 0\n",
    "\n",
    "for times in range(1, 101):\n",
    "    \n",
    "    start = time.process_time()\n",
    "    \n",
    "    N = 1000\n",
    "    qubits_num = 3\n",
    "    num_epochs = 5\n",
    "    \n",
    "    data = []\n",
    "    data = pandas.read_csv(\"ttt.csv\", names=[\"price\"])\n",
    "    scaler = StandardScaler()\n",
    "    data_list = scaler.fit_transform(data)\n",
    "    data_arr = np.array(data_list)\n",
    "    actual_data = data_arr.astype(float)\n",
    "    \n",
    "    sigma,loc,scale = stats.lognorm.fit(actual_data)\n",
    "    estimated_mu = np.log(scale)\n",
    "    estimated_sigma = sigma\n",
    "    real_data = np.random.lognormal(mean=estimated_mu, sigma=estimated_sigma, size=N)\n",
    "\n",
    "    Dmin = real_data.min()\n",
    "    Dmax = real_data.max()\n",
    "    \n",
    "    load_num_qubits = [qubits_num]\n",
    "    k = len(load_num_qubits)\n",
    "    load_bounds = np.array([0, (2 ** load_num_qubits[0]) -1])\n",
    "\n",
    "    batch_size = int(N/num_epochs)\n",
    "    qgan = QGAN(real_data, load_bounds, load_num_qubits, batch_size, num_epochs, snapshot_dir=None)\n",
    "    qgan.seed = 11\n",
    "    quantum_instance = QuantumInstance(backend=BasicAer.get_backend('statevector_simulator'),\n",
    "                                   seed_transpiler=seed, seed_simulator=seed)\n",
    "\n",
    "    init_dist = UniformDistribution(sum(load_num_qubits))\n",
    "    ansatz = TwoLocal(int(np.sum(load_num_qubits)), 'ry', 'cz', 'linear', reps=1, insert_barriers=True)\n",
    "    init_params = np.random.rand(ansatz.num_parameters_settable) * 2 * np.pi\n",
    "    load_g_circuit = ansatz.compose(init_dist, front=True)\n",
    "\n",
    "    qgan.set_generator(generator_circuit=load_g_circuit, generator_init_params=init_params)\n",
    "    qgan._generator._free_parameters = sorted(load_g_circuit.parameters, key=lambda p: p.name)\n",
    "    discriminator = NumPyDiscriminator(len(load_num_qubits))\n",
    "    qgan.set_discriminator(discriminator)\n",
    "\n",
    "    result = qgan.run(quantum_instance)\n",
    "    \n",
    "    op_bounds = np.array([0 , (2 ** load_num_qubits[0]) -1])\n",
    "    op_num_qubits = load_num_qubits[0]\n",
    "    g_params = result['params_g']\n",
    "    init_dist = NormalDistribution(op_num_qubits, mu=estimated_mu, sigma=estimated_sigma, bounds=op_bounds)\n",
    "    var_form = TwoLocal(op_num_qubits, 'ry', 'cz', entanglement='circular', reps=1)\n",
    "    theta = var_form.ordered_parameters\n",
    "    op_g_circuit = init_dist.compose(var_form)\n",
    "\n",
    "    strike_price = 2\n",
    "    c_approx = 0.25\n",
    "    european_call_objective = EuropeanCallExpectedValue(\n",
    "        op_num_qubits,\n",
    "        strike_price=strike_price,\n",
    "        rescaling_factor=c_approx,\n",
    "        bounds=op_bounds\n",
    "    )\n",
    "    \n",
    "    values = [op_bounds[0] + (op_bounds[1] - op_bounds[0]) * x / (2 ** op_num_qubits - 1) for x in range(2**op_num_qubits)]\n",
    "    uncertainty_model = op_g_circuit.assign_parameters(dict(zip(theta, g_params)))\n",
    "    amplitudes = Statevector.from_instruction(uncertainty_model).data\n",
    "\n",
    "    x = np.array(values)\n",
    "    y = np.abs(amplitudes) ** 2\n",
    "\n",
    "    N = 100000\n",
    "    log_normal = np.random.lognormal(mean=estimated_mu, sigma=estimated_sigma, size=N)\n",
    "    log_normal = np.round(log_normal)\n",
    "    log_normal = log_normal[log_normal <= (2 ** op_num_qubits) -1]\n",
    "    log_normal_samples = []\n",
    "    for i in range(2 ** op_num_qubits):\n",
    "        log_normal_samples += [np.sum(log_normal==i)]\n",
    "    log_normal_samples = np.array(log_normal_samples / sum(log_normal_samples))\n",
    "\n",
    "    payoff = []\n",
    "    for i in range(2 ** op_num_qubits):\n",
    "        if i <= strike_price:\n",
    "            payoff.append(0)\n",
    "        else:\n",
    "            payoff.append(i - strike_price)\n",
    "    payoff = np.array(payoff)\n",
    "\n",
    "    ep = np.dot(log_normal_samples, payoff)\n",
    "    ep_trained = np.dot(y, payoff)\n",
    "    european_call = european_call_objective.compose(uncertainty_model, front=True)\n",
    "    epsilon = 0.01\n",
    "    alpha = 0.05\n",
    "\n",
    "    ae = IterativeAmplitudeEstimation(epsilon=epsilon, alpha=alpha,\n",
    "                                      state_preparation=european_call,\n",
    "                                      objective_qubits=[op_num_qubits],\n",
    "                                      post_processing=european_call_objective.post_processing)\n",
    "    END_result = ae.run(quantum_instance = Aer.get_backend('qasm_simulator'), shots = 1000)\n",
    "    \n",
    "    conf_int = np.array(END_result['confidence_interval'])\n",
    "    print('Target value:       \\t%.4f' % ep)\n",
    "    print('Exact value:        \\t%.4f' % ep_trained)\n",
    "    print('Estimated value:    \\t%.4f' % (END_result['estimation']))\n",
    "    print('Confidence interval:\\t[%.4f, %.4f]' % tuple(conf_int))\n",
    "    print(times)\n",
    "    print(num_epochs)\n",
    "    end = time.process_time()\n",
    "    print(\"執行時間：%f 秒\" % (end - start))\n",
    "\n",
    "    if conf_int[0] <= ep <= conf_int[1]:\n",
    "        in_ci_1 += 1\n",
    "        \n",
    "    run_time_1 += (end - start)\n",
    "    ep_list_1.append(ep)\n",
    "    ep_train_list_1.append(ep_trained)\n",
    "    estimate_list_1.append((END_result['estimation']))\n",
    "    times_list_1.append(times)"
   ]
  },
  {
   "cell_type": "code",
   "execution_count": 9,
   "id": "c6b1497b",
   "metadata": {},
   "outputs": [
    {
     "name": "stderr",
     "output_type": "stream",
     "text": [
      "C:\\Users\\user\\anaconda3\\lib\\site-packages\\qiskit\\utils\\deprecation.py:62: DeprecationWarning: Using a qobj for run() is deprecated as of qiskit-aer 0.9.0 and will be removed no sooner than 3 months from that release date. Transpiled circuits should now be passed directly using `backend.run(circuits, **run_options).\n",
      "  return func(*args, **kwargs)\n"
     ]
    },
    {
     "name": "stdout",
     "output_type": "stream",
     "text": [
      "Target value:       \t1.6275\n",
      "Exact value:        \t1.8140\n",
      "Estimated value:    \t1.8677\n",
      "Confidence interval:\t[1.7585, 1.9768]\n",
      "1\n",
      "10\n",
      "執行時間：75.500000 秒\n"
     ]
    },
    {
     "name": "stderr",
     "output_type": "stream",
     "text": [
      "C:\\Users\\user\\anaconda3\\lib\\site-packages\\qiskit\\utils\\deprecation.py:62: DeprecationWarning: Using a qobj for run() is deprecated as of qiskit-aer 0.9.0 and will be removed no sooner than 3 months from that release date. Transpiled circuits should now be passed directly using `backend.run(circuits, **run_options).\n",
      "  return func(*args, **kwargs)\n"
     ]
    },
    {
     "name": "stdout",
     "output_type": "stream",
     "text": [
      "Target value:       \t1.6297\n",
      "Exact value:        \t4.0937\n",
      "Estimated value:    \t4.0738\n",
      "Confidence interval:\t[4.0383, 4.1092]\n",
      "2\n",
      "10\n",
      "執行時間：75.765625 秒\n"
     ]
    },
    {
     "name": "stderr",
     "output_type": "stream",
     "text": [
      "C:\\Users\\user\\anaconda3\\lib\\site-packages\\qiskit\\utils\\deprecation.py:62: DeprecationWarning: Using a qobj for run() is deprecated as of qiskit-aer 0.9.0 and will be removed no sooner than 3 months from that release date. Transpiled circuits should now be passed directly using `backend.run(circuits, **run_options).\n",
      "  return func(*args, **kwargs)\n"
     ]
    },
    {
     "name": "stdout",
     "output_type": "stream",
     "text": [
      "Target value:       \t1.6288\n",
      "Exact value:        \t1.7063\n",
      "Estimated value:    \t1.6463\n",
      "Confidence interval:\t[1.5375, 1.7551]\n",
      "3\n",
      "10\n",
      "執行時間：75.718750 秒\n"
     ]
    },
    {
     "name": "stderr",
     "output_type": "stream",
     "text": [
      "C:\\Users\\user\\anaconda3\\lib\\site-packages\\qiskit\\utils\\deprecation.py:62: DeprecationWarning: Using a qobj for run() is deprecated as of qiskit-aer 0.9.0 and will be removed no sooner than 3 months from that release date. Transpiled circuits should now be passed directly using `backend.run(circuits, **run_options).\n",
      "  return func(*args, **kwargs)\n"
     ]
    },
    {
     "name": "stdout",
     "output_type": "stream",
     "text": [
      "Target value:       \t1.6335\n",
      "Exact value:        \t1.5751\n",
      "Estimated value:    \t1.6495\n",
      "Confidence interval:\t[1.5407, 1.7583]\n",
      "4\n",
      "10\n",
      "執行時間：73.671875 秒\n"
     ]
    },
    {
     "name": "stderr",
     "output_type": "stream",
     "text": [
      "C:\\Users\\user\\anaconda3\\lib\\site-packages\\qiskit\\utils\\deprecation.py:62: DeprecationWarning: Using a qobj for run() is deprecated as of qiskit-aer 0.9.0 and will be removed no sooner than 3 months from that release date. Transpiled circuits should now be passed directly using `backend.run(circuits, **run_options).\n",
      "  return func(*args, **kwargs)\n"
     ]
    },
    {
     "name": "stdout",
     "output_type": "stream",
     "text": [
      "Target value:       \t1.6314\n",
      "Exact value:        \t3.7601\n",
      "Estimated value:    \t3.7125\n",
      "Confidence interval:\t[3.6809, 3.7441]\n",
      "5\n",
      "10\n",
      "執行時間：75.734375 秒\n"
     ]
    },
    {
     "name": "stderr",
     "output_type": "stream",
     "text": [
      "C:\\Users\\user\\anaconda3\\lib\\site-packages\\qiskit\\utils\\deprecation.py:62: DeprecationWarning: Using a qobj for run() is deprecated as of qiskit-aer 0.9.0 and will be removed no sooner than 3 months from that release date. Transpiled circuits should now be passed directly using `backend.run(circuits, **run_options).\n",
      "  return func(*args, **kwargs)\n"
     ]
    },
    {
     "name": "stdout",
     "output_type": "stream",
     "text": [
      "Target value:       \t1.6291\n",
      "Exact value:        \t1.1491\n",
      "Estimated value:    \t1.1432\n",
      "Confidence interval:\t[1.1076, 1.1789]\n",
      "6\n",
      "10\n",
      "執行時間：75.093750 秒\n"
     ]
    },
    {
     "name": "stderr",
     "output_type": "stream",
     "text": [
      "C:\\Users\\user\\anaconda3\\lib\\site-packages\\qiskit\\utils\\deprecation.py:62: DeprecationWarning: Using a qobj for run() is deprecated as of qiskit-aer 0.9.0 and will be removed no sooner than 3 months from that release date. Transpiled circuits should now be passed directly using `backend.run(circuits, **run_options).\n",
      "  return func(*args, **kwargs)\n"
     ]
    },
    {
     "name": "stdout",
     "output_type": "stream",
     "text": [
      "Target value:       \t1.6350\n",
      "Exact value:        \t3.2532\n",
      "Estimated value:    \t3.1877\n",
      "Confidence interval:\t[3.0787, 3.2967]\n",
      "7\n",
      "10\n",
      "執行時間：73.500000 秒\n"
     ]
    },
    {
     "name": "stderr",
     "output_type": "stream",
     "text": [
      "C:\\Users\\user\\anaconda3\\lib\\site-packages\\qiskit\\utils\\deprecation.py:62: DeprecationWarning: Using a qobj for run() is deprecated as of qiskit-aer 0.9.0 and will be removed no sooner than 3 months from that release date. Transpiled circuits should now be passed directly using `backend.run(circuits, **run_options).\n",
      "  return func(*args, **kwargs)\n"
     ]
    },
    {
     "name": "stdout",
     "output_type": "stream",
     "text": [
      "Target value:       \t1.6326\n",
      "Exact value:        \t0.3340\n",
      "Estimated value:    \t0.3837\n",
      "Confidence interval:\t[0.3367, 0.4308]\n",
      "8\n",
      "10\n",
      "執行時間：75.890625 秒\n"
     ]
    },
    {
     "name": "stderr",
     "output_type": "stream",
     "text": [
      "C:\\Users\\user\\anaconda3\\lib\\site-packages\\qiskit\\utils\\deprecation.py:62: DeprecationWarning: Using a qobj for run() is deprecated as of qiskit-aer 0.9.0 and will be removed no sooner than 3 months from that release date. Transpiled circuits should now be passed directly using `backend.run(circuits, **run_options).\n",
      "  return func(*args, **kwargs)\n"
     ]
    },
    {
     "name": "stdout",
     "output_type": "stream",
     "text": [
      "Target value:       \t1.6331\n",
      "Exact value:        \t3.0147\n",
      "Estimated value:    \t3.0216\n",
      "Confidence interval:\t[2.9717, 3.0715]\n",
      "9\n",
      "10\n",
      "執行時間：75.593750 秒\n"
     ]
    },
    {
     "name": "stderr",
     "output_type": "stream",
     "text": [
      "C:\\Users\\user\\anaconda3\\lib\\site-packages\\qiskit\\utils\\deprecation.py:62: DeprecationWarning: Using a qobj for run() is deprecated as of qiskit-aer 0.9.0 and will be removed no sooner than 3 months from that release date. Transpiled circuits should now be passed directly using `backend.run(circuits, **run_options).\n",
      "  return func(*args, **kwargs)\n"
     ]
    },
    {
     "name": "stdout",
     "output_type": "stream",
     "text": [
      "Target value:       \t1.6316\n",
      "Exact value:        \t2.7223\n",
      "Estimated value:    \t2.7331\n",
      "Confidence interval:\t[2.6549, 2.8113]\n",
      "10\n",
      "10\n",
      "執行時間：74.687500 秒\n"
     ]
    },
    {
     "name": "stderr",
     "output_type": "stream",
     "text": [
      "C:\\Users\\user\\anaconda3\\lib\\site-packages\\qiskit\\utils\\deprecation.py:62: DeprecationWarning: Using a qobj for run() is deprecated as of qiskit-aer 0.9.0 and will be removed no sooner than 3 months from that release date. Transpiled circuits should now be passed directly using `backend.run(circuits, **run_options).\n",
      "  return func(*args, **kwargs)\n"
     ]
    },
    {
     "name": "stdout",
     "output_type": "stream",
     "text": [
      "Target value:       \t1.6329\n",
      "Exact value:        \t1.2863\n",
      "Estimated value:    \t1.3031\n",
      "Confidence interval:\t[1.2617, 1.3446]\n",
      "11\n",
      "10\n",
      "執行時間：75.609375 秒\n"
     ]
    },
    {
     "name": "stderr",
     "output_type": "stream",
     "text": [
      "C:\\Users\\user\\anaconda3\\lib\\site-packages\\qiskit\\utils\\deprecation.py:62: DeprecationWarning: Using a qobj for run() is deprecated as of qiskit-aer 0.9.0 and will be removed no sooner than 3 months from that release date. Transpiled circuits should now be passed directly using `backend.run(circuits, **run_options).\n",
      "  return func(*args, **kwargs)\n"
     ]
    },
    {
     "name": "stdout",
     "output_type": "stream",
     "text": [
      "Target value:       \t1.6261\n",
      "Exact value:        \t3.3521\n",
      "Estimated value:    \t3.3285\n",
      "Confidence interval:\t[3.2673, 3.3898]\n",
      "12\n",
      "10\n",
      "執行時間：76.218750 秒\n"
     ]
    },
    {
     "name": "stderr",
     "output_type": "stream",
     "text": [
      "C:\\Users\\user\\anaconda3\\lib\\site-packages\\qiskit\\utils\\deprecation.py:62: DeprecationWarning: Using a qobj for run() is deprecated as of qiskit-aer 0.9.0 and will be removed no sooner than 3 months from that release date. Transpiled circuits should now be passed directly using `backend.run(circuits, **run_options).\n",
      "  return func(*args, **kwargs)\n"
     ]
    },
    {
     "name": "stdout",
     "output_type": "stream",
     "text": [
      "Target value:       \t1.6292\n",
      "Exact value:        \t3.6889\n",
      "Estimated value:    \t3.6900\n",
      "Confidence interval:\t[3.6542, 3.7259]\n",
      "13\n",
      "10\n",
      "執行時間：76.578125 秒\n"
     ]
    },
    {
     "name": "stderr",
     "output_type": "stream",
     "text": [
      "C:\\Users\\user\\anaconda3\\lib\\site-packages\\qiskit\\utils\\deprecation.py:62: DeprecationWarning: Using a qobj for run() is deprecated as of qiskit-aer 0.9.0 and will be removed no sooner than 3 months from that release date. Transpiled circuits should now be passed directly using `backend.run(circuits, **run_options).\n",
      "  return func(*args, **kwargs)\n"
     ]
    },
    {
     "name": "stdout",
     "output_type": "stream",
     "text": [
      "Target value:       \t1.6320\n",
      "Exact value:        \t1.3688\n",
      "Estimated value:    \t1.4073\n",
      "Confidence interval:\t[1.3656, 1.4491]\n",
      "14\n",
      "10\n",
      "執行時間：75.531250 秒\n"
     ]
    },
    {
     "name": "stderr",
     "output_type": "stream",
     "text": [
      "C:\\Users\\user\\anaconda3\\lib\\site-packages\\qiskit\\utils\\deprecation.py:62: DeprecationWarning: Using a qobj for run() is deprecated as of qiskit-aer 0.9.0 and will be removed no sooner than 3 months from that release date. Transpiled circuits should now be passed directly using `backend.run(circuits, **run_options).\n",
      "  return func(*args, **kwargs)\n"
     ]
    },
    {
     "name": "stdout",
     "output_type": "stream",
     "text": [
      "Target value:       \t1.6285\n",
      "Exact value:        \t2.8565\n",
      "Estimated value:    \t2.8687\n",
      "Confidence interval:\t[2.8188, 2.9185]\n",
      "15\n",
      "10\n",
      "執行時間：75.187500 秒\n"
     ]
    },
    {
     "name": "stderr",
     "output_type": "stream",
     "text": [
      "C:\\Users\\user\\anaconda3\\lib\\site-packages\\qiskit\\utils\\deprecation.py:62: DeprecationWarning: Using a qobj for run() is deprecated as of qiskit-aer 0.9.0 and will be removed no sooner than 3 months from that release date. Transpiled circuits should now be passed directly using `backend.run(circuits, **run_options).\n",
      "  return func(*args, **kwargs)\n"
     ]
    },
    {
     "name": "stdout",
     "output_type": "stream",
     "text": [
      "Target value:       \t1.6331\n",
      "Exact value:        \t3.5263\n",
      "Estimated value:    \t3.5235\n",
      "Confidence interval:\t[3.4453, 3.6018]\n",
      "16\n",
      "10\n",
      "執行時間：75.234375 秒\n"
     ]
    },
    {
     "name": "stderr",
     "output_type": "stream",
     "text": [
      "C:\\Users\\user\\anaconda3\\lib\\site-packages\\qiskit\\utils\\deprecation.py:62: DeprecationWarning: Using a qobj for run() is deprecated as of qiskit-aer 0.9.0 and will be removed no sooner than 3 months from that release date. Transpiled circuits should now be passed directly using `backend.run(circuits, **run_options).\n",
      "  return func(*args, **kwargs)\n"
     ]
    },
    {
     "name": "stdout",
     "output_type": "stream",
     "text": [
      "Target value:       \t1.6322\n",
      "Exact value:        \t1.5598\n",
      "Estimated value:    \t1.6170\n",
      "Confidence interval:\t[1.5083, 1.7258]\n",
      "17\n",
      "10\n",
      "執行時間：74.875000 秒\n"
     ]
    },
    {
     "name": "stderr",
     "output_type": "stream",
     "text": [
      "C:\\Users\\user\\anaconda3\\lib\\site-packages\\qiskit\\utils\\deprecation.py:62: DeprecationWarning: Using a qobj for run() is deprecated as of qiskit-aer 0.9.0 and will be removed no sooner than 3 months from that release date. Transpiled circuits should now be passed directly using `backend.run(circuits, **run_options).\n",
      "  return func(*args, **kwargs)\n"
     ]
    },
    {
     "name": "stdout",
     "output_type": "stream",
     "text": [
      "Target value:       \t1.6331\n",
      "Exact value:        \t0.5287\n",
      "Estimated value:    \t0.5861\n",
      "Confidence interval:\t[0.5387, 0.6336]\n",
      "18\n",
      "10\n",
      "執行時間：75.750000 秒\n"
     ]
    },
    {
     "name": "stderr",
     "output_type": "stream",
     "text": [
      "C:\\Users\\user\\anaconda3\\lib\\site-packages\\qiskit\\utils\\deprecation.py:62: DeprecationWarning: Using a qobj for run() is deprecated as of qiskit-aer 0.9.0 and will be removed no sooner than 3 months from that release date. Transpiled circuits should now be passed directly using `backend.run(circuits, **run_options).\n",
      "  return func(*args, **kwargs)\n"
     ]
    },
    {
     "name": "stdout",
     "output_type": "stream",
     "text": [
      "Target value:       \t1.6306\n",
      "Exact value:        \t1.7053\n",
      "Estimated value:    \t1.7127\n",
      "Confidence interval:\t[1.6756, 1.7497]\n",
      "19\n",
      "10\n",
      "執行時間：76.390625 秒\n"
     ]
    },
    {
     "name": "stderr",
     "output_type": "stream",
     "text": [
      "C:\\Users\\user\\anaconda3\\lib\\site-packages\\qiskit\\utils\\deprecation.py:62: DeprecationWarning: Using a qobj for run() is deprecated as of qiskit-aer 0.9.0 and will be removed no sooner than 3 months from that release date. Transpiled circuits should now be passed directly using `backend.run(circuits, **run_options).\n",
      "  return func(*args, **kwargs)\n"
     ]
    },
    {
     "name": "stdout",
     "output_type": "stream",
     "text": [
      "Target value:       \t1.6314\n",
      "Exact value:        \t2.3146\n",
      "Estimated value:    \t2.2811\n",
      "Confidence interval:\t[2.2313, 2.3308]\n",
      "20\n",
      "10\n",
      "執行時間：76.921875 秒\n"
     ]
    },
    {
     "name": "stderr",
     "output_type": "stream",
     "text": [
      "C:\\Users\\user\\anaconda3\\lib\\site-packages\\qiskit\\utils\\deprecation.py:62: DeprecationWarning: Using a qobj for run() is deprecated as of qiskit-aer 0.9.0 and will be removed no sooner than 3 months from that release date. Transpiled circuits should now be passed directly using `backend.run(circuits, **run_options).\n",
      "  return func(*args, **kwargs)\n"
     ]
    },
    {
     "name": "stdout",
     "output_type": "stream",
     "text": [
      "Target value:       \t1.6270\n",
      "Exact value:        \t2.2646\n",
      "Estimated value:    \t2.2937\n",
      "Confidence interval:\t[2.2329, 2.3546]\n",
      "21\n",
      "10\n",
      "執行時間：75.265625 秒\n"
     ]
    },
    {
     "name": "stderr",
     "output_type": "stream",
     "text": [
      "C:\\Users\\user\\anaconda3\\lib\\site-packages\\qiskit\\utils\\deprecation.py:62: DeprecationWarning: Using a qobj for run() is deprecated as of qiskit-aer 0.9.0 and will be removed no sooner than 3 months from that release date. Transpiled circuits should now be passed directly using `backend.run(circuits, **run_options).\n",
      "  return func(*args, **kwargs)\n"
     ]
    },
    {
     "name": "stdout",
     "output_type": "stream",
     "text": [
      "Target value:       \t1.6318\n",
      "Exact value:        \t0.0397\n",
      "Estimated value:    \t0.0992\n",
      "Confidence interval:\t[0.0525, 0.1459]\n",
      "22\n",
      "10\n",
      "執行時間：75.500000 秒\n"
     ]
    },
    {
     "name": "stderr",
     "output_type": "stream",
     "text": [
      "C:\\Users\\user\\anaconda3\\lib\\site-packages\\qiskit\\utils\\deprecation.py:62: DeprecationWarning: Using a qobj for run() is deprecated as of qiskit-aer 0.9.0 and will be removed no sooner than 3 months from that release date. Transpiled circuits should now be passed directly using `backend.run(circuits, **run_options).\n",
      "  return func(*args, **kwargs)\n"
     ]
    },
    {
     "name": "stdout",
     "output_type": "stream",
     "text": [
      "Target value:       \t1.6249\n",
      "Exact value:        \t4.1169\n",
      "Estimated value:    \t4.0653\n",
      "Confidence interval:\t[4.0245, 4.1061]\n",
      "23\n",
      "10\n",
      "執行時間：75.765625 秒\n"
     ]
    },
    {
     "name": "stderr",
     "output_type": "stream",
     "text": [
      "C:\\Users\\user\\anaconda3\\lib\\site-packages\\qiskit\\utils\\deprecation.py:62: DeprecationWarning: Using a qobj for run() is deprecated as of qiskit-aer 0.9.0 and will be removed no sooner than 3 months from that release date. Transpiled circuits should now be passed directly using `backend.run(circuits, **run_options).\n",
      "  return func(*args, **kwargs)\n"
     ]
    },
    {
     "name": "stdout",
     "output_type": "stream",
     "text": [
      "Target value:       \t1.6265\n",
      "Exact value:        \t2.0544\n",
      "Estimated value:    \t2.0669\n",
      "Confidence interval:\t[2.0061, 2.1278]\n",
      "24\n",
      "10\n",
      "執行時間：75.500000 秒\n"
     ]
    },
    {
     "name": "stderr",
     "output_type": "stream",
     "text": [
      "C:\\Users\\user\\anaconda3\\lib\\site-packages\\qiskit\\utils\\deprecation.py:62: DeprecationWarning: Using a qobj for run() is deprecated as of qiskit-aer 0.9.0 and will be removed no sooner than 3 months from that release date. Transpiled circuits should now be passed directly using `backend.run(circuits, **run_options).\n",
      "  return func(*args, **kwargs)\n"
     ]
    },
    {
     "name": "stdout",
     "output_type": "stream",
     "text": [
      "Target value:       \t1.6276\n",
      "Exact value:        \t2.0912\n",
      "Estimated value:    \t2.0857\n",
      "Confidence interval:\t[2.0490, 2.1224]\n",
      "25\n",
      "10\n",
      "執行時間：76.828125 秒\n"
     ]
    },
    {
     "name": "stderr",
     "output_type": "stream",
     "text": [
      "C:\\Users\\user\\anaconda3\\lib\\site-packages\\qiskit\\utils\\deprecation.py:62: DeprecationWarning: Using a qobj for run() is deprecated as of qiskit-aer 0.9.0 and will be removed no sooner than 3 months from that release date. Transpiled circuits should now be passed directly using `backend.run(circuits, **run_options).\n",
      "  return func(*args, **kwargs)\n"
     ]
    },
    {
     "name": "stdout",
     "output_type": "stream",
     "text": [
      "Target value:       \t1.6250\n",
      "Exact value:        \t4.1455\n",
      "Estimated value:    \t4.1145\n",
      "Confidence interval:\t[4.0664, 4.1627]\n",
      "26\n",
      "10\n",
      "執行時間：76.765625 秒\n"
     ]
    },
    {
     "name": "stderr",
     "output_type": "stream",
     "text": [
      "C:\\Users\\user\\anaconda3\\lib\\site-packages\\qiskit\\utils\\deprecation.py:62: DeprecationWarning: Using a qobj for run() is deprecated as of qiskit-aer 0.9.0 and will be removed no sooner than 3 months from that release date. Transpiled circuits should now be passed directly using `backend.run(circuits, **run_options).\n",
      "  return func(*args, **kwargs)\n"
     ]
    },
    {
     "name": "stdout",
     "output_type": "stream",
     "text": [
      "Target value:       \t1.6274\n",
      "Exact value:        \t0.5001\n",
      "Estimated value:    \t0.5737\n",
      "Confidence interval:\t[0.5262, 0.6211]\n",
      "27\n",
      "10\n",
      "執行時間：76.250000 秒\n"
     ]
    },
    {
     "name": "stderr",
     "output_type": "stream",
     "text": [
      "C:\\Users\\user\\anaconda3\\lib\\site-packages\\qiskit\\utils\\deprecation.py:62: DeprecationWarning: Using a qobj for run() is deprecated as of qiskit-aer 0.9.0 and will be removed no sooner than 3 months from that release date. Transpiled circuits should now be passed directly using `backend.run(circuits, **run_options).\n",
      "  return func(*args, **kwargs)\n"
     ]
    },
    {
     "name": "stdout",
     "output_type": "stream",
     "text": [
      "Target value:       \t1.6244\n",
      "Exact value:        \t2.7807\n",
      "Estimated value:    \t2.7865\n",
      "Confidence interval:\t[2.7499, 2.8230]\n",
      "28\n",
      "10\n",
      "執行時間：76.484375 秒\n"
     ]
    },
    {
     "name": "stderr",
     "output_type": "stream",
     "text": [
      "C:\\Users\\user\\anaconda3\\lib\\site-packages\\qiskit\\utils\\deprecation.py:62: DeprecationWarning: Using a qobj for run() is deprecated as of qiskit-aer 0.9.0 and will be removed no sooner than 3 months from that release date. Transpiled circuits should now be passed directly using `backend.run(circuits, **run_options).\n",
      "  return func(*args, **kwargs)\n"
     ]
    },
    {
     "name": "stdout",
     "output_type": "stream",
     "text": [
      "Target value:       \t1.6277\n",
      "Exact value:        \t3.0542\n",
      "Estimated value:    \t3.0811\n",
      "Confidence interval:\t[3.0030, 3.1591]\n",
      "29\n",
      "10\n",
      "執行時間：75.015625 秒\n"
     ]
    },
    {
     "name": "stderr",
     "output_type": "stream",
     "text": [
      "C:\\Users\\user\\anaconda3\\lib\\site-packages\\qiskit\\utils\\deprecation.py:62: DeprecationWarning: Using a qobj for run() is deprecated as of qiskit-aer 0.9.0 and will be removed no sooner than 3 months from that release date. Transpiled circuits should now be passed directly using `backend.run(circuits, **run_options).\n",
      "  return func(*args, **kwargs)\n"
     ]
    },
    {
     "name": "stdout",
     "output_type": "stream",
     "text": [
      "Target value:       \t1.6280\n",
      "Exact value:        \t2.8962\n",
      "Estimated value:    \t2.8909\n",
      "Confidence interval:\t[2.8300, 2.9517]\n",
      "30\n",
      "10\n",
      "執行時間：75.484375 秒\n"
     ]
    },
    {
     "name": "stderr",
     "output_type": "stream",
     "text": [
      "C:\\Users\\user\\anaconda3\\lib\\site-packages\\qiskit\\utils\\deprecation.py:62: DeprecationWarning: Using a qobj for run() is deprecated as of qiskit-aer 0.9.0 and will be removed no sooner than 3 months from that release date. Transpiled circuits should now be passed directly using `backend.run(circuits, **run_options).\n",
      "  return func(*args, **kwargs)\n"
     ]
    },
    {
     "name": "stdout",
     "output_type": "stream",
     "text": [
      "Target value:       \t1.6318\n",
      "Exact value:        \t3.5081\n",
      "Estimated value:    \t3.5025\n",
      "Confidence interval:\t[3.3939, 3.6111]\n",
      "31\n",
      "10\n",
      "執行時間：75.140625 秒\n"
     ]
    },
    {
     "name": "stderr",
     "output_type": "stream",
     "text": [
      "C:\\Users\\user\\anaconda3\\lib\\site-packages\\qiskit\\utils\\deprecation.py:62: DeprecationWarning: Using a qobj for run() is deprecated as of qiskit-aer 0.9.0 and will be removed no sooner than 3 months from that release date. Transpiled circuits should now be passed directly using `backend.run(circuits, **run_options).\n",
      "  return func(*args, **kwargs)\n"
     ]
    },
    {
     "name": "stdout",
     "output_type": "stream",
     "text": [
      "Target value:       \t1.6293\n",
      "Exact value:        \t0.8130\n",
      "Estimated value:    \t0.8609\n",
      "Confidence interval:\t[0.8128, 0.9090]\n",
      "32\n",
      "10\n",
      "執行時間：76.156250 秒\n"
     ]
    },
    {
     "name": "stderr",
     "output_type": "stream",
     "text": [
      "C:\\Users\\user\\anaconda3\\lib\\site-packages\\qiskit\\utils\\deprecation.py:62: DeprecationWarning: Using a qobj for run() is deprecated as of qiskit-aer 0.9.0 and will be removed no sooner than 3 months from that release date. Transpiled circuits should now be passed directly using `backend.run(circuits, **run_options).\n",
      "  return func(*args, **kwargs)\n"
     ]
    },
    {
     "name": "stdout",
     "output_type": "stream",
     "text": [
      "Target value:       \t1.6265\n",
      "Exact value:        \t3.8528\n",
      "Estimated value:    \t3.8295\n",
      "Confidence interval:\t[3.7979, 3.8610]\n",
      "33\n",
      "10\n",
      "執行時間：76.718750 秒\n"
     ]
    },
    {
     "name": "stderr",
     "output_type": "stream",
     "text": [
      "C:\\Users\\user\\anaconda3\\lib\\site-packages\\qiskit\\utils\\deprecation.py:62: DeprecationWarning: Using a qobj for run() is deprecated as of qiskit-aer 0.9.0 and will be removed no sooner than 3 months from that release date. Transpiled circuits should now be passed directly using `backend.run(circuits, **run_options).\n",
      "  return func(*args, **kwargs)\n"
     ]
    },
    {
     "name": "stdout",
     "output_type": "stream",
     "text": [
      "Target value:       \t1.6325\n",
      "Exact value:        \t2.6803\n",
      "Estimated value:    \t2.6845\n",
      "Confidence interval:\t[2.6348, 2.7343]\n",
      "34\n",
      "10\n",
      "執行時間：76.234375 秒\n"
     ]
    },
    {
     "name": "stderr",
     "output_type": "stream",
     "text": [
      "C:\\Users\\user\\anaconda3\\lib\\site-packages\\qiskit\\utils\\deprecation.py:62: DeprecationWarning: Using a qobj for run() is deprecated as of qiskit-aer 0.9.0 and will be removed no sooner than 3 months from that release date. Transpiled circuits should now be passed directly using `backend.run(circuits, **run_options).\n",
      "  return func(*args, **kwargs)\n"
     ]
    },
    {
     "name": "stdout",
     "output_type": "stream",
     "text": [
      "Target value:       \t1.6302\n",
      "Exact value:        \t0.5531\n",
      "Estimated value:    \t0.5748\n",
      "Confidence interval:\t[0.5344, 0.6152]\n",
      "35\n",
      "10\n",
      "執行時間：77.437500 秒\n"
     ]
    },
    {
     "name": "stderr",
     "output_type": "stream",
     "text": [
      "C:\\Users\\user\\anaconda3\\lib\\site-packages\\qiskit\\utils\\deprecation.py:62: DeprecationWarning: Using a qobj for run() is deprecated as of qiskit-aer 0.9.0 and will be removed no sooner than 3 months from that release date. Transpiled circuits should now be passed directly using `backend.run(circuits, **run_options).\n",
      "  return func(*args, **kwargs)\n"
     ]
    },
    {
     "name": "stdout",
     "output_type": "stream",
     "text": [
      "Target value:       \t1.6260\n",
      "Exact value:        \t3.2560\n",
      "Estimated value:    \t3.2569\n",
      "Confidence interval:\t[3.1789, 3.3350]\n",
      "36\n",
      "10\n",
      "執行時間：74.078125 秒\n"
     ]
    },
    {
     "name": "stderr",
     "output_type": "stream",
     "text": [
      "C:\\Users\\user\\anaconda3\\lib\\site-packages\\qiskit\\utils\\deprecation.py:62: DeprecationWarning: Using a qobj for run() is deprecated as of qiskit-aer 0.9.0 and will be removed no sooner than 3 months from that release date. Transpiled circuits should now be passed directly using `backend.run(circuits, **run_options).\n",
      "  return func(*args, **kwargs)\n"
     ]
    },
    {
     "name": "stdout",
     "output_type": "stream",
     "text": [
      "Target value:       \t1.6317\n",
      "Exact value:        \t0.8586\n",
      "Estimated value:    \t0.8878\n",
      "Confidence interval:\t[0.8471, 0.9286]\n",
      "37\n",
      "10\n",
      "執行時間：74.984375 秒\n"
     ]
    },
    {
     "name": "stderr",
     "output_type": "stream",
     "text": [
      "C:\\Users\\user\\anaconda3\\lib\\site-packages\\qiskit\\utils\\deprecation.py:62: DeprecationWarning: Using a qobj for run() is deprecated as of qiskit-aer 0.9.0 and will be removed no sooner than 3 months from that release date. Transpiled circuits should now be passed directly using `backend.run(circuits, **run_options).\n",
      "  return func(*args, **kwargs)\n"
     ]
    },
    {
     "name": "stdout",
     "output_type": "stream",
     "text": [
      "Target value:       \t1.6346\n",
      "Exact value:        \t2.0354\n",
      "Estimated value:    \t2.0247\n",
      "Confidence interval:\t[1.9638, 2.0855]\n",
      "38\n",
      "10\n",
      "執行時間：74.765625 秒\n"
     ]
    },
    {
     "name": "stderr",
     "output_type": "stream",
     "text": [
      "C:\\Users\\user\\anaconda3\\lib\\site-packages\\qiskit\\utils\\deprecation.py:62: DeprecationWarning: Using a qobj for run() is deprecated as of qiskit-aer 0.9.0 and will be removed no sooner than 3 months from that release date. Transpiled circuits should now be passed directly using `backend.run(circuits, **run_options).\n",
      "  return func(*args, **kwargs)\n"
     ]
    },
    {
     "name": "stdout",
     "output_type": "stream",
     "text": [
      "Target value:       \t1.6275\n",
      "Exact value:        \t0.3813\n",
      "Estimated value:    \t0.4184\n",
      "Confidence interval:\t[0.3713, 0.4655]\n",
      "39\n",
      "10\n",
      "執行時間：74.718750 秒\n"
     ]
    },
    {
     "name": "stderr",
     "output_type": "stream",
     "text": [
      "C:\\Users\\user\\anaconda3\\lib\\site-packages\\qiskit\\utils\\deprecation.py:62: DeprecationWarning: Using a qobj for run() is deprecated as of qiskit-aer 0.9.0 and will be removed no sooner than 3 months from that release date. Transpiled circuits should now be passed directly using `backend.run(circuits, **run_options).\n",
      "  return func(*args, **kwargs)\n"
     ]
    },
    {
     "name": "stdout",
     "output_type": "stream",
     "text": [
      "Target value:       \t1.6261\n",
      "Exact value:        \t2.0159\n",
      "Estimated value:    \t2.0209\n",
      "Confidence interval:\t[1.9428, 2.0990]\n",
      "40\n",
      "10\n",
      "執行時間：75.281250 秒\n"
     ]
    },
    {
     "name": "stderr",
     "output_type": "stream",
     "text": [
      "C:\\Users\\user\\anaconda3\\lib\\site-packages\\qiskit\\utils\\deprecation.py:62: DeprecationWarning: Using a qobj for run() is deprecated as of qiskit-aer 0.9.0 and will be removed no sooner than 3 months from that release date. Transpiled circuits should now be passed directly using `backend.run(circuits, **run_options).\n",
      "  return func(*args, **kwargs)\n"
     ]
    },
    {
     "name": "stdout",
     "output_type": "stream",
     "text": [
      "Target value:       \t1.6321\n",
      "Exact value:        \t2.5271\n",
      "Estimated value:    \t2.5472\n",
      "Confidence interval:\t[2.5150, 2.5794]\n",
      "41\n",
      "10\n",
      "執行時間：78.500000 秒\n"
     ]
    },
    {
     "name": "stderr",
     "output_type": "stream",
     "text": [
      "C:\\Users\\user\\anaconda3\\lib\\site-packages\\qiskit\\utils\\deprecation.py:62: DeprecationWarning: Using a qobj for run() is deprecated as of qiskit-aer 0.9.0 and will be removed no sooner than 3 months from that release date. Transpiled circuits should now be passed directly using `backend.run(circuits, **run_options).\n",
      "  return func(*args, **kwargs)\n"
     ]
    },
    {
     "name": "stdout",
     "output_type": "stream",
     "text": [
      "Target value:       \t1.6286\n",
      "Exact value:        \t4.0077\n",
      "Estimated value:    \t3.9644\n",
      "Confidence interval:\t[3.9288, 3.9999]\n",
      "42\n",
      "10\n",
      "執行時間：77.218750 秒\n"
     ]
    },
    {
     "name": "stderr",
     "output_type": "stream",
     "text": [
      "C:\\Users\\user\\anaconda3\\lib\\site-packages\\qiskit\\utils\\deprecation.py:62: DeprecationWarning: Using a qobj for run() is deprecated as of qiskit-aer 0.9.0 and will be removed no sooner than 3 months from that release date. Transpiled circuits should now be passed directly using `backend.run(circuits, **run_options).\n",
      "  return func(*args, **kwargs)\n"
     ]
    },
    {
     "name": "stdout",
     "output_type": "stream",
     "text": [
      "Target value:       \t1.6337\n",
      "Exact value:        \t3.3304\n",
      "Estimated value:    \t3.2954\n",
      "Confidence interval:\t[3.2174, 3.3735]\n",
      "43\n",
      "10\n",
      "執行時間：75.828125 秒\n"
     ]
    },
    {
     "name": "stderr",
     "output_type": "stream",
     "text": [
      "C:\\Users\\user\\anaconda3\\lib\\site-packages\\qiskit\\utils\\deprecation.py:62: DeprecationWarning: Using a qobj for run() is deprecated as of qiskit-aer 0.9.0 and will be removed no sooner than 3 months from that release date. Transpiled circuits should now be passed directly using `backend.run(circuits, **run_options).\n",
      "  return func(*args, **kwargs)\n"
     ]
    },
    {
     "name": "stdout",
     "output_type": "stream",
     "text": [
      "Target value:       \t1.6274\n",
      "Exact value:        \t2.9003\n",
      "Estimated value:    \t2.9098\n",
      "Confidence interval:\t[2.8675, 2.9520]\n",
      "44\n",
      "10\n",
      "執行時間：76.671875 秒\n"
     ]
    },
    {
     "name": "stderr",
     "output_type": "stream",
     "text": [
      "C:\\Users\\user\\anaconda3\\lib\\site-packages\\qiskit\\utils\\deprecation.py:62: DeprecationWarning: Using a qobj for run() is deprecated as of qiskit-aer 0.9.0 and will be removed no sooner than 3 months from that release date. Transpiled circuits should now be passed directly using `backend.run(circuits, **run_options).\n",
      "  return func(*args, **kwargs)\n"
     ]
    },
    {
     "name": "stdout",
     "output_type": "stream",
     "text": [
      "Target value:       \t1.6323\n",
      "Exact value:        \t3.0376\n",
      "Estimated value:    \t3.0566\n",
      "Confidence interval:\t[2.9958, 3.1175]\n",
      "45\n",
      "10\n",
      "執行時間：75.937500 秒\n"
     ]
    },
    {
     "name": "stderr",
     "output_type": "stream",
     "text": [
      "C:\\Users\\user\\anaconda3\\lib\\site-packages\\qiskit\\utils\\deprecation.py:62: DeprecationWarning: Using a qobj for run() is deprecated as of qiskit-aer 0.9.0 and will be removed no sooner than 3 months from that release date. Transpiled circuits should now be passed directly using `backend.run(circuits, **run_options).\n",
      "  return func(*args, **kwargs)\n"
     ]
    },
    {
     "name": "stdout",
     "output_type": "stream",
     "text": [
      "Target value:       \t1.6304\n",
      "Exact value:        \t2.7006\n",
      "Estimated value:    \t2.7240\n",
      "Confidence interval:\t[2.6632, 2.7849]\n",
      "46\n",
      "10\n",
      "執行時間：76.265625 秒\n"
     ]
    },
    {
     "name": "stderr",
     "output_type": "stream",
     "text": [
      "C:\\Users\\user\\anaconda3\\lib\\site-packages\\qiskit\\utils\\deprecation.py:62: DeprecationWarning: Using a qobj for run() is deprecated as of qiskit-aer 0.9.0 and will be removed no sooner than 3 months from that release date. Transpiled circuits should now be passed directly using `backend.run(circuits, **run_options).\n",
      "  return func(*args, **kwargs)\n"
     ]
    },
    {
     "name": "stdout",
     "output_type": "stream",
     "text": [
      "Target value:       \t1.6329\n",
      "Exact value:        \t3.8414\n",
      "Estimated value:    \t3.8295\n",
      "Confidence interval:\t[3.7883, 3.8707]\n",
      "47\n",
      "10\n",
      "執行時間：85.109375 秒\n"
     ]
    },
    {
     "name": "stderr",
     "output_type": "stream",
     "text": [
      "C:\\Users\\user\\anaconda3\\lib\\site-packages\\qiskit\\utils\\deprecation.py:62: DeprecationWarning: Using a qobj for run() is deprecated as of qiskit-aer 0.9.0 and will be removed no sooner than 3 months from that release date. Transpiled circuits should now be passed directly using `backend.run(circuits, **run_options).\n",
      "  return func(*args, **kwargs)\n"
     ]
    },
    {
     "name": "stdout",
     "output_type": "stream",
     "text": [
      "Target value:       \t1.6338\n",
      "Exact value:        \t0.3034\n",
      "Estimated value:    \t0.3381\n",
      "Confidence interval:\t[0.2972, 0.3790]\n",
      "48\n",
      "10\n",
      "執行時間：76.937500 秒\n"
     ]
    },
    {
     "name": "stderr",
     "output_type": "stream",
     "text": [
      "C:\\Users\\user\\anaconda3\\lib\\site-packages\\qiskit\\utils\\deprecation.py:62: DeprecationWarning: Using a qobj for run() is deprecated as of qiskit-aer 0.9.0 and will be removed no sooner than 3 months from that release date. Transpiled circuits should now be passed directly using `backend.run(circuits, **run_options).\n",
      "  return func(*args, **kwargs)\n"
     ]
    },
    {
     "name": "stdout",
     "output_type": "stream",
     "text": [
      "Target value:       \t1.6347\n",
      "Exact value:        \t2.2125\n",
      "Estimated value:    \t2.2385\n",
      "Confidence interval:\t[2.1777, 2.2993]\n",
      "49\n",
      "10\n",
      "執行時間：76.078125 秒\n"
     ]
    },
    {
     "name": "stderr",
     "output_type": "stream",
     "text": [
      "C:\\Users\\user\\anaconda3\\lib\\site-packages\\qiskit\\utils\\deprecation.py:62: DeprecationWarning: Using a qobj for run() is deprecated as of qiskit-aer 0.9.0 and will be removed no sooner than 3 months from that release date. Transpiled circuits should now be passed directly using `backend.run(circuits, **run_options).\n",
      "  return func(*args, **kwargs)\n"
     ]
    },
    {
     "name": "stdout",
     "output_type": "stream",
     "text": [
      "Target value:       \t1.6317\n",
      "Exact value:        \t0.6192\n",
      "Estimated value:    \t0.6655\n",
      "Confidence interval:\t[0.6178, 0.7131]\n",
      "50\n",
      "10\n",
      "執行時間：76.484375 秒\n"
     ]
    },
    {
     "name": "stderr",
     "output_type": "stream",
     "text": [
      "C:\\Users\\user\\anaconda3\\lib\\site-packages\\qiskit\\utils\\deprecation.py:62: DeprecationWarning: Using a qobj for run() is deprecated as of qiskit-aer 0.9.0 and will be removed no sooner than 3 months from that release date. Transpiled circuits should now be passed directly using `backend.run(circuits, **run_options).\n",
      "  return func(*args, **kwargs)\n"
     ]
    },
    {
     "name": "stdout",
     "output_type": "stream",
     "text": [
      "Target value:       \t1.6290\n",
      "Exact value:        \t1.5582\n",
      "Estimated value:    \t1.6010\n",
      "Confidence interval:\t[1.5690, 1.6330]\n",
      "51\n",
      "10\n",
      "執行時間：77.406250 秒\n"
     ]
    },
    {
     "name": "stderr",
     "output_type": "stream",
     "text": [
      "C:\\Users\\user\\anaconda3\\lib\\site-packages\\qiskit\\utils\\deprecation.py:62: DeprecationWarning: Using a qobj for run() is deprecated as of qiskit-aer 0.9.0 and will be removed no sooner than 3 months from that release date. Transpiled circuits should now be passed directly using `backend.run(circuits, **run_options).\n",
      "  return func(*args, **kwargs)\n"
     ]
    },
    {
     "name": "stdout",
     "output_type": "stream",
     "text": [
      "Target value:       \t1.6278\n",
      "Exact value:        \t0.6289\n",
      "Estimated value:    \t0.6625\n",
      "Confidence interval:\t[0.6220, 0.7029]\n",
      "52\n",
      "10\n",
      "執行時間：76.859375 秒\n"
     ]
    },
    {
     "name": "stderr",
     "output_type": "stream",
     "text": [
      "C:\\Users\\user\\anaconda3\\lib\\site-packages\\qiskit\\utils\\deprecation.py:62: DeprecationWarning: Using a qobj for run() is deprecated as of qiskit-aer 0.9.0 and will be removed no sooner than 3 months from that release date. Transpiled circuits should now be passed directly using `backend.run(circuits, **run_options).\n",
      "  return func(*args, **kwargs)\n"
     ]
    },
    {
     "name": "stdout",
     "output_type": "stream",
     "text": [
      "Target value:       \t1.6281\n",
      "Exact value:        \t1.4430\n",
      "Estimated value:    \t1.4710\n",
      "Confidence interval:\t[1.4348, 1.5071]\n",
      "53\n",
      "10\n",
      "執行時間：77.953125 秒\n"
     ]
    },
    {
     "name": "stderr",
     "output_type": "stream",
     "text": [
      "C:\\Users\\user\\anaconda3\\lib\\site-packages\\qiskit\\utils\\deprecation.py:62: DeprecationWarning: Using a qobj for run() is deprecated as of qiskit-aer 0.9.0 and will be removed no sooner than 3 months from that release date. Transpiled circuits should now be passed directly using `backend.run(circuits, **run_options).\n",
      "  return func(*args, **kwargs)\n"
     ]
    },
    {
     "name": "stdout",
     "output_type": "stream",
     "text": [
      "Target value:       \t1.6275\n",
      "Exact value:        \t2.2166\n",
      "Estimated value:    \t2.2040\n",
      "Confidence interval:\t[2.1717, 2.2363]\n",
      "54\n",
      "10\n",
      "執行時間：85.703125 秒\n"
     ]
    },
    {
     "name": "stderr",
     "output_type": "stream",
     "text": [
      "C:\\Users\\user\\anaconda3\\lib\\site-packages\\qiskit\\utils\\deprecation.py:62: DeprecationWarning: Using a qobj for run() is deprecated as of qiskit-aer 0.9.0 and will be removed no sooner than 3 months from that release date. Transpiled circuits should now be passed directly using `backend.run(circuits, **run_options).\n",
      "  return func(*args, **kwargs)\n"
     ]
    },
    {
     "name": "stdout",
     "output_type": "stream",
     "text": [
      "Target value:       \t1.6307\n",
      "Exact value:        \t0.8857\n",
      "Estimated value:    \t0.9109\n",
      "Confidence interval:\t[0.8701, 0.9517]\n",
      "55\n",
      "10\n",
      "執行時間：76.875000 秒\n"
     ]
    },
    {
     "name": "stderr",
     "output_type": "stream",
     "text": [
      "C:\\Users\\user\\anaconda3\\lib\\site-packages\\qiskit\\utils\\deprecation.py:62: DeprecationWarning: Using a qobj for run() is deprecated as of qiskit-aer 0.9.0 and will be removed no sooner than 3 months from that release date. Transpiled circuits should now be passed directly using `backend.run(circuits, **run_options).\n",
      "  return func(*args, **kwargs)\n"
     ]
    },
    {
     "name": "stdout",
     "output_type": "stream",
     "text": [
      "Target value:       \t1.6289\n",
      "Exact value:        \t1.6646\n",
      "Estimated value:    \t1.6992\n",
      "Confidence interval:\t[1.6381, 1.7604]\n",
      "56\n",
      "10\n",
      "執行時間：75.937500 秒\n"
     ]
    },
    {
     "name": "stderr",
     "output_type": "stream",
     "text": [
      "C:\\Users\\user\\anaconda3\\lib\\site-packages\\qiskit\\utils\\deprecation.py:62: DeprecationWarning: Using a qobj for run() is deprecated as of qiskit-aer 0.9.0 and will be removed no sooner than 3 months from that release date. Transpiled circuits should now be passed directly using `backend.run(circuits, **run_options).\n",
      "  return func(*args, **kwargs)\n"
     ]
    },
    {
     "name": "stdout",
     "output_type": "stream",
     "text": [
      "Target value:       \t1.6223\n",
      "Exact value:        \t0.5789\n",
      "Estimated value:    \t0.6399\n",
      "Confidence interval:\t[0.5923, 0.6875]\n",
      "57\n",
      "10\n",
      "執行時間：76.203125 秒\n"
     ]
    },
    {
     "name": "stderr",
     "output_type": "stream",
     "text": [
      "C:\\Users\\user\\anaconda3\\lib\\site-packages\\qiskit\\utils\\deprecation.py:62: DeprecationWarning: Using a qobj for run() is deprecated as of qiskit-aer 0.9.0 and will be removed no sooner than 3 months from that release date. Transpiled circuits should now be passed directly using `backend.run(circuits, **run_options).\n",
      "  return func(*args, **kwargs)\n"
     ]
    },
    {
     "name": "stdout",
     "output_type": "stream",
     "text": [
      "Target value:       \t1.6236\n",
      "Exact value:        \t1.0862\n",
      "Estimated value:    \t1.0928\n",
      "Confidence interval:\t[1.0517, 1.1339]\n",
      "58\n",
      "10\n",
      "執行時間：76.781250 秒\n"
     ]
    },
    {
     "name": "stderr",
     "output_type": "stream",
     "text": [
      "C:\\Users\\user\\anaconda3\\lib\\site-packages\\qiskit\\utils\\deprecation.py:62: DeprecationWarning: Using a qobj for run() is deprecated as of qiskit-aer 0.9.0 and will be removed no sooner than 3 months from that release date. Transpiled circuits should now be passed directly using `backend.run(circuits, **run_options).\n",
      "  return func(*args, **kwargs)\n"
     ]
    },
    {
     "name": "stdout",
     "output_type": "stream",
     "text": [
      "Target value:       \t1.6243\n",
      "Exact value:        \t1.7453\n",
      "Estimated value:    \t1.7676\n",
      "Confidence interval:\t[1.6586, 1.8766]\n",
      "59\n",
      "10\n",
      "執行時間：75.515625 秒\n"
     ]
    },
    {
     "name": "stderr",
     "output_type": "stream",
     "text": [
      "C:\\Users\\user\\anaconda3\\lib\\site-packages\\qiskit\\utils\\deprecation.py:62: DeprecationWarning: Using a qobj for run() is deprecated as of qiskit-aer 0.9.0 and will be removed no sooner than 3 months from that release date. Transpiled circuits should now be passed directly using `backend.run(circuits, **run_options).\n",
      "  return func(*args, **kwargs)\n"
     ]
    },
    {
     "name": "stdout",
     "output_type": "stream",
     "text": [
      "Target value:       \t1.6322\n",
      "Exact value:        \t1.9081\n",
      "Estimated value:    \t1.9144\n",
      "Confidence interval:\t[1.8363, 1.9925]\n",
      "60\n",
      "10\n",
      "執行時間：76.000000 秒\n"
     ]
    },
    {
     "name": "stderr",
     "output_type": "stream",
     "text": [
      "C:\\Users\\user\\anaconda3\\lib\\site-packages\\qiskit\\utils\\deprecation.py:62: DeprecationWarning: Using a qobj for run() is deprecated as of qiskit-aer 0.9.0 and will be removed no sooner than 3 months from that release date. Transpiled circuits should now be passed directly using `backend.run(circuits, **run_options).\n",
      "  return func(*args, **kwargs)\n"
     ]
    },
    {
     "name": "stdout",
     "output_type": "stream",
     "text": [
      "Target value:       \t1.6320\n",
      "Exact value:        \t1.5435\n",
      "Estimated value:    \t1.5849\n",
      "Confidence interval:\t[1.5069, 1.6630]\n",
      "61\n",
      "10\n",
      "執行時間：75.781250 秒\n"
     ]
    },
    {
     "name": "stderr",
     "output_type": "stream",
     "text": [
      "C:\\Users\\user\\anaconda3\\lib\\site-packages\\qiskit\\utils\\deprecation.py:62: DeprecationWarning: Using a qobj for run() is deprecated as of qiskit-aer 0.9.0 and will be removed no sooner than 3 months from that release date. Transpiled circuits should now be passed directly using `backend.run(circuits, **run_options).\n",
      "  return func(*args, **kwargs)\n"
     ]
    },
    {
     "name": "stdout",
     "output_type": "stream",
     "text": [
      "Target value:       \t1.6293\n",
      "Exact value:        \t0.8152\n",
      "Estimated value:    \t0.8743\n",
      "Confidence interval:\t[0.8336, 0.9151]\n",
      "62\n",
      "10\n",
      "執行時間：76.812500 秒\n"
     ]
    },
    {
     "name": "stderr",
     "output_type": "stream",
     "text": [
      "C:\\Users\\user\\anaconda3\\lib\\site-packages\\qiskit\\utils\\deprecation.py:62: DeprecationWarning: Using a qobj for run() is deprecated as of qiskit-aer 0.9.0 and will be removed no sooner than 3 months from that release date. Transpiled circuits should now be passed directly using `backend.run(circuits, **run_options).\n",
      "  return func(*args, **kwargs)\n"
     ]
    },
    {
     "name": "stdout",
     "output_type": "stream",
     "text": [
      "Target value:       \t1.6347\n",
      "Exact value:        \t4.2605\n",
      "Estimated value:    \t4.2419\n",
      "Confidence interval:\t[4.2014, 4.2825]\n",
      "63\n",
      "10\n",
      "執行時間：76.812500 秒\n"
     ]
    },
    {
     "name": "stderr",
     "output_type": "stream",
     "text": [
      "C:\\Users\\user\\anaconda3\\lib\\site-packages\\qiskit\\utils\\deprecation.py:62: DeprecationWarning: Using a qobj for run() is deprecated as of qiskit-aer 0.9.0 and will be removed no sooner than 3 months from that release date. Transpiled circuits should now be passed directly using `backend.run(circuits, **run_options).\n",
      "  return func(*args, **kwargs)\n"
     ]
    },
    {
     "name": "stdout",
     "output_type": "stream",
     "text": [
      "Target value:       \t1.6315\n",
      "Exact value:        \t2.8057\n",
      "Estimated value:    \t2.8153\n",
      "Confidence interval:\t[2.7545, 2.8761]\n",
      "64\n",
      "10\n",
      "執行時間：76.125000 秒\n"
     ]
    },
    {
     "name": "stderr",
     "output_type": "stream",
     "text": [
      "C:\\Users\\user\\anaconda3\\lib\\site-packages\\qiskit\\utils\\deprecation.py:62: DeprecationWarning: Using a qobj for run() is deprecated as of qiskit-aer 0.9.0 and will be removed no sooner than 3 months from that release date. Transpiled circuits should now be passed directly using `backend.run(circuits, **run_options).\n",
      "  return func(*args, **kwargs)\n"
     ]
    },
    {
     "name": "stdout",
     "output_type": "stream",
     "text": [
      "Target value:       \t1.6292\n",
      "Exact value:        \t0.3758\n",
      "Estimated value:    \t0.4273\n",
      "Confidence interval:\t[0.3869, 0.4678]\n",
      "65\n",
      "10\n",
      "執行時間：76.734375 秒\n"
     ]
    },
    {
     "name": "stderr",
     "output_type": "stream",
     "text": [
      "C:\\Users\\user\\anaconda3\\lib\\site-packages\\qiskit\\utils\\deprecation.py:62: DeprecationWarning: Using a qobj for run() is deprecated as of qiskit-aer 0.9.0 and will be removed no sooner than 3 months from that release date. Transpiled circuits should now be passed directly using `backend.run(circuits, **run_options).\n",
      "  return func(*args, **kwargs)\n"
     ]
    },
    {
     "name": "stdout",
     "output_type": "stream",
     "text": [
      "Target value:       \t1.6288\n",
      "Exact value:        \t0.7455\n",
      "Estimated value:    \t0.7980\n",
      "Confidence interval:\t[0.7501, 0.8460]\n",
      "66\n",
      "10\n",
      "執行時間：76.265625 秒\n"
     ]
    },
    {
     "name": "stderr",
     "output_type": "stream",
     "text": [
      "C:\\Users\\user\\anaconda3\\lib\\site-packages\\qiskit\\utils\\deprecation.py:62: DeprecationWarning: Using a qobj for run() is deprecated as of qiskit-aer 0.9.0 and will be removed no sooner than 3 months from that release date. Transpiled circuits should now be passed directly using `backend.run(circuits, **run_options).\n",
      "  return func(*args, **kwargs)\n"
     ]
    },
    {
     "name": "stdout",
     "output_type": "stream",
     "text": [
      "Target value:       \t1.6255\n",
      "Exact value:        \t4.1641\n",
      "Estimated value:    \t4.1016\n",
      "Confidence interval:\t[4.0608, 4.1423]\n",
      "67\n",
      "10\n",
      "執行時間：76.765625 秒\n"
     ]
    },
    {
     "name": "stderr",
     "output_type": "stream",
     "text": [
      "C:\\Users\\user\\anaconda3\\lib\\site-packages\\qiskit\\utils\\deprecation.py:62: DeprecationWarning: Using a qobj for run() is deprecated as of qiskit-aer 0.9.0 and will be removed no sooner than 3 months from that release date. Transpiled circuits should now be passed directly using `backend.run(circuits, **run_options).\n",
      "  return func(*args, **kwargs)\n"
     ]
    },
    {
     "name": "stdout",
     "output_type": "stream",
     "text": [
      "Target value:       \t1.6218\n",
      "Exact value:        \t1.2688\n",
      "Estimated value:    \t1.3893\n",
      "Confidence interval:\t[1.2808, 1.4977]\n",
      "68\n",
      "10\n",
      "執行時間：75.171875 秒\n"
     ]
    },
    {
     "name": "stderr",
     "output_type": "stream",
     "text": [
      "C:\\Users\\user\\anaconda3\\lib\\site-packages\\qiskit\\utils\\deprecation.py:62: DeprecationWarning: Using a qobj for run() is deprecated as of qiskit-aer 0.9.0 and will be removed no sooner than 3 months from that release date. Transpiled circuits should now be passed directly using `backend.run(circuits, **run_options).\n",
      "  return func(*args, **kwargs)\n"
     ]
    },
    {
     "name": "stdout",
     "output_type": "stream",
     "text": [
      "Target value:       \t1.6273\n",
      "Exact value:        \t1.2405\n",
      "Estimated value:    \t1.2583\n",
      "Confidence interval:\t[1.2225, 1.2941]\n",
      "69\n",
      "10\n",
      "執行時間：77.578125 秒\n"
     ]
    },
    {
     "name": "stderr",
     "output_type": "stream",
     "text": [
      "C:\\Users\\user\\anaconda3\\lib\\site-packages\\qiskit\\utils\\deprecation.py:62: DeprecationWarning: Using a qobj for run() is deprecated as of qiskit-aer 0.9.0 and will be removed no sooner than 3 months from that release date. Transpiled circuits should now be passed directly using `backend.run(circuits, **run_options).\n",
      "  return func(*args, **kwargs)\n"
     ]
    },
    {
     "name": "stdout",
     "output_type": "stream",
     "text": [
      "Target value:       \t1.6294\n",
      "Exact value:        \t0.9867\n",
      "Estimated value:    \t1.0241\n",
      "Confidence interval:\t[0.9831, 1.0651]\n",
      "70\n",
      "10\n",
      "執行時間：76.984375 秒\n"
     ]
    },
    {
     "name": "stderr",
     "output_type": "stream",
     "text": [
      "C:\\Users\\user\\anaconda3\\lib\\site-packages\\qiskit\\utils\\deprecation.py:62: DeprecationWarning: Using a qobj for run() is deprecated as of qiskit-aer 0.9.0 and will be removed no sooner than 3 months from that release date. Transpiled circuits should now be passed directly using `backend.run(circuits, **run_options).\n",
      "  return func(*args, **kwargs)\n"
     ]
    },
    {
     "name": "stdout",
     "output_type": "stream",
     "text": [
      "Target value:       \t1.6275\n",
      "Exact value:        \t2.0266\n",
      "Estimated value:    \t2.0397\n",
      "Confidence interval:\t[1.9615, 2.1178]\n",
      "71\n",
      "10\n",
      "執行時間：75.812500 秒\n"
     ]
    },
    {
     "name": "stderr",
     "output_type": "stream",
     "text": [
      "C:\\Users\\user\\anaconda3\\lib\\site-packages\\qiskit\\utils\\deprecation.py:62: DeprecationWarning: Using a qobj for run() is deprecated as of qiskit-aer 0.9.0 and will be removed no sooner than 3 months from that release date. Transpiled circuits should now be passed directly using `backend.run(circuits, **run_options).\n",
      "  return func(*args, **kwargs)\n"
     ]
    },
    {
     "name": "stdout",
     "output_type": "stream",
     "text": [
      "Target value:       \t1.6285\n",
      "Exact value:        \t0.2637\n",
      "Estimated value:    \t0.3476\n",
      "Confidence interval:\t[0.3006, 0.3946]\n",
      "72\n",
      "10\n",
      "執行時間：76.609375 秒\n"
     ]
    },
    {
     "name": "stderr",
     "output_type": "stream",
     "text": [
      "C:\\Users\\user\\anaconda3\\lib\\site-packages\\qiskit\\utils\\deprecation.py:62: DeprecationWarning: Using a qobj for run() is deprecated as of qiskit-aer 0.9.0 and will be removed no sooner than 3 months from that release date. Transpiled circuits should now be passed directly using `backend.run(circuits, **run_options).\n",
      "  return func(*args, **kwargs)\n"
     ]
    },
    {
     "name": "stdout",
     "output_type": "stream",
     "text": [
      "Target value:       \t1.6285\n",
      "Exact value:        \t0.2030\n",
      "Estimated value:    \t0.2484\n",
      "Confidence interval:\t[0.1915, 0.3053]\n",
      "73\n",
      "10\n",
      "執行時間：76.140625 秒\n"
     ]
    },
    {
     "name": "stderr",
     "output_type": "stream",
     "text": [
      "C:\\Users\\user\\anaconda3\\lib\\site-packages\\qiskit\\utils\\deprecation.py:62: DeprecationWarning: Using a qobj for run() is deprecated as of qiskit-aer 0.9.0 and will be removed no sooner than 3 months from that release date. Transpiled circuits should now be passed directly using `backend.run(circuits, **run_options).\n",
      "  return func(*args, **kwargs)\n"
     ]
    },
    {
     "name": "stdout",
     "output_type": "stream",
     "text": [
      "Target value:       \t1.6319\n",
      "Exact value:        \t2.9565\n",
      "Estimated value:    \t2.9398\n",
      "Confidence interval:\t[2.8616, 3.0179]\n",
      "74\n",
      "10\n",
      "執行時間：75.515625 秒\n"
     ]
    },
    {
     "name": "stderr",
     "output_type": "stream",
     "text": [
      "C:\\Users\\user\\anaconda3\\lib\\site-packages\\qiskit\\utils\\deprecation.py:62: DeprecationWarning: Using a qobj for run() is deprecated as of qiskit-aer 0.9.0 and will be removed no sooner than 3 months from that release date. Transpiled circuits should now be passed directly using `backend.run(circuits, **run_options).\n",
      "  return func(*args, **kwargs)\n"
     ]
    },
    {
     "name": "stdout",
     "output_type": "stream",
     "text": [
      "Target value:       \t1.6272\n",
      "Exact value:        \t0.2352\n",
      "Estimated value:    \t0.3210\n",
      "Confidence interval:\t[0.2907, 0.3512]\n",
      "75\n",
      "10\n",
      "執行時間：77.437500 秒\n"
     ]
    },
    {
     "name": "stderr",
     "output_type": "stream",
     "text": [
      "C:\\Users\\user\\anaconda3\\lib\\site-packages\\qiskit\\utils\\deprecation.py:62: DeprecationWarning: Using a qobj for run() is deprecated as of qiskit-aer 0.9.0 and will be removed no sooner than 3 months from that release date. Transpiled circuits should now be passed directly using `backend.run(circuits, **run_options).\n",
      "  return func(*args, **kwargs)\n"
     ]
    },
    {
     "name": "stdout",
     "output_type": "stream",
     "text": [
      "Target value:       \t1.6332\n",
      "Exact value:        \t2.8317\n",
      "Estimated value:    \t2.8280\n",
      "Confidence interval:\t[2.7858, 2.8702]\n",
      "76\n",
      "10\n",
      "執行時間：76.968750 秒\n"
     ]
    },
    {
     "name": "stderr",
     "output_type": "stream",
     "text": [
      "C:\\Users\\user\\anaconda3\\lib\\site-packages\\qiskit\\utils\\deprecation.py:62: DeprecationWarning: Using a qobj for run() is deprecated as of qiskit-aer 0.9.0 and will be removed no sooner than 3 months from that release date. Transpiled circuits should now be passed directly using `backend.run(circuits, **run_options).\n",
      "  return func(*args, **kwargs)\n"
     ]
    },
    {
     "name": "stdout",
     "output_type": "stream",
     "text": [
      "Target value:       \t1.6320\n",
      "Exact value:        \t1.0352\n",
      "Estimated value:    \t1.0577\n",
      "Confidence interval:\t[1.0167, 1.0988]\n",
      "77\n",
      "10\n",
      "執行時間：76.718750 秒\n"
     ]
    },
    {
     "name": "stderr",
     "output_type": "stream",
     "text": [
      "C:\\Users\\user\\anaconda3\\lib\\site-packages\\qiskit\\utils\\deprecation.py:62: DeprecationWarning: Using a qobj for run() is deprecated as of qiskit-aer 0.9.0 and will be removed no sooner than 3 months from that release date. Transpiled circuits should now be passed directly using `backend.run(circuits, **run_options).\n",
      "  return func(*args, **kwargs)\n"
     ]
    },
    {
     "name": "stdout",
     "output_type": "stream",
     "text": [
      "Target value:       \t1.6308\n",
      "Exact value:        \t2.4289\n",
      "Estimated value:    \t2.4388\n",
      "Confidence interval:\t[2.4023, 2.4753]\n",
      "78\n",
      "10\n",
      "執行時間：77.328125 秒\n"
     ]
    },
    {
     "name": "stderr",
     "output_type": "stream",
     "text": [
      "C:\\Users\\user\\anaconda3\\lib\\site-packages\\qiskit\\utils\\deprecation.py:62: DeprecationWarning: Using a qobj for run() is deprecated as of qiskit-aer 0.9.0 and will be removed no sooner than 3 months from that release date. Transpiled circuits should now be passed directly using `backend.run(circuits, **run_options).\n",
      "  return func(*args, **kwargs)\n"
     ]
    },
    {
     "name": "stdout",
     "output_type": "stream",
     "text": [
      "Target value:       \t1.6317\n",
      "Exact value:        \t1.7458\n",
      "Estimated value:    \t1.7669\n",
      "Confidence interval:\t[1.6888, 1.8449]\n",
      "79\n",
      "10\n",
      "執行時間：75.750000 秒\n"
     ]
    },
    {
     "name": "stderr",
     "output_type": "stream",
     "text": [
      "C:\\Users\\user\\anaconda3\\lib\\site-packages\\qiskit\\utils\\deprecation.py:62: DeprecationWarning: Using a qobj for run() is deprecated as of qiskit-aer 0.9.0 and will be removed no sooner than 3 months from that release date. Transpiled circuits should now be passed directly using `backend.run(circuits, **run_options).\n",
      "  return func(*args, **kwargs)\n"
     ]
    },
    {
     "name": "stdout",
     "output_type": "stream",
     "text": [
      "Target value:       \t1.6332\n",
      "Exact value:        \t1.3627\n",
      "Estimated value:    \t1.3916\n",
      "Confidence interval:\t[1.3599, 1.4233]\n",
      "80\n",
      "10\n",
      "執行時間：77.718750 秒\n"
     ]
    },
    {
     "name": "stderr",
     "output_type": "stream",
     "text": [
      "C:\\Users\\user\\anaconda3\\lib\\site-packages\\qiskit\\utils\\deprecation.py:62: DeprecationWarning: Using a qobj for run() is deprecated as of qiskit-aer 0.9.0 and will be removed no sooner than 3 months from that release date. Transpiled circuits should now be passed directly using `backend.run(circuits, **run_options).\n",
      "  return func(*args, **kwargs)\n"
     ]
    },
    {
     "name": "stdout",
     "output_type": "stream",
     "text": [
      "Target value:       \t1.6297\n",
      "Exact value:        \t0.8281\n",
      "Estimated value:    \t0.8413\n",
      "Confidence interval:\t[0.7932, 0.8893]\n",
      "81\n",
      "10\n",
      "執行時間：76.484375 秒\n"
     ]
    },
    {
     "name": "stderr",
     "output_type": "stream",
     "text": [
      "C:\\Users\\user\\anaconda3\\lib\\site-packages\\qiskit\\utils\\deprecation.py:62: DeprecationWarning: Using a qobj for run() is deprecated as of qiskit-aer 0.9.0 and will be removed no sooner than 3 months from that release date. Transpiled circuits should now be passed directly using `backend.run(circuits, **run_options).\n",
      "  return func(*args, **kwargs)\n"
     ]
    },
    {
     "name": "stdout",
     "output_type": "stream",
     "text": [
      "Target value:       \t1.6296\n",
      "Exact value:        \t1.8758\n",
      "Estimated value:    \t1.8846\n",
      "Confidence interval:\t[1.8066, 1.9627]\n",
      "82\n",
      "10\n",
      "執行時間：84.078125 秒\n"
     ]
    },
    {
     "name": "stderr",
     "output_type": "stream",
     "text": [
      "C:\\Users\\user\\anaconda3\\lib\\site-packages\\qiskit\\utils\\deprecation.py:62: DeprecationWarning: Using a qobj for run() is deprecated as of qiskit-aer 0.9.0 and will be removed no sooner than 3 months from that release date. Transpiled circuits should now be passed directly using `backend.run(circuits, **run_options).\n",
      "  return func(*args, **kwargs)\n"
     ]
    },
    {
     "name": "stdout",
     "output_type": "stream",
     "text": [
      "Target value:       \t1.6331\n",
      "Exact value:        \t0.1067\n",
      "Estimated value:    \t0.1789\n",
      "Confidence interval:\t[0.1222, 0.2356]\n",
      "83\n",
      "10\n",
      "執行時間：76.453125 秒\n"
     ]
    },
    {
     "name": "stderr",
     "output_type": "stream",
     "text": [
      "C:\\Users\\user\\anaconda3\\lib\\site-packages\\qiskit\\utils\\deprecation.py:62: DeprecationWarning: Using a qobj for run() is deprecated as of qiskit-aer 0.9.0 and will be removed no sooner than 3 months from that release date. Transpiled circuits should now be passed directly using `backend.run(circuits, **run_options).\n",
      "  return func(*args, **kwargs)\n"
     ]
    },
    {
     "name": "stdout",
     "output_type": "stream",
     "text": [
      "Target value:       \t1.6270\n",
      "Exact value:        \t3.7610\n",
      "Estimated value:    \t3.7055\n",
      "Confidence interval:\t[3.6640, 3.7469]\n",
      "84\n",
      "10\n",
      "執行時間：76.812500 秒\n"
     ]
    },
    {
     "name": "stderr",
     "output_type": "stream",
     "text": [
      "C:\\Users\\user\\anaconda3\\lib\\site-packages\\qiskit\\utils\\deprecation.py:62: DeprecationWarning: Using a qobj for run() is deprecated as of qiskit-aer 0.9.0 and will be removed no sooner than 3 months from that release date. Transpiled circuits should now be passed directly using `backend.run(circuits, **run_options).\n",
      "  return func(*args, **kwargs)\n"
     ]
    },
    {
     "name": "stdout",
     "output_type": "stream",
     "text": [
      "Target value:       \t1.6302\n",
      "Exact value:        \t0.6763\n",
      "Estimated value:    \t0.7039\n",
      "Confidence interval:\t[0.6635, 0.7444]\n",
      "85\n",
      "10\n",
      "執行時間：77.093750 秒\n"
     ]
    },
    {
     "name": "stderr",
     "output_type": "stream",
     "text": [
      "C:\\Users\\user\\anaconda3\\lib\\site-packages\\qiskit\\utils\\deprecation.py:62: DeprecationWarning: Using a qobj for run() is deprecated as of qiskit-aer 0.9.0 and will be removed no sooner than 3 months from that release date. Transpiled circuits should now be passed directly using `backend.run(circuits, **run_options).\n",
      "  return func(*args, **kwargs)\n"
     ]
    },
    {
     "name": "stdout",
     "output_type": "stream",
     "text": [
      "Target value:       \t1.6287\n",
      "Exact value:        \t0.9618\n",
      "Estimated value:    \t1.0104\n",
      "Confidence interval:\t[0.9619, 1.0589]\n",
      "86\n",
      "10\n",
      "執行時間：76.578125 秒\n"
     ]
    },
    {
     "name": "stderr",
     "output_type": "stream",
     "text": [
      "C:\\Users\\user\\anaconda3\\lib\\site-packages\\qiskit\\utils\\deprecation.py:62: DeprecationWarning: Using a qobj for run() is deprecated as of qiskit-aer 0.9.0 and will be removed no sooner than 3 months from that release date. Transpiled circuits should now be passed directly using `backend.run(circuits, **run_options).\n",
      "  return func(*args, **kwargs)\n"
     ]
    },
    {
     "name": "stdout",
     "output_type": "stream",
     "text": [
      "Target value:       \t1.6296\n",
      "Exact value:        \t1.6834\n",
      "Estimated value:    \t1.6719\n",
      "Confidence interval:\t[1.5630, 1.7807]\n",
      "87\n",
      "10\n",
      "執行時間：75.546875 秒\n"
     ]
    },
    {
     "name": "stderr",
     "output_type": "stream",
     "text": [
      "C:\\Users\\user\\anaconda3\\lib\\site-packages\\qiskit\\utils\\deprecation.py:62: DeprecationWarning: Using a qobj for run() is deprecated as of qiskit-aer 0.9.0 and will be removed no sooner than 3 months from that release date. Transpiled circuits should now be passed directly using `backend.run(circuits, **run_options).\n",
      "  return func(*args, **kwargs)\n"
     ]
    },
    {
     "name": "stdout",
     "output_type": "stream",
     "text": [
      "Target value:       \t1.6316\n",
      "Exact value:        \t1.5863\n",
      "Estimated value:    \t1.6060\n",
      "Confidence interval:\t[1.5740, 1.6380]\n",
      "88\n",
      "10\n",
      "執行時間：77.578125 秒\n"
     ]
    },
    {
     "name": "stderr",
     "output_type": "stream",
     "text": [
      "C:\\Users\\user\\anaconda3\\lib\\site-packages\\qiskit\\utils\\deprecation.py:62: DeprecationWarning: Using a qobj for run() is deprecated as of qiskit-aer 0.9.0 and will be removed no sooner than 3 months from that release date. Transpiled circuits should now be passed directly using `backend.run(circuits, **run_options).\n",
      "  return func(*args, **kwargs)\n"
     ]
    },
    {
     "name": "stdout",
     "output_type": "stream",
     "text": [
      "Target value:       \t1.6305\n",
      "Exact value:        \t0.9955\n",
      "Estimated value:    \t1.0109\n",
      "Confidence interval:\t[0.9753, 1.0464]\n",
      "89\n",
      "10\n",
      "執行時間：77.390625 秒\n"
     ]
    },
    {
     "name": "stderr",
     "output_type": "stream",
     "text": [
      "C:\\Users\\user\\anaconda3\\lib\\site-packages\\qiskit\\utils\\deprecation.py:62: DeprecationWarning: Using a qobj for run() is deprecated as of qiskit-aer 0.9.0 and will be removed no sooner than 3 months from that release date. Transpiled circuits should now be passed directly using `backend.run(circuits, **run_options).\n",
      "  return func(*args, **kwargs)\n"
     ]
    },
    {
     "name": "stdout",
     "output_type": "stream",
     "text": [
      "Target value:       \t1.6296\n",
      "Exact value:        \t0.4174\n",
      "Estimated value:    \t0.4543\n",
      "Confidence interval:\t[0.4071, 0.5015]\n",
      "90\n",
      "10\n",
      "執行時間：76.343750 秒\n"
     ]
    },
    {
     "name": "stderr",
     "output_type": "stream",
     "text": [
      "C:\\Users\\user\\anaconda3\\lib\\site-packages\\qiskit\\utils\\deprecation.py:62: DeprecationWarning: Using a qobj for run() is deprecated as of qiskit-aer 0.9.0 and will be removed no sooner than 3 months from that release date. Transpiled circuits should now be passed directly using `backend.run(circuits, **run_options).\n",
      "  return func(*args, **kwargs)\n"
     ]
    },
    {
     "name": "stdout",
     "output_type": "stream",
     "text": [
      "Target value:       \t1.6277\n",
      "Exact value:        \t3.1003\n",
      "Estimated value:    \t3.0914\n",
      "Confidence interval:\t[3.0305, 3.1523]\n",
      "91\n",
      "10\n",
      "執行時間：76.203125 秒\n"
     ]
    },
    {
     "name": "stderr",
     "output_type": "stream",
     "text": [
      "C:\\Users\\user\\anaconda3\\lib\\site-packages\\qiskit\\utils\\deprecation.py:62: DeprecationWarning: Using a qobj for run() is deprecated as of qiskit-aer 0.9.0 and will be removed no sooner than 3 months from that release date. Transpiled circuits should now be passed directly using `backend.run(circuits, **run_options).\n",
      "  return func(*args, **kwargs)\n"
     ]
    },
    {
     "name": "stdout",
     "output_type": "stream",
     "text": [
      "Target value:       \t1.6368\n",
      "Exact value:        \t2.4055\n",
      "Estimated value:    \t2.3976\n",
      "Confidence interval:\t[2.3554, 2.4397]\n",
      "92\n",
      "10\n",
      "執行時間：77.187500 秒\n"
     ]
    },
    {
     "name": "stderr",
     "output_type": "stream",
     "text": [
      "C:\\Users\\user\\anaconda3\\lib\\site-packages\\qiskit\\utils\\deprecation.py:62: DeprecationWarning: Using a qobj for run() is deprecated as of qiskit-aer 0.9.0 and will be removed no sooner than 3 months from that release date. Transpiled circuits should now be passed directly using `backend.run(circuits, **run_options).\n",
      "  return func(*args, **kwargs)\n"
     ]
    },
    {
     "name": "stdout",
     "output_type": "stream",
     "text": [
      "Target value:       \t1.6333\n",
      "Exact value:        \t2.6373\n",
      "Estimated value:    \t2.6434\n",
      "Confidence interval:\t[2.6069, 2.6799]\n",
      "93\n",
      "10\n",
      "執行時間：77.218750 秒\n"
     ]
    },
    {
     "name": "stderr",
     "output_type": "stream",
     "text": [
      "C:\\Users\\user\\anaconda3\\lib\\site-packages\\qiskit\\utils\\deprecation.py:62: DeprecationWarning: Using a qobj for run() is deprecated as of qiskit-aer 0.9.0 and will be removed no sooner than 3 months from that release date. Transpiled circuits should now be passed directly using `backend.run(circuits, **run_options).\n",
      "  return func(*args, **kwargs)\n"
     ]
    },
    {
     "name": "stdout",
     "output_type": "stream",
     "text": [
      "Target value:       \t1.6326\n",
      "Exact value:        \t2.0683\n",
      "Estimated value:    \t2.0602\n",
      "Confidence interval:\t[1.9821, 2.1384]\n",
      "94\n",
      "10\n",
      "執行時間：75.500000 秒\n"
     ]
    },
    {
     "name": "stderr",
     "output_type": "stream",
     "text": [
      "C:\\Users\\user\\anaconda3\\lib\\site-packages\\qiskit\\utils\\deprecation.py:62: DeprecationWarning: Using a qobj for run() is deprecated as of qiskit-aer 0.9.0 and will be removed no sooner than 3 months from that release date. Transpiled circuits should now be passed directly using `backend.run(circuits, **run_options).\n",
      "  return func(*args, **kwargs)\n"
     ]
    },
    {
     "name": "stdout",
     "output_type": "stream",
     "text": [
      "Target value:       \t1.6158\n",
      "Exact value:        \t2.3229\n",
      "Estimated value:    \t2.3339\n",
      "Confidence interval:\t[2.2974, 2.3705]\n",
      "95\n",
      "10\n",
      "執行時間：77.562500 秒\n"
     ]
    },
    {
     "name": "stderr",
     "output_type": "stream",
     "text": [
      "C:\\Users\\user\\anaconda3\\lib\\site-packages\\qiskit\\utils\\deprecation.py:62: DeprecationWarning: Using a qobj for run() is deprecated as of qiskit-aer 0.9.0 and will be removed no sooner than 3 months from that release date. Transpiled circuits should now be passed directly using `backend.run(circuits, **run_options).\n",
      "  return func(*args, **kwargs)\n"
     ]
    },
    {
     "name": "stdout",
     "output_type": "stream",
     "text": [
      "Target value:       \t1.6304\n",
      "Exact value:        \t1.3328\n",
      "Estimated value:    \t1.3854\n",
      "Confidence interval:\t[1.2769, 1.4938]\n",
      "96\n",
      "10\n",
      "執行時間：75.312500 秒\n"
     ]
    },
    {
     "name": "stderr",
     "output_type": "stream",
     "text": [
      "C:\\Users\\user\\anaconda3\\lib\\site-packages\\qiskit\\utils\\deprecation.py:62: DeprecationWarning: Using a qobj for run() is deprecated as of qiskit-aer 0.9.0 and will be removed no sooner than 3 months from that release date. Transpiled circuits should now be passed directly using `backend.run(circuits, **run_options).\n",
      "  return func(*args, **kwargs)\n"
     ]
    },
    {
     "name": "stdout",
     "output_type": "stream",
     "text": [
      "Target value:       \t1.6349\n",
      "Exact value:        \t2.2129\n",
      "Estimated value:    \t2.2072\n",
      "Confidence interval:\t[2.1650, 2.2493]\n",
      "97\n",
      "10\n",
      "執行時間：76.953125 秒\n"
     ]
    },
    {
     "name": "stderr",
     "output_type": "stream",
     "text": [
      "C:\\Users\\user\\anaconda3\\lib\\site-packages\\qiskit\\utils\\deprecation.py:62: DeprecationWarning: Using a qobj for run() is deprecated as of qiskit-aer 0.9.0 and will be removed no sooner than 3 months from that release date. Transpiled circuits should now be passed directly using `backend.run(circuits, **run_options).\n",
      "  return func(*args, **kwargs)\n"
     ]
    },
    {
     "name": "stdout",
     "output_type": "stream",
     "text": [
      "Target value:       \t1.6346\n",
      "Exact value:        \t3.2081\n",
      "Estimated value:    \t3.1995\n",
      "Confidence interval:\t[3.0905, 3.3085]\n",
      "98\n",
      "10\n",
      "執行時間：75.359375 秒\n"
     ]
    },
    {
     "name": "stderr",
     "output_type": "stream",
     "text": [
      "C:\\Users\\user\\anaconda3\\lib\\site-packages\\qiskit\\utils\\deprecation.py:62: DeprecationWarning: Using a qobj for run() is deprecated as of qiskit-aer 0.9.0 and will be removed no sooner than 3 months from that release date. Transpiled circuits should now be passed directly using `backend.run(circuits, **run_options).\n",
      "  return func(*args, **kwargs)\n"
     ]
    },
    {
     "name": "stdout",
     "output_type": "stream",
     "text": [
      "Target value:       \t1.6311\n",
      "Exact value:        \t3.8918\n",
      "Estimated value:    \t3.8764\n",
      "Confidence interval:\t[3.8353, 3.9176]\n",
      "99\n",
      "10\n",
      "執行時間：76.984375 秒\n"
     ]
    },
    {
     "name": "stderr",
     "output_type": "stream",
     "text": [
      "C:\\Users\\user\\anaconda3\\lib\\site-packages\\qiskit\\utils\\deprecation.py:62: DeprecationWarning: Using a qobj for run() is deprecated as of qiskit-aer 0.9.0 and will be removed no sooner than 3 months from that release date. Transpiled circuits should now be passed directly using `backend.run(circuits, **run_options).\n",
      "  return func(*args, **kwargs)\n"
     ]
    },
    {
     "name": "stdout",
     "output_type": "stream",
     "text": [
      "Target value:       \t1.6306\n",
      "Exact value:        \t2.3214\n",
      "Estimated value:    \t2.3288\n",
      "Confidence interval:\t[2.2790, 2.3786]\n",
      "100\n",
      "10\n",
      "執行時間：76.437500 秒\n"
     ]
    }
   ],
   "source": [
    "ep_list_2 = []\n",
    "ep_train_list_2 =[]\n",
    "estimate_list_2 = []\n",
    "times_list_2 = []\n",
    "in_ci_2 = 0\n",
    "run_time_2 = 0\n",
    "\n",
    "for times in range(1, 101):\n",
    "    \n",
    "    start = time.process_time()\n",
    "    \n",
    "    N = 1000\n",
    "    qubits_num = 3\n",
    "    num_epochs = 10\n",
    "    \n",
    "    data = []\n",
    "    data = pandas.read_csv(\"ttt.csv\", names=[\"price\"])\n",
    "    scaler = StandardScaler()\n",
    "    data_list = scaler.fit_transform(data)\n",
    "    data_arr = np.array(data_list)\n",
    "    actual_data = data_arr.astype(float)\n",
    "    \n",
    "    sigma,loc,scale = stats.lognorm.fit(actual_data)\n",
    "    estimated_mu = np.log(scale)\n",
    "    estimated_sigma = sigma\n",
    "    real_data = np.random.lognormal(mean=estimated_mu, sigma=estimated_sigma, size=N)\n",
    "\n",
    "    Dmin = real_data.min()\n",
    "    Dmax = real_data.max()\n",
    "    \n",
    "    load_num_qubits = [qubits_num]\n",
    "    k = len(load_num_qubits)\n",
    "    load_bounds = np.array([0, (2 ** load_num_qubits[0]) -1])\n",
    "\n",
    "    batch_size = int(N/num_epochs)\n",
    "    qgan = QGAN(real_data, load_bounds, load_num_qubits, batch_size, num_epochs, snapshot_dir=None)\n",
    "    qgan.seed = 11\n",
    "    quantum_instance = QuantumInstance(backend=BasicAer.get_backend('statevector_simulator'),\n",
    "                                   seed_transpiler=seed, seed_simulator=seed)\n",
    "\n",
    "    init_dist = UniformDistribution(sum(load_num_qubits))\n",
    "    ansatz = TwoLocal(int(np.sum(load_num_qubits)), 'ry', 'cz', 'linear', reps=1, insert_barriers=True)\n",
    "    init_params = np.random.rand(ansatz.num_parameters_settable) * 2 * np.pi\n",
    "    load_g_circuit = ansatz.compose(init_dist, front=True)\n",
    "\n",
    "    qgan.set_generator(generator_circuit=load_g_circuit, generator_init_params=init_params)\n",
    "    qgan._generator._free_parameters = sorted(load_g_circuit.parameters, key=lambda p: p.name)\n",
    "    discriminator = NumPyDiscriminator(len(load_num_qubits))\n",
    "    qgan.set_discriminator(discriminator)\n",
    "    \n",
    "    result = qgan.run(quantum_instance)\n",
    "    \n",
    "    op_bounds = np.array([0 , (2 ** load_num_qubits[0]) -1])\n",
    "    op_num_qubits = load_num_qubits[0]\n",
    "    g_params = result['params_g']\n",
    "    init_dist = NormalDistribution(op_num_qubits, mu=estimated_mu, sigma=estimated_sigma, bounds=op_bounds)\n",
    "    var_form = TwoLocal(op_num_qubits, 'ry', 'cz', entanglement='circular', reps=1)\n",
    "    theta = var_form.ordered_parameters\n",
    "    op_g_circuit = init_dist.compose(var_form)\n",
    "\n",
    "    strike_price = 2\n",
    "    c_approx = 0.25\n",
    "    european_call_objective = EuropeanCallExpectedValue(\n",
    "        op_num_qubits,\n",
    "        strike_price=strike_price,\n",
    "        rescaling_factor=c_approx,\n",
    "        bounds=op_bounds\n",
    "    )\n",
    "    \n",
    "    values = [op_bounds[0] + (op_bounds[1] - op_bounds[0]) * x / (2 ** op_num_qubits - 1) for x in range(2**op_num_qubits)]\n",
    "    uncertainty_model = op_g_circuit.assign_parameters(dict(zip(theta, g_params)))\n",
    "    amplitudes = Statevector.from_instruction(uncertainty_model).data\n",
    "\n",
    "    x = np.array(values)\n",
    "    y = np.abs(amplitudes) ** 2\n",
    "\n",
    "    N = 100000\n",
    "    log_normal = np.random.lognormal(mean=estimated_mu, sigma=estimated_sigma, size=N)\n",
    "    log_normal = np.round(log_normal)\n",
    "    log_normal = log_normal[log_normal <= (2 ** op_num_qubits) -1]\n",
    "    log_normal_samples = []\n",
    "    for i in range(2 ** op_num_qubits):\n",
    "        log_normal_samples += [np.sum(log_normal==i)]\n",
    "    log_normal_samples = np.array(log_normal_samples / sum(log_normal_samples))\n",
    "\n",
    "    payoff = []\n",
    "    for i in range(2 ** op_num_qubits):\n",
    "        if i <= strike_price:\n",
    "            payoff.append(0)\n",
    "        else:\n",
    "            payoff.append(i - strike_price)\n",
    "    payoff = np.array(payoff)\n",
    "\n",
    "    ep = np.dot(log_normal_samples, payoff)\n",
    "    ep_trained = np.dot(y, payoff)\n",
    "    european_call = european_call_objective.compose(uncertainty_model, front=True)\n",
    "    epsilon = 0.01\n",
    "    alpha = 0.05\n",
    "    \n",
    "    ae = IterativeAmplitudeEstimation(epsilon=epsilon, alpha=alpha,\n",
    "                                      state_preparation=european_call,\n",
    "                                      objective_qubits=[op_num_qubits],\n",
    "                                      post_processing=european_call_objective.post_processing)\n",
    "    END_result = ae.run(quantum_instance = Aer.get_backend('qasm_simulator'), shots = 1000)\n",
    "    \n",
    "    conf_int = np.array(END_result['confidence_interval'])\n",
    "    print('Target value:       \\t%.4f' % ep)\n",
    "    print('Exact value:        \\t%.4f' % ep_trained)\n",
    "    print('Estimated value:    \\t%.4f' % (END_result['estimation']))\n",
    "    print('Confidence interval:\\t[%.4f, %.4f]' % tuple(conf_int))\n",
    "    print(times)\n",
    "    print(num_epochs)\n",
    "    end = time.process_time()\n",
    "    print(\"執行時間：%f 秒\" % (end - start))\n",
    "\n",
    "    if conf_int[0] <= ep <= conf_int[1]:\n",
    "        in_ci_2 += 1\n",
    "        \n",
    "    run_time_2 += (end - start)\n",
    "    ep_list_2.append(ep)\n",
    "    ep_train_list_2.append(ep_trained)\n",
    "    estimate_list_2.append((END_result['estimation']))\n",
    "    times_list_2.append(times)"
   ]
  },
  {
   "cell_type": "code",
   "execution_count": 4,
   "id": "311d237a",
   "metadata": {},
   "outputs": [
    {
     "name": "stderr",
     "output_type": "stream",
     "text": [
      "C:\\Users\\user\\anaconda3\\lib\\site-packages\\qiskit\\utils\\deprecation.py:62: DeprecationWarning: Using a qobj for run() is deprecated as of qiskit-aer 0.9.0 and will be removed no sooner than 3 months from that release date. Transpiled circuits should now be passed directly using `backend.run(circuits, **run_options).\n",
      "  return func(*args, **kwargs)\n"
     ]
    },
    {
     "name": "stdout",
     "output_type": "stream",
     "text": [
      "Target value:       \t1.6311\n",
      "Exact value:        \t1.5878\n",
      "Estimated value:    \t1.6908\n",
      "Confidence interval:\t[1.5819, 1.7997]\n",
      "1\n",
      "20\n",
      "執行時間：311.015625 秒\n"
     ]
    },
    {
     "name": "stderr",
     "output_type": "stream",
     "text": [
      "C:\\Users\\user\\anaconda3\\lib\\site-packages\\qiskit\\utils\\deprecation.py:62: DeprecationWarning: Using a qobj for run() is deprecated as of qiskit-aer 0.9.0 and will be removed no sooner than 3 months from that release date. Transpiled circuits should now be passed directly using `backend.run(circuits, **run_options).\n",
      "  return func(*args, **kwargs)\n"
     ]
    },
    {
     "name": "stdout",
     "output_type": "stream",
     "text": [
      "Target value:       \t1.6287\n",
      "Exact value:        \t2.6060\n",
      "Estimated value:    \t2.5888\n",
      "Confidence interval:\t[2.5523, 2.6253]\n",
      "2\n",
      "20\n",
      "執行時間：312.671875 秒\n"
     ]
    },
    {
     "name": "stderr",
     "output_type": "stream",
     "text": [
      "C:\\Users\\user\\anaconda3\\lib\\site-packages\\qiskit\\utils\\deprecation.py:62: DeprecationWarning: Using a qobj for run() is deprecated as of qiskit-aer 0.9.0 and will be removed no sooner than 3 months from that release date. Transpiled circuits should now be passed directly using `backend.run(circuits, **run_options).\n",
      "  return func(*args, **kwargs)\n"
     ]
    },
    {
     "name": "stdout",
     "output_type": "stream",
     "text": [
      "Target value:       \t1.6241\n",
      "Exact value:        \t1.9162\n",
      "Estimated value:    \t1.9212\n",
      "Confidence interval:\t[1.8431, 1.9993]\n",
      "3\n",
      "20\n",
      "執行時間：311.359375 秒\n"
     ]
    },
    {
     "name": "stderr",
     "output_type": "stream",
     "text": [
      "C:\\Users\\user\\anaconda3\\lib\\site-packages\\qiskit\\utils\\deprecation.py:62: DeprecationWarning: Using a qobj for run() is deprecated as of qiskit-aer 0.9.0 and will be removed no sooner than 3 months from that release date. Transpiled circuits should now be passed directly using `backend.run(circuits, **run_options).\n",
      "  return func(*args, **kwargs)\n"
     ]
    },
    {
     "name": "stdout",
     "output_type": "stream",
     "text": [
      "Target value:       \t1.6255\n",
      "Exact value:        \t2.0385\n",
      "Estimated value:    \t2.0705\n",
      "Confidence interval:\t[1.9923, 2.1486]\n",
      "4\n",
      "20\n",
      "執行時間：310.671875 秒\n"
     ]
    },
    {
     "name": "stderr",
     "output_type": "stream",
     "text": [
      "C:\\Users\\user\\anaconda3\\lib\\site-packages\\qiskit\\utils\\deprecation.py:62: DeprecationWarning: Using a qobj for run() is deprecated as of qiskit-aer 0.9.0 and will be removed no sooner than 3 months from that release date. Transpiled circuits should now be passed directly using `backend.run(circuits, **run_options).\n",
      "  return func(*args, **kwargs)\n"
     ]
    },
    {
     "name": "stdout",
     "output_type": "stream",
     "text": [
      "Target value:       \t1.6283\n",
      "Exact value:        \t0.5611\n",
      "Estimated value:    \t0.5982\n",
      "Confidence interval:\t[0.5579, 0.6386]\n",
      "5\n",
      "20\n",
      "執行時間：312.406250 秒\n"
     ]
    },
    {
     "name": "stderr",
     "output_type": "stream",
     "text": [
      "C:\\Users\\user\\anaconda3\\lib\\site-packages\\qiskit\\utils\\deprecation.py:62: DeprecationWarning: Using a qobj for run() is deprecated as of qiskit-aer 0.9.0 and will be removed no sooner than 3 months from that release date. Transpiled circuits should now be passed directly using `backend.run(circuits, **run_options).\n",
      "  return func(*args, **kwargs)\n"
     ]
    },
    {
     "name": "stdout",
     "output_type": "stream",
     "text": [
      "Target value:       \t1.6250\n",
      "Exact value:        \t0.0411\n",
      "Estimated value:    \t0.1076\n",
      "Confidence interval:\t[0.0677, 0.1475]\n",
      "6\n",
      "20\n",
      "執行時間：311.750000 秒\n"
     ]
    },
    {
     "name": "stderr",
     "output_type": "stream",
     "text": [
      "C:\\Users\\user\\anaconda3\\lib\\site-packages\\qiskit\\utils\\deprecation.py:62: DeprecationWarning: Using a qobj for run() is deprecated as of qiskit-aer 0.9.0 and will be removed no sooner than 3 months from that release date. Transpiled circuits should now be passed directly using `backend.run(circuits, **run_options).\n",
      "  return func(*args, **kwargs)\n"
     ]
    },
    {
     "name": "stdout",
     "output_type": "stream",
     "text": [
      "Target value:       \t1.6254\n",
      "Exact value:        \t1.0369\n",
      "Estimated value:    \t1.0694\n",
      "Confidence interval:\t[1.0283, 1.1104]\n",
      "7\n",
      "20\n",
      "執行時間：311.703125 秒\n"
     ]
    },
    {
     "name": "stderr",
     "output_type": "stream",
     "text": [
      "C:\\Users\\user\\anaconda3\\lib\\site-packages\\qiskit\\utils\\deprecation.py:62: DeprecationWarning: Using a qobj for run() is deprecated as of qiskit-aer 0.9.0 and will be removed no sooner than 3 months from that release date. Transpiled circuits should now be passed directly using `backend.run(circuits, **run_options).\n",
      "  return func(*args, **kwargs)\n"
     ]
    },
    {
     "name": "stdout",
     "output_type": "stream",
     "text": [
      "Target value:       \t1.6284\n",
      "Exact value:        \t2.3800\n",
      "Estimated value:    \t2.3970\n",
      "Confidence interval:\t[2.3648, 2.4292]\n",
      "8\n",
      "20\n",
      "執行時間：312.140625 秒\n"
     ]
    },
    {
     "name": "stderr",
     "output_type": "stream",
     "text": [
      "C:\\Users\\user\\anaconda3\\lib\\site-packages\\qiskit\\utils\\deprecation.py:62: DeprecationWarning: Using a qobj for run() is deprecated as of qiskit-aer 0.9.0 and will be removed no sooner than 3 months from that release date. Transpiled circuits should now be passed directly using `backend.run(circuits, **run_options).\n",
      "  return func(*args, **kwargs)\n"
     ]
    },
    {
     "name": "stdout",
     "output_type": "stream",
     "text": [
      "Target value:       \t1.6339\n",
      "Exact value:        \t3.0136\n",
      "Estimated value:    \t3.0143\n",
      "Confidence interval:\t[2.9644, 3.0642]\n",
      "9\n",
      "20\n",
      "執行時間：311.218750 秒\n"
     ]
    },
    {
     "name": "stderr",
     "output_type": "stream",
     "text": [
      "C:\\Users\\user\\anaconda3\\lib\\site-packages\\qiskit\\utils\\deprecation.py:62: DeprecationWarning: Using a qobj for run() is deprecated as of qiskit-aer 0.9.0 and will be removed no sooner than 3 months from that release date. Transpiled circuits should now be passed directly using `backend.run(circuits, **run_options).\n",
      "  return func(*args, **kwargs)\n"
     ]
    },
    {
     "name": "stdout",
     "output_type": "stream",
     "text": [
      "Target value:       \t1.6220\n",
      "Exact value:        \t2.7713\n",
      "Estimated value:    \t2.7859\n",
      "Confidence interval:\t[2.7251, 2.8467]\n",
      "10\n",
      "20\n",
      "執行時間：310.421875 秒\n"
     ]
    },
    {
     "name": "stderr",
     "output_type": "stream",
     "text": [
      "C:\\Users\\user\\anaconda3\\lib\\site-packages\\qiskit\\utils\\deprecation.py:62: DeprecationWarning: Using a qobj for run() is deprecated as of qiskit-aer 0.9.0 and will be removed no sooner than 3 months from that release date. Transpiled circuits should now be passed directly using `backend.run(circuits, **run_options).\n",
      "  return func(*args, **kwargs)\n"
     ]
    },
    {
     "name": "stdout",
     "output_type": "stream",
     "text": [
      "Target value:       \t1.6275\n",
      "Exact value:        \t2.2002\n",
      "Estimated value:    \t2.2189\n",
      "Confidence interval:\t[2.1768, 2.2611]\n",
      "11\n",
      "20\n",
      "執行時間：327.609375 秒\n"
     ]
    },
    {
     "name": "stderr",
     "output_type": "stream",
     "text": [
      "C:\\Users\\user\\anaconda3\\lib\\site-packages\\qiskit\\utils\\deprecation.py:62: DeprecationWarning: Using a qobj for run() is deprecated as of qiskit-aer 0.9.0 and will be removed no sooner than 3 months from that release date. Transpiled circuits should now be passed directly using `backend.run(circuits, **run_options).\n",
      "  return func(*args, **kwargs)\n"
     ]
    },
    {
     "name": "stdout",
     "output_type": "stream",
     "text": [
      "Target value:       \t1.6384\n",
      "Exact value:        \t2.8741\n",
      "Estimated value:    \t2.8418\n",
      "Confidence interval:\t[2.7920, 2.8916]\n",
      "12\n",
      "20\n",
      "執行時間：311.421875 秒\n"
     ]
    },
    {
     "name": "stderr",
     "output_type": "stream",
     "text": [
      "C:\\Users\\user\\anaconda3\\lib\\site-packages\\qiskit\\utils\\deprecation.py:62: DeprecationWarning: Using a qobj for run() is deprecated as of qiskit-aer 0.9.0 and will be removed no sooner than 3 months from that release date. Transpiled circuits should now be passed directly using `backend.run(circuits, **run_options).\n",
      "  return func(*args, **kwargs)\n"
     ]
    },
    {
     "name": "stdout",
     "output_type": "stream",
     "text": [
      "Target value:       \t1.6352\n",
      "Exact value:        \t0.6969\n",
      "Estimated value:    \t0.7576\n",
      "Confidence interval:\t[0.7098, 0.8055]\n",
      "13\n",
      "20\n",
      "執行時間：311.390625 秒\n"
     ]
    },
    {
     "name": "stderr",
     "output_type": "stream",
     "text": [
      "C:\\Users\\user\\anaconda3\\lib\\site-packages\\qiskit\\utils\\deprecation.py:62: DeprecationWarning: Using a qobj for run() is deprecated as of qiskit-aer 0.9.0 and will be removed no sooner than 3 months from that release date. Transpiled circuits should now be passed directly using `backend.run(circuits, **run_options).\n",
      "  return func(*args, **kwargs)\n"
     ]
    },
    {
     "name": "stdout",
     "output_type": "stream",
     "text": [
      "Target value:       \t1.6301\n",
      "Exact value:        \t4.2750\n",
      "Estimated value:    \t4.1906\n",
      "Confidence interval:\t[4.1500, 4.2313]\n",
      "14\n",
      "20\n",
      "執行時間：311.125000 秒\n"
     ]
    },
    {
     "name": "stderr",
     "output_type": "stream",
     "text": [
      "C:\\Users\\user\\anaconda3\\lib\\site-packages\\qiskit\\utils\\deprecation.py:62: DeprecationWarning: Using a qobj for run() is deprecated as of qiskit-aer 0.9.0 and will be removed no sooner than 3 months from that release date. Transpiled circuits should now be passed directly using `backend.run(circuits, **run_options).\n",
      "  return func(*args, **kwargs)\n"
     ]
    },
    {
     "name": "stdout",
     "output_type": "stream",
     "text": [
      "Target value:       \t1.6244\n",
      "Exact value:        \t0.3016\n",
      "Estimated value:    \t0.3773\n",
      "Confidence interval:\t[0.3200, 0.4346]\n",
      "15\n",
      "20\n",
      "執行時間：327.062500 秒\n"
     ]
    },
    {
     "name": "stderr",
     "output_type": "stream",
     "text": [
      "C:\\Users\\user\\anaconda3\\lib\\site-packages\\qiskit\\utils\\deprecation.py:62: DeprecationWarning: Using a qobj for run() is deprecated as of qiskit-aer 0.9.0 and will be removed no sooner than 3 months from that release date. Transpiled circuits should now be passed directly using `backend.run(circuits, **run_options).\n",
      "  return func(*args, **kwargs)\n"
     ]
    },
    {
     "name": "stdout",
     "output_type": "stream",
     "text": [
      "Target value:       \t1.6227\n",
      "Exact value:        \t0.7249\n",
      "Estimated value:    \t0.7379\n",
      "Confidence interval:\t[0.6974, 0.7784]\n",
      "16\n",
      "20\n",
      "執行時間：328.031250 秒\n"
     ]
    },
    {
     "name": "stderr",
     "output_type": "stream",
     "text": [
      "C:\\Users\\user\\anaconda3\\lib\\site-packages\\qiskit\\utils\\deprecation.py:62: DeprecationWarning: Using a qobj for run() is deprecated as of qiskit-aer 0.9.0 and will be removed no sooner than 3 months from that release date. Transpiled circuits should now be passed directly using `backend.run(circuits, **run_options).\n",
      "  return func(*args, **kwargs)\n"
     ]
    },
    {
     "name": "stdout",
     "output_type": "stream",
     "text": [
      "Target value:       \t1.6297\n",
      "Exact value:        \t1.7143\n",
      "Estimated value:    \t1.7616\n",
      "Confidence interval:\t[1.6836, 1.8397]\n",
      "17\n",
      "20\n",
      "執行時間：310.671875 秒\n"
     ]
    },
    {
     "name": "stderr",
     "output_type": "stream",
     "text": [
      "C:\\Users\\user\\anaconda3\\lib\\site-packages\\qiskit\\utils\\deprecation.py:62: DeprecationWarning: Using a qobj for run() is deprecated as of qiskit-aer 0.9.0 and will be removed no sooner than 3 months from that release date. Transpiled circuits should now be passed directly using `backend.run(circuits, **run_options).\n",
      "  return func(*args, **kwargs)\n"
     ]
    },
    {
     "name": "stdout",
     "output_type": "stream",
     "text": [
      "Target value:       \t1.6249\n",
      "Exact value:        \t3.3943\n",
      "Estimated value:    \t3.4017\n",
      "Confidence interval:\t[3.3236, 3.4798]\n",
      "18\n",
      "20\n",
      "執行時間：310.546875 秒\n"
     ]
    },
    {
     "name": "stderr",
     "output_type": "stream",
     "text": [
      "C:\\Users\\user\\anaconda3\\lib\\site-packages\\qiskit\\utils\\deprecation.py:62: DeprecationWarning: Using a qobj for run() is deprecated as of qiskit-aer 0.9.0 and will be removed no sooner than 3 months from that release date. Transpiled circuits should now be passed directly using `backend.run(circuits, **run_options).\n",
      "  return func(*args, **kwargs)\n"
     ]
    },
    {
     "name": "stdout",
     "output_type": "stream",
     "text": [
      "Target value:       \t1.6270\n",
      "Exact value:        \t2.9083\n",
      "Estimated value:    \t2.8707\n",
      "Confidence interval:\t[2.8340, 2.9073]\n",
      "19\n",
      "20\n",
      "執行時間：312.312500 秒\n"
     ]
    },
    {
     "name": "stderr",
     "output_type": "stream",
     "text": [
      "C:\\Users\\user\\anaconda3\\lib\\site-packages\\qiskit\\utils\\deprecation.py:62: DeprecationWarning: Using a qobj for run() is deprecated as of qiskit-aer 0.9.0 and will be removed no sooner than 3 months from that release date. Transpiled circuits should now be passed directly using `backend.run(circuits, **run_options).\n",
      "  return func(*args, **kwargs)\n"
     ]
    },
    {
     "name": "stdout",
     "output_type": "stream",
     "text": [
      "Target value:       \t1.6294\n",
      "Exact value:        \t2.4802\n",
      "Estimated value:    \t2.4746\n",
      "Confidence interval:\t[2.4248, 2.5243]\n",
      "20\n",
      "20\n",
      "執行時間：311.125000 秒\n"
     ]
    },
    {
     "name": "stderr",
     "output_type": "stream",
     "text": [
      "C:\\Users\\user\\anaconda3\\lib\\site-packages\\qiskit\\utils\\deprecation.py:62: DeprecationWarning: Using a qobj for run() is deprecated as of qiskit-aer 0.9.0 and will be removed no sooner than 3 months from that release date. Transpiled circuits should now be passed directly using `backend.run(circuits, **run_options).\n",
      "  return func(*args, **kwargs)\n"
     ]
    },
    {
     "name": "stdout",
     "output_type": "stream",
     "text": [
      "Target value:       \t1.6325\n",
      "Exact value:        \t0.9450\n",
      "Estimated value:    \t1.0000\n",
      "Confidence interval:\t[0.9515, 1.0484]\n",
      "21\n",
      "20\n",
      "執行時間：310.890625 秒\n"
     ]
    },
    {
     "name": "stderr",
     "output_type": "stream",
     "text": [
      "C:\\Users\\user\\anaconda3\\lib\\site-packages\\qiskit\\utils\\deprecation.py:62: DeprecationWarning: Using a qobj for run() is deprecated as of qiskit-aer 0.9.0 and will be removed no sooner than 3 months from that release date. Transpiled circuits should now be passed directly using `backend.run(circuits, **run_options).\n",
      "  return func(*args, **kwargs)\n"
     ]
    },
    {
     "name": "stdout",
     "output_type": "stream",
     "text": [
      "Target value:       \t1.6293\n",
      "Exact value:        \t0.5291\n",
      "Estimated value:    \t0.5763\n",
      "Confidence interval:\t[0.5453, 0.6074]\n",
      "22\n",
      "20\n",
      "執行時間：312.453125 秒\n"
     ]
    },
    {
     "name": "stderr",
     "output_type": "stream",
     "text": [
      "C:\\Users\\user\\anaconda3\\lib\\site-packages\\qiskit\\utils\\deprecation.py:62: DeprecationWarning: Using a qobj for run() is deprecated as of qiskit-aer 0.9.0 and will be removed no sooner than 3 months from that release date. Transpiled circuits should now be passed directly using `backend.run(circuits, **run_options).\n",
      "  return func(*args, **kwargs)\n"
     ]
    },
    {
     "name": "stdout",
     "output_type": "stream",
     "text": [
      "Target value:       \t1.6295\n",
      "Exact value:        \t3.4374\n",
      "Estimated value:    \t3.4017\n",
      "Confidence interval:\t[3.3236, 3.4798]\n",
      "23\n",
      "20\n",
      "執行時間：310.718750 秒\n"
     ]
    },
    {
     "name": "stderr",
     "output_type": "stream",
     "text": [
      "C:\\Users\\user\\anaconda3\\lib\\site-packages\\qiskit\\utils\\deprecation.py:62: DeprecationWarning: Using a qobj for run() is deprecated as of qiskit-aer 0.9.0 and will be removed no sooner than 3 months from that release date. Transpiled circuits should now be passed directly using `backend.run(circuits, **run_options).\n",
      "  return func(*args, **kwargs)\n"
     ]
    },
    {
     "name": "stdout",
     "output_type": "stream",
     "text": [
      "Target value:       \t1.6292\n",
      "Exact value:        \t3.8035\n",
      "Estimated value:    \t3.7770\n",
      "Confidence interval:\t[3.7413, 3.8128]\n",
      "24\n",
      "20\n",
      "執行時間：312.359375 秒\n"
     ]
    },
    {
     "name": "stderr",
     "output_type": "stream",
     "text": [
      "C:\\Users\\user\\anaconda3\\lib\\site-packages\\qiskit\\utils\\deprecation.py:62: DeprecationWarning: Using a qobj for run() is deprecated as of qiskit-aer 0.9.0 and will be removed no sooner than 3 months from that release date. Transpiled circuits should now be passed directly using `backend.run(circuits, **run_options).\n",
      "  return func(*args, **kwargs)\n"
     ]
    },
    {
     "name": "stdout",
     "output_type": "stream",
     "text": [
      "Target value:       \t1.6298\n",
      "Exact value:        \t0.7211\n",
      "Estimated value:    \t0.7696\n",
      "Confidence interval:\t[0.7290, 0.8101]\n",
      "25\n",
      "20\n",
      "執行時間：311.703125 秒\n"
     ]
    },
    {
     "name": "stderr",
     "output_type": "stream",
     "text": [
      "C:\\Users\\user\\anaconda3\\lib\\site-packages\\qiskit\\utils\\deprecation.py:62: DeprecationWarning: Using a qobj for run() is deprecated as of qiskit-aer 0.9.0 and will be removed no sooner than 3 months from that release date. Transpiled circuits should now be passed directly using `backend.run(circuits, **run_options).\n",
      "  return func(*args, **kwargs)\n"
     ]
    },
    {
     "name": "stdout",
     "output_type": "stream",
     "text": [
      "Target value:       \t1.6355\n",
      "Exact value:        \t2.5634\n",
      "Estimated value:    \t2.5556\n",
      "Confidence interval:\t[2.5058, 2.6053]\n",
      "26\n",
      "20\n",
      "執行時間：311.125000 秒\n"
     ]
    },
    {
     "name": "stderr",
     "output_type": "stream",
     "text": [
      "C:\\Users\\user\\anaconda3\\lib\\site-packages\\qiskit\\utils\\deprecation.py:62: DeprecationWarning: Using a qobj for run() is deprecated as of qiskit-aer 0.9.0 and will be removed no sooner than 3 months from that release date. Transpiled circuits should now be passed directly using `backend.run(circuits, **run_options).\n",
      "  return func(*args, **kwargs)\n"
     ]
    },
    {
     "name": "stdout",
     "output_type": "stream",
     "text": [
      "Target value:       \t1.6281\n",
      "Exact value:        \t1.4906\n",
      "Estimated value:    \t1.5280\n",
      "Confidence interval:\t[1.4499, 1.6062]\n",
      "27\n",
      "20\n",
      "執行時間：326.343750 秒\n"
     ]
    },
    {
     "name": "stderr",
     "output_type": "stream",
     "text": [
      "C:\\Users\\user\\anaconda3\\lib\\site-packages\\qiskit\\utils\\deprecation.py:62: DeprecationWarning: Using a qobj for run() is deprecated as of qiskit-aer 0.9.0 and will be removed no sooner than 3 months from that release date. Transpiled circuits should now be passed directly using `backend.run(circuits, **run_options).\n",
      "  return func(*args, **kwargs)\n"
     ]
    },
    {
     "name": "stdout",
     "output_type": "stream",
     "text": [
      "Target value:       \t1.6269\n",
      "Exact value:        \t1.9311\n",
      "Estimated value:    \t1.8895\n",
      "Confidence interval:\t[1.8394, 1.9396]\n",
      "28\n",
      "20\n",
      "執行時間：311.796875 秒\n"
     ]
    },
    {
     "name": "stderr",
     "output_type": "stream",
     "text": [
      "C:\\Users\\user\\anaconda3\\lib\\site-packages\\qiskit\\utils\\deprecation.py:62: DeprecationWarning: Using a qobj for run() is deprecated as of qiskit-aer 0.9.0 and will be removed no sooner than 3 months from that release date. Transpiled circuits should now be passed directly using `backend.run(circuits, **run_options).\n",
      "  return func(*args, **kwargs)\n"
     ]
    },
    {
     "name": "stdout",
     "output_type": "stream",
     "text": [
      "Target value:       \t1.6248\n",
      "Exact value:        \t0.7267\n",
      "Estimated value:    \t0.7666\n",
      "Confidence interval:\t[0.7187, 0.8145]\n",
      "29\n",
      "20\n",
      "執行時間：310.781250 秒\n"
     ]
    },
    {
     "name": "stderr",
     "output_type": "stream",
     "text": [
      "C:\\Users\\user\\anaconda3\\lib\\site-packages\\qiskit\\utils\\deprecation.py:62: DeprecationWarning: Using a qobj for run() is deprecated as of qiskit-aer 0.9.0 and will be removed no sooner than 3 months from that release date. Transpiled circuits should now be passed directly using `backend.run(circuits, **run_options).\n",
      "  return func(*args, **kwargs)\n"
     ]
    },
    {
     "name": "stdout",
     "output_type": "stream",
     "text": [
      "Target value:       \t1.6271\n",
      "Exact value:        \t0.7674\n",
      "Estimated value:    \t0.8214\n",
      "Confidence interval:\t[0.7807, 0.8620]\n",
      "30\n",
      "20\n",
      "執行時間：311.562500 秒\n"
     ]
    },
    {
     "name": "stderr",
     "output_type": "stream",
     "text": [
      "C:\\Users\\user\\anaconda3\\lib\\site-packages\\qiskit\\utils\\deprecation.py:62: DeprecationWarning: Using a qobj for run() is deprecated as of qiskit-aer 0.9.0 and will be removed no sooner than 3 months from that release date. Transpiled circuits should now be passed directly using `backend.run(circuits, **run_options).\n",
      "  return func(*args, **kwargs)\n"
     ]
    },
    {
     "name": "stdout",
     "output_type": "stream",
     "text": [
      "Target value:       \t1.6298\n",
      "Exact value:        \t0.1350\n",
      "Estimated value:    \t0.1776\n",
      "Confidence interval:\t[0.1209, 0.2342]\n",
      "31\n",
      "20\n",
      "執行時間：310.703125 秒\n"
     ]
    },
    {
     "name": "stderr",
     "output_type": "stream",
     "text": [
      "C:\\Users\\user\\anaconda3\\lib\\site-packages\\qiskit\\utils\\deprecation.py:62: DeprecationWarning: Using a qobj for run() is deprecated as of qiskit-aer 0.9.0 and will be removed no sooner than 3 months from that release date. Transpiled circuits should now be passed directly using `backend.run(circuits, **run_options).\n",
      "  return func(*args, **kwargs)\n"
     ]
    },
    {
     "name": "stdout",
     "output_type": "stream",
     "text": [
      "Target value:       \t1.6329\n",
      "Exact value:        \t3.5066\n",
      "Estimated value:    \t3.3862\n",
      "Confidence interval:\t[3.2775, 3.4950]\n",
      "32\n",
      "20\n",
      "執行時間：310.421875 秒\n"
     ]
    },
    {
     "name": "stderr",
     "output_type": "stream",
     "text": [
      "C:\\Users\\user\\anaconda3\\lib\\site-packages\\qiskit\\utils\\deprecation.py:62: DeprecationWarning: Using a qobj for run() is deprecated as of qiskit-aer 0.9.0 and will be removed no sooner than 3 months from that release date. Transpiled circuits should now be passed directly using `backend.run(circuits, **run_options).\n",
      "  return func(*args, **kwargs)\n"
     ]
    },
    {
     "name": "stdout",
     "output_type": "stream",
     "text": [
      "Target value:       \t1.6364\n",
      "Exact value:        \t2.0920\n",
      "Estimated value:    \t2.1087\n",
      "Confidence interval:\t[2.0306, 2.1869]\n",
      "33\n",
      "20\n",
      "執行時間：310.218750 秒\n"
     ]
    },
    {
     "name": "stderr",
     "output_type": "stream",
     "text": [
      "C:\\Users\\user\\anaconda3\\lib\\site-packages\\qiskit\\utils\\deprecation.py:62: DeprecationWarning: Using a qobj for run() is deprecated as of qiskit-aer 0.9.0 and will be removed no sooner than 3 months from that release date. Transpiled circuits should now be passed directly using `backend.run(circuits, **run_options).\n",
      "  return func(*args, **kwargs)\n"
     ]
    },
    {
     "name": "stdout",
     "output_type": "stream",
     "text": [
      "Target value:       \t1.6325\n",
      "Exact value:        \t0.8577\n",
      "Estimated value:    \t0.8702\n",
      "Confidence interval:\t[0.8221, 0.9184]\n",
      "34\n",
      "20\n",
      "執行時間：310.546875 秒\n"
     ]
    },
    {
     "name": "stderr",
     "output_type": "stream",
     "text": [
      "C:\\Users\\user\\anaconda3\\lib\\site-packages\\qiskit\\utils\\deprecation.py:62: DeprecationWarning: Using a qobj for run() is deprecated as of qiskit-aer 0.9.0 and will be removed no sooner than 3 months from that release date. Transpiled circuits should now be passed directly using `backend.run(circuits, **run_options).\n",
      "  return func(*args, **kwargs)\n"
     ]
    },
    {
     "name": "stdout",
     "output_type": "stream",
     "text": [
      "Target value:       \t1.6329\n",
      "Exact value:        \t2.5496\n",
      "Estimated value:    \t2.5463\n",
      "Confidence interval:\t[2.4965, 2.5960]\n",
      "35\n",
      "20\n",
      "執行時間：311.015625 秒\n"
     ]
    },
    {
     "name": "stderr",
     "output_type": "stream",
     "text": [
      "C:\\Users\\user\\anaconda3\\lib\\site-packages\\qiskit\\utils\\deprecation.py:62: DeprecationWarning: Using a qobj for run() is deprecated as of qiskit-aer 0.9.0 and will be removed no sooner than 3 months from that release date. Transpiled circuits should now be passed directly using `backend.run(circuits, **run_options).\n",
      "  return func(*args, **kwargs)\n"
     ]
    },
    {
     "name": "stdout",
     "output_type": "stream",
     "text": [
      "Target value:       \t1.6315\n",
      "Exact value:        \t0.5708\n",
      "Estimated value:    \t0.6142\n",
      "Confidence interval:\t[0.5667, 0.6618]\n",
      "36\n",
      "20\n",
      "執行時間：310.859375 秒\n"
     ]
    },
    {
     "name": "stderr",
     "output_type": "stream",
     "text": [
      "C:\\Users\\user\\anaconda3\\lib\\site-packages\\qiskit\\utils\\deprecation.py:62: DeprecationWarning: Using a qobj for run() is deprecated as of qiskit-aer 0.9.0 and will be removed no sooner than 3 months from that release date. Transpiled circuits should now be passed directly using `backend.run(circuits, **run_options).\n",
      "  return func(*args, **kwargs)\n"
     ]
    },
    {
     "name": "stdout",
     "output_type": "stream",
     "text": [
      "Target value:       \t1.6283\n",
      "Exact value:        \t2.6272\n",
      "Estimated value:    \t2.6235\n",
      "Confidence interval:\t[2.5814, 2.6657]\n",
      "37\n",
      "20\n",
      "執行時間：327.593750 秒\n"
     ]
    },
    {
     "name": "stderr",
     "output_type": "stream",
     "text": [
      "C:\\Users\\user\\anaconda3\\lib\\site-packages\\qiskit\\utils\\deprecation.py:62: DeprecationWarning: Using a qobj for run() is deprecated as of qiskit-aer 0.9.0 and will be removed no sooner than 3 months from that release date. Transpiled circuits should now be passed directly using `backend.run(circuits, **run_options).\n",
      "  return func(*args, **kwargs)\n"
     ]
    },
    {
     "name": "stdout",
     "output_type": "stream",
     "text": [
      "Target value:       \t1.6266\n",
      "Exact value:        \t2.3878\n",
      "Estimated value:    \t2.3845\n",
      "Confidence interval:\t[2.3523, 2.4167]\n",
      "38\n",
      "20\n",
      "執行時間：312.656250 秒\n"
     ]
    },
    {
     "name": "stderr",
     "output_type": "stream",
     "text": [
      "C:\\Users\\user\\anaconda3\\lib\\site-packages\\qiskit\\utils\\deprecation.py:62: DeprecationWarning: Using a qobj for run() is deprecated as of qiskit-aer 0.9.0 and will be removed no sooner than 3 months from that release date. Transpiled circuits should now be passed directly using `backend.run(circuits, **run_options).\n",
      "  return func(*args, **kwargs)\n"
     ]
    },
    {
     "name": "stdout",
     "output_type": "stream",
     "text": [
      "Target value:       \t1.6247\n",
      "Exact value:        \t2.4009\n",
      "Estimated value:    \t2.4270\n",
      "Confidence interval:\t[2.3772, 2.4768]\n",
      "39\n",
      "20\n",
      "執行時間：326.609375 秒\n"
     ]
    },
    {
     "name": "stderr",
     "output_type": "stream",
     "text": [
      "C:\\Users\\user\\anaconda3\\lib\\site-packages\\qiskit\\utils\\deprecation.py:62: DeprecationWarning: Using a qobj for run() is deprecated as of qiskit-aer 0.9.0 and will be removed no sooner than 3 months from that release date. Transpiled circuits should now be passed directly using `backend.run(circuits, **run_options).\n",
      "  return func(*args, **kwargs)\n"
     ]
    },
    {
     "name": "stdout",
     "output_type": "stream",
     "text": [
      "Target value:       \t1.6321\n",
      "Exact value:        \t1.1781\n",
      "Estimated value:    \t1.1947\n",
      "Confidence interval:\t[1.0865, 1.3029]\n",
      "40\n",
      "20\n",
      "執行時間：310.062500 秒\n"
     ]
    },
    {
     "name": "stderr",
     "output_type": "stream",
     "text": [
      "C:\\Users\\user\\anaconda3\\lib\\site-packages\\qiskit\\utils\\deprecation.py:62: DeprecationWarning: Using a qobj for run() is deprecated as of qiskit-aer 0.9.0 and will be removed no sooner than 3 months from that release date. Transpiled circuits should now be passed directly using `backend.run(circuits, **run_options).\n",
      "  return func(*args, **kwargs)\n"
     ]
    },
    {
     "name": "stdout",
     "output_type": "stream",
     "text": [
      "Target value:       \t1.6297\n",
      "Exact value:        \t2.8127\n",
      "Estimated value:    \t2.8295\n",
      "Confidence interval:\t[2.7686, 2.8903]\n",
      "41\n",
      "20\n",
      "執行時間：310.828125 秒\n"
     ]
    },
    {
     "name": "stderr",
     "output_type": "stream",
     "text": [
      "C:\\Users\\user\\anaconda3\\lib\\site-packages\\qiskit\\utils\\deprecation.py:62: DeprecationWarning: Using a qobj for run() is deprecated as of qiskit-aer 0.9.0 and will be removed no sooner than 3 months from that release date. Transpiled circuits should now be passed directly using `backend.run(circuits, **run_options).\n",
      "  return func(*args, **kwargs)\n"
     ]
    },
    {
     "name": "stdout",
     "output_type": "stream",
     "text": [
      "Target value:       \t1.6306\n",
      "Exact value:        \t0.0313\n",
      "Estimated value:    \t0.0816\n",
      "Confidence interval:\t[0.0253, 0.1379]\n",
      "42\n",
      "20\n",
      "執行時間：310.328125 秒\n"
     ]
    },
    {
     "name": "stderr",
     "output_type": "stream",
     "text": [
      "C:\\Users\\user\\anaconda3\\lib\\site-packages\\qiskit\\utils\\deprecation.py:62: DeprecationWarning: Using a qobj for run() is deprecated as of qiskit-aer 0.9.0 and will be removed no sooner than 3 months from that release date. Transpiled circuits should now be passed directly using `backend.run(circuits, **run_options).\n",
      "  return func(*args, **kwargs)\n"
     ]
    },
    {
     "name": "stdout",
     "output_type": "stream",
     "text": [
      "Target value:       \t1.6261\n",
      "Exact value:        \t3.0317\n",
      "Estimated value:    \t3.0159\n",
      "Confidence interval:\t[2.9550, 3.0767]\n",
      "43\n",
      "20\n",
      "執行時間：310.921875 秒\n"
     ]
    },
    {
     "name": "stderr",
     "output_type": "stream",
     "text": [
      "C:\\Users\\user\\anaconda3\\lib\\site-packages\\qiskit\\utils\\deprecation.py:62: DeprecationWarning: Using a qobj for run() is deprecated as of qiskit-aer 0.9.0 and will be removed no sooner than 3 months from that release date. Transpiled circuits should now be passed directly using `backend.run(circuits, **run_options).\n",
      "  return func(*args, **kwargs)\n"
     ]
    },
    {
     "name": "stdout",
     "output_type": "stream",
     "text": [
      "Target value:       \t1.6272\n",
      "Exact value:        \t1.7195\n",
      "Estimated value:    \t1.7525\n",
      "Confidence interval:\t[1.6435, 1.8615]\n",
      "44\n",
      "20\n",
      "執行時間：310.468750 秒\n"
     ]
    },
    {
     "name": "stderr",
     "output_type": "stream",
     "text": [
      "C:\\Users\\user\\anaconda3\\lib\\site-packages\\qiskit\\utils\\deprecation.py:62: DeprecationWarning: Using a qobj for run() is deprecated as of qiskit-aer 0.9.0 and will be removed no sooner than 3 months from that release date. Transpiled circuits should now be passed directly using `backend.run(circuits, **run_options).\n",
      "  return func(*args, **kwargs)\n"
     ]
    },
    {
     "name": "stdout",
     "output_type": "stream",
     "text": [
      "Target value:       \t1.6293\n",
      "Exact value:        \t2.2473\n",
      "Estimated value:    \t2.2760\n",
      "Confidence interval:\t[2.2438, 2.3083]\n",
      "45\n",
      "20\n",
      "執行時間：328.906250 秒\n"
     ]
    },
    {
     "name": "stderr",
     "output_type": "stream",
     "text": [
      "C:\\Users\\user\\anaconda3\\lib\\site-packages\\qiskit\\utils\\deprecation.py:62: DeprecationWarning: Using a qobj for run() is deprecated as of qiskit-aer 0.9.0 and will be removed no sooner than 3 months from that release date. Transpiled circuits should now be passed directly using `backend.run(circuits, **run_options).\n",
      "  return func(*args, **kwargs)\n"
     ]
    },
    {
     "name": "stdout",
     "output_type": "stream",
     "text": [
      "Target value:       \t1.6249\n",
      "Exact value:        \t0.1256\n",
      "Estimated value:    \t0.1789\n",
      "Confidence interval:\t[0.1222, 0.2356]\n",
      "46\n",
      "20\n",
      "執行時間：310.468750 秒\n"
     ]
    },
    {
     "name": "stderr",
     "output_type": "stream",
     "text": [
      "C:\\Users\\user\\anaconda3\\lib\\site-packages\\qiskit\\utils\\deprecation.py:62: DeprecationWarning: Using a qobj for run() is deprecated as of qiskit-aer 0.9.0 and will be removed no sooner than 3 months from that release date. Transpiled circuits should now be passed directly using `backend.run(circuits, **run_options).\n",
      "  return func(*args, **kwargs)\n"
     ]
    },
    {
     "name": "stdout",
     "output_type": "stream",
     "text": [
      "Target value:       \t1.6282\n",
      "Exact value:        \t2.8910\n",
      "Estimated value:    \t2.8687\n",
      "Confidence interval:\t[2.8188, 2.9185]\n",
      "47\n",
      "20\n",
      "執行時間：311.312500 秒\n"
     ]
    },
    {
     "name": "stderr",
     "output_type": "stream",
     "text": [
      "C:\\Users\\user\\anaconda3\\lib\\site-packages\\qiskit\\utils\\deprecation.py:62: DeprecationWarning: Using a qobj for run() is deprecated as of qiskit-aer 0.9.0 and will be removed no sooner than 3 months from that release date. Transpiled circuits should now be passed directly using `backend.run(circuits, **run_options).\n",
      "  return func(*args, **kwargs)\n"
     ]
    },
    {
     "name": "stdout",
     "output_type": "stream",
     "text": [
      "Target value:       \t1.6238\n",
      "Exact value:        \t0.2533\n",
      "Estimated value:    \t0.3307\n",
      "Confidence interval:\t[0.2735, 0.3879]\n",
      "48\n",
      "20\n",
      "執行時間：310.968750 秒\n"
     ]
    },
    {
     "name": "stderr",
     "output_type": "stream",
     "text": [
      "C:\\Users\\user\\anaconda3\\lib\\site-packages\\qiskit\\utils\\deprecation.py:62: DeprecationWarning: Using a qobj for run() is deprecated as of qiskit-aer 0.9.0 and will be removed no sooner than 3 months from that release date. Transpiled circuits should now be passed directly using `backend.run(circuits, **run_options).\n",
      "  return func(*args, **kwargs)\n"
     ]
    },
    {
     "name": "stdout",
     "output_type": "stream",
     "text": [
      "Target value:       \t1.6325\n",
      "Exact value:        \t3.5047\n",
      "Estimated value:    \t3.4500\n",
      "Confidence interval:\t[3.3414, 3.5587]\n",
      "49\n",
      "20\n",
      "執行時間：310.156250 秒\n"
     ]
    },
    {
     "name": "stderr",
     "output_type": "stream",
     "text": [
      "C:\\Users\\user\\anaconda3\\lib\\site-packages\\qiskit\\utils\\deprecation.py:62: DeprecationWarning: Using a qobj for run() is deprecated as of qiskit-aer 0.9.0 and will be removed no sooner than 3 months from that release date. Transpiled circuits should now be passed directly using `backend.run(circuits, **run_options).\n",
      "  return func(*args, **kwargs)\n"
     ]
    },
    {
     "name": "stdout",
     "output_type": "stream",
     "text": [
      "Target value:       \t1.6309\n",
      "Exact value:        \t0.6682\n",
      "Estimated value:    \t0.6754\n",
      "Confidence interval:\t[0.6278, 0.7231]\n",
      "50\n",
      "20\n",
      "執行時間：311.046875 秒\n"
     ]
    },
    {
     "name": "stderr",
     "output_type": "stream",
     "text": [
      "C:\\Users\\user\\anaconda3\\lib\\site-packages\\qiskit\\utils\\deprecation.py:62: DeprecationWarning: Using a qobj for run() is deprecated as of qiskit-aer 0.9.0 and will be removed no sooner than 3 months from that release date. Transpiled circuits should now be passed directly using `backend.run(circuits, **run_options).\n",
      "  return func(*args, **kwargs)\n"
     ]
    },
    {
     "name": "stdout",
     "output_type": "stream",
     "text": [
      "Target value:       \t1.6327\n",
      "Exact value:        \t0.7904\n",
      "Estimated value:    \t0.8204\n",
      "Confidence interval:\t[0.7797, 0.8610]\n",
      "51\n",
      "20\n",
      "執行時間：311.453125 秒\n"
     ]
    },
    {
     "name": "stderr",
     "output_type": "stream",
     "text": [
      "C:\\Users\\user\\anaconda3\\lib\\site-packages\\qiskit\\utils\\deprecation.py:62: DeprecationWarning: Using a qobj for run() is deprecated as of qiskit-aer 0.9.0 and will be removed no sooner than 3 months from that release date. Transpiled circuits should now be passed directly using `backend.run(circuits, **run_options).\n",
      "  return func(*args, **kwargs)\n"
     ]
    },
    {
     "name": "stdout",
     "output_type": "stream",
     "text": [
      "Target value:       \t1.6314\n",
      "Exact value:        \t1.6440\n",
      "Estimated value:    \t1.7322\n",
      "Confidence interval:\t[1.6542, 1.8103]\n",
      "52\n",
      "20\n",
      "執行時間：310.265625 秒\n"
     ]
    },
    {
     "name": "stderr",
     "output_type": "stream",
     "text": [
      "C:\\Users\\user\\anaconda3\\lib\\site-packages\\qiskit\\utils\\deprecation.py:62: DeprecationWarning: Using a qobj for run() is deprecated as of qiskit-aer 0.9.0 and will be removed no sooner than 3 months from that release date. Transpiled circuits should now be passed directly using `backend.run(circuits, **run_options).\n",
      "  return func(*args, **kwargs)\n"
     ]
    },
    {
     "name": "stdout",
     "output_type": "stream",
     "text": [
      "Target value:       \t1.6358\n",
      "Exact value:        \t2.8344\n",
      "Estimated value:    \t2.8280\n",
      "Confidence interval:\t[2.7858, 2.8702]\n",
      "53\n",
      "20\n",
      "執行時間：312.140625 秒\n"
     ]
    },
    {
     "name": "stderr",
     "output_type": "stream",
     "text": [
      "C:\\Users\\user\\anaconda3\\lib\\site-packages\\qiskit\\utils\\deprecation.py:62: DeprecationWarning: Using a qobj for run() is deprecated as of qiskit-aer 0.9.0 and will be removed no sooner than 3 months from that release date. Transpiled circuits should now be passed directly using `backend.run(circuits, **run_options).\n",
      "  return func(*args, **kwargs)\n"
     ]
    },
    {
     "name": "stdout",
     "output_type": "stream",
     "text": [
      "Target value:       \t1.6209\n",
      "Exact value:        \t3.5264\n",
      "Estimated value:    \t3.4852\n",
      "Confidence interval:\t[3.4490, 3.5214]\n",
      "54\n",
      "20\n",
      "執行時間：311.859375 秒\n"
     ]
    },
    {
     "name": "stderr",
     "output_type": "stream",
     "text": [
      "C:\\Users\\user\\anaconda3\\lib\\site-packages\\qiskit\\utils\\deprecation.py:62: DeprecationWarning: Using a qobj for run() is deprecated as of qiskit-aer 0.9.0 and will be removed no sooner than 3 months from that release date. Transpiled circuits should now be passed directly using `backend.run(circuits, **run_options).\n",
      "  return func(*args, **kwargs)\n"
     ]
    },
    {
     "name": "stdout",
     "output_type": "stream",
     "text": [
      "Target value:       \t1.6279\n",
      "Exact value:        \t3.4662\n",
      "Estimated value:    \t3.4296\n",
      "Confidence interval:\t[3.3209, 3.5383]\n",
      "55\n",
      "20\n",
      "執行時間：310.078125 秒\n"
     ]
    },
    {
     "name": "stderr",
     "output_type": "stream",
     "text": [
      "C:\\Users\\user\\anaconda3\\lib\\site-packages\\qiskit\\utils\\deprecation.py:62: DeprecationWarning: Using a qobj for run() is deprecated as of qiskit-aer 0.9.0 and will be removed no sooner than 3 months from that release date. Transpiled circuits should now be passed directly using `backend.run(circuits, **run_options).\n",
      "  return func(*args, **kwargs)\n"
     ]
    },
    {
     "name": "stdout",
     "output_type": "stream",
     "text": [
      "Target value:       \t1.6292\n",
      "Exact value:        \t3.3611\n",
      "Estimated value:    \t3.3727\n",
      "Confidence interval:\t[3.2946, 3.4508]\n",
      "56\n",
      "20\n",
      "執行時間：310.593750 秒\n"
     ]
    },
    {
     "name": "stderr",
     "output_type": "stream",
     "text": [
      "C:\\Users\\user\\anaconda3\\lib\\site-packages\\qiskit\\utils\\deprecation.py:62: DeprecationWarning: Using a qobj for run() is deprecated as of qiskit-aer 0.9.0 and will be removed no sooner than 3 months from that release date. Transpiled circuits should now be passed directly using `backend.run(circuits, **run_options).\n",
      "  return func(*args, **kwargs)\n"
     ]
    },
    {
     "name": "stdout",
     "output_type": "stream",
     "text": [
      "Target value:       \t1.6314\n",
      "Exact value:        \t3.3059\n",
      "Estimated value:    \t3.2678\n",
      "Confidence interval:\t[3.1897, 3.3458]\n",
      "57\n",
      "20\n",
      "執行時間：310.765625 秒\n"
     ]
    },
    {
     "name": "stderr",
     "output_type": "stream",
     "text": [
      "C:\\Users\\user\\anaconda3\\lib\\site-packages\\qiskit\\utils\\deprecation.py:62: DeprecationWarning: Using a qobj for run() is deprecated as of qiskit-aer 0.9.0 and will be removed no sooner than 3 months from that release date. Transpiled circuits should now be passed directly using `backend.run(circuits, **run_options).\n",
      "  return func(*args, **kwargs)\n"
     ]
    },
    {
     "name": "stdout",
     "output_type": "stream",
     "text": [
      "Target value:       \t1.6350\n",
      "Exact value:        \t0.1540\n",
      "Estimated value:    \t0.2124\n",
      "Confidence interval:\t[0.1557, 0.2692]\n",
      "58\n",
      "20\n",
      "執行時間：310.890625 秒\n"
     ]
    },
    {
     "name": "stderr",
     "output_type": "stream",
     "text": [
      "C:\\Users\\user\\anaconda3\\lib\\site-packages\\qiskit\\utils\\deprecation.py:62: DeprecationWarning: Using a qobj for run() is deprecated as of qiskit-aer 0.9.0 and will be removed no sooner than 3 months from that release date. Transpiled circuits should now be passed directly using `backend.run(circuits, **run_options).\n",
      "  return func(*args, **kwargs)\n"
     ]
    },
    {
     "name": "stdout",
     "output_type": "stream",
     "text": [
      "Target value:       \t1.6353\n",
      "Exact value:        \t2.1675\n",
      "Estimated value:    \t2.1705\n",
      "Confidence interval:\t[2.1339, 2.2071]\n",
      "59\n",
      "20\n",
      "執行時間：312.093750 秒\n"
     ]
    },
    {
     "name": "stderr",
     "output_type": "stream",
     "text": [
      "C:\\Users\\user\\anaconda3\\lib\\site-packages\\qiskit\\utils\\deprecation.py:62: DeprecationWarning: Using a qobj for run() is deprecated as of qiskit-aer 0.9.0 and will be removed no sooner than 3 months from that release date. Transpiled circuits should now be passed directly using `backend.run(circuits, **run_options).\n",
      "  return func(*args, **kwargs)\n"
     ]
    },
    {
     "name": "stdout",
     "output_type": "stream",
     "text": [
      "Target value:       \t1.6277\n",
      "Exact value:        \t3.4807\n",
      "Estimated value:    \t3.4500\n",
      "Confidence interval:\t[3.3414, 3.5587]\n",
      "60\n",
      "20\n",
      "執行時間：310.218750 秒\n"
     ]
    },
    {
     "name": "stderr",
     "output_type": "stream",
     "text": [
      "C:\\Users\\user\\anaconda3\\lib\\site-packages\\qiskit\\utils\\deprecation.py:62: DeprecationWarning: Using a qobj for run() is deprecated as of qiskit-aer 0.9.0 and will be removed no sooner than 3 months from that release date. Transpiled circuits should now be passed directly using `backend.run(circuits, **run_options).\n",
      "  return func(*args, **kwargs)\n"
     ]
    },
    {
     "name": "stdout",
     "output_type": "stream",
     "text": [
      "Target value:       \t1.6250\n",
      "Exact value:        \t1.1364\n",
      "Estimated value:    \t1.1789\n",
      "Confidence interval:\t[1.1376, 1.2201]\n",
      "61\n",
      "20\n",
      "執行時間：311.703125 秒\n"
     ]
    },
    {
     "name": "stderr",
     "output_type": "stream",
     "text": [
      "C:\\Users\\user\\anaconda3\\lib\\site-packages\\qiskit\\utils\\deprecation.py:62: DeprecationWarning: Using a qobj for run() is deprecated as of qiskit-aer 0.9.0 and will be removed no sooner than 3 months from that release date. Transpiled circuits should now be passed directly using `backend.run(circuits, **run_options).\n",
      "  return func(*args, **kwargs)\n"
     ]
    },
    {
     "name": "stdout",
     "output_type": "stream",
     "text": [
      "Target value:       \t1.6232\n",
      "Exact value:        \t3.4361\n",
      "Estimated value:    \t3.3480\n",
      "Confidence interval:\t[3.2699, 3.4260]\n",
      "62\n",
      "20\n",
      "執行時間：327.000000 秒\n"
     ]
    },
    {
     "name": "stderr",
     "output_type": "stream",
     "text": [
      "C:\\Users\\user\\anaconda3\\lib\\site-packages\\qiskit\\utils\\deprecation.py:62: DeprecationWarning: Using a qobj for run() is deprecated as of qiskit-aer 0.9.0 and will be removed no sooner than 3 months from that release date. Transpiled circuits should now be passed directly using `backend.run(circuits, **run_options).\n",
      "  return func(*args, **kwargs)\n"
     ]
    },
    {
     "name": "stdout",
     "output_type": "stream",
     "text": [
      "Target value:       \t1.6307\n",
      "Exact value:        \t2.5742\n",
      "Estimated value:    \t2.5424\n",
      "Confidence interval:\t[2.4816, 2.6032]\n",
      "63\n",
      "20\n",
      "執行時間：310.750000 秒\n"
     ]
    },
    {
     "name": "stderr",
     "output_type": "stream",
     "text": [
      "C:\\Users\\user\\anaconda3\\lib\\site-packages\\qiskit\\utils\\deprecation.py:62: DeprecationWarning: Using a qobj for run() is deprecated as of qiskit-aer 0.9.0 and will be removed no sooner than 3 months from that release date. Transpiled circuits should now be passed directly using `backend.run(circuits, **run_options).\n",
      "  return func(*args, **kwargs)\n"
     ]
    },
    {
     "name": "stdout",
     "output_type": "stream",
     "text": [
      "Target value:       \t1.6290\n",
      "Exact value:        \t0.8849\n",
      "Estimated value:    \t0.9166\n",
      "Confidence interval:\t[0.8758, 0.9574]\n",
      "64\n",
      "20\n",
      "執行時間：311.515625 秒\n"
     ]
    },
    {
     "name": "stderr",
     "output_type": "stream",
     "text": [
      "C:\\Users\\user\\anaconda3\\lib\\site-packages\\qiskit\\utils\\deprecation.py:62: DeprecationWarning: Using a qobj for run() is deprecated as of qiskit-aer 0.9.0 and will be removed no sooner than 3 months from that release date. Transpiled circuits should now be passed directly using `backend.run(circuits, **run_options).\n",
      "  return func(*args, **kwargs)\n"
     ]
    },
    {
     "name": "stdout",
     "output_type": "stream",
     "text": [
      "Target value:       \t1.6315\n",
      "Exact value:        \t0.2659\n",
      "Estimated value:    \t0.3280\n",
      "Confidence interval:\t[0.2709, 0.3852]\n",
      "65\n",
      "20\n",
      "執行時間：310.531250 秒\n"
     ]
    },
    {
     "name": "stderr",
     "output_type": "stream",
     "text": [
      "C:\\Users\\user\\anaconda3\\lib\\site-packages\\qiskit\\utils\\deprecation.py:62: DeprecationWarning: Using a qobj for run() is deprecated as of qiskit-aer 0.9.0 and will be removed no sooner than 3 months from that release date. Transpiled circuits should now be passed directly using `backend.run(circuits, **run_options).\n",
      "  return func(*args, **kwargs)\n"
     ]
    },
    {
     "name": "stdout",
     "output_type": "stream",
     "text": [
      "Target value:       \t1.6215\n",
      "Exact value:        \t3.9244\n",
      "Estimated value:    \t3.8829\n",
      "Confidence interval:\t[3.8342, 3.9317]\n",
      "66\n",
      "20\n",
      "執行時間：311.265625 秒\n"
     ]
    },
    {
     "name": "stderr",
     "output_type": "stream",
     "text": [
      "C:\\Users\\user\\anaconda3\\lib\\site-packages\\qiskit\\utils\\deprecation.py:62: DeprecationWarning: Using a qobj for run() is deprecated as of qiskit-aer 0.9.0 and will be removed no sooner than 3 months from that release date. Transpiled circuits should now be passed directly using `backend.run(circuits, **run_options).\n",
      "  return func(*args, **kwargs)\n"
     ]
    },
    {
     "name": "stdout",
     "output_type": "stream",
     "text": [
      "Target value:       \t1.6301\n",
      "Exact value:        \t2.2922\n",
      "Estimated value:    \t2.2878\n",
      "Confidence interval:\t[2.2270, 2.3486]\n",
      "67\n",
      "20\n",
      "執行時間：310.859375 秒\n"
     ]
    },
    {
     "name": "stderr",
     "output_type": "stream",
     "text": [
      "C:\\Users\\user\\anaconda3\\lib\\site-packages\\qiskit\\utils\\deprecation.py:62: DeprecationWarning: Using a qobj for run() is deprecated as of qiskit-aer 0.9.0 and will be removed no sooner than 3 months from that release date. Transpiled circuits should now be passed directly using `backend.run(circuits, **run_options).\n",
      "  return func(*args, **kwargs)\n"
     ]
    },
    {
     "name": "stdout",
     "output_type": "stream",
     "text": [
      "Target value:       \t1.6317\n",
      "Exact value:        \t1.0426\n",
      "Estimated value:    \t1.0577\n",
      "Confidence interval:\t[1.0262, 1.0892]\n",
      "68\n",
      "20\n",
      "執行時間：312.562500 秒\n"
     ]
    },
    {
     "name": "stderr",
     "output_type": "stream",
     "text": [
      "C:\\Users\\user\\anaconda3\\lib\\site-packages\\qiskit\\utils\\deprecation.py:62: DeprecationWarning: Using a qobj for run() is deprecated as of qiskit-aer 0.9.0 and will be removed no sooner than 3 months from that release date. Transpiled circuits should now be passed directly using `backend.run(circuits, **run_options).\n",
      "  return func(*args, **kwargs)\n"
     ]
    },
    {
     "name": "stdout",
     "output_type": "stream",
     "text": [
      "Target value:       \t1.6259\n",
      "Exact value:        \t1.0926\n",
      "Estimated value:    \t1.1283\n",
      "Confidence interval:\t[1.0926, 1.1639]\n",
      "69\n",
      "20\n",
      "執行時間：311.359375 秒\n"
     ]
    },
    {
     "name": "stderr",
     "output_type": "stream",
     "text": [
      "C:\\Users\\user\\anaconda3\\lib\\site-packages\\qiskit\\utils\\deprecation.py:62: DeprecationWarning: Using a qobj for run() is deprecated as of qiskit-aer 0.9.0 and will be removed no sooner than 3 months from that release date. Transpiled circuits should now be passed directly using `backend.run(circuits, **run_options).\n",
      "  return func(*args, **kwargs)\n"
     ]
    },
    {
     "name": "stdout",
     "output_type": "stream",
     "text": [
      "Target value:       \t1.6303\n",
      "Exact value:        \t2.8825\n",
      "Estimated value:    \t2.8683\n",
      "Confidence interval:\t[2.8359, 2.9007]\n",
      "70\n",
      "20\n",
      "執行時間：311.859375 秒\n"
     ]
    },
    {
     "name": "stderr",
     "output_type": "stream",
     "text": [
      "C:\\Users\\user\\anaconda3\\lib\\site-packages\\qiskit\\utils\\deprecation.py:62: DeprecationWarning: Using a qobj for run() is deprecated as of qiskit-aer 0.9.0 and will be removed no sooner than 3 months from that release date. Transpiled circuits should now be passed directly using `backend.run(circuits, **run_options).\n",
      "  return func(*args, **kwargs)\n"
     ]
    },
    {
     "name": "stdout",
     "output_type": "stream",
     "text": [
      "Target value:       \t1.6322\n",
      "Exact value:        \t3.9124\n",
      "Estimated value:    \t3.8306\n",
      "Confidence interval:\t[3.7893, 3.8718]\n",
      "71\n",
      "20\n",
      "執行時間：311.343750 秒\n"
     ]
    },
    {
     "name": "stderr",
     "output_type": "stream",
     "text": [
      "C:\\Users\\user\\anaconda3\\lib\\site-packages\\qiskit\\utils\\deprecation.py:62: DeprecationWarning: Using a qobj for run() is deprecated as of qiskit-aer 0.9.0 and will be removed no sooner than 3 months from that release date. Transpiled circuits should now be passed directly using `backend.run(circuits, **run_options).\n",
      "  return func(*args, **kwargs)\n"
     ]
    },
    {
     "name": "stdout",
     "output_type": "stream",
     "text": [
      "Target value:       \t1.6343\n",
      "Exact value:        \t3.4064\n",
      "Estimated value:    \t3.3807\n",
      "Confidence interval:\t[3.3486, 3.4127]\n",
      "72\n",
      "20\n",
      "執行時間：312.562500 秒\n"
     ]
    },
    {
     "name": "stderr",
     "output_type": "stream",
     "text": [
      "C:\\Users\\user\\anaconda3\\lib\\site-packages\\qiskit\\utils\\deprecation.py:62: DeprecationWarning: Using a qobj for run() is deprecated as of qiskit-aer 0.9.0 and will be removed no sooner than 3 months from that release date. Transpiled circuits should now be passed directly using `backend.run(circuits, **run_options).\n",
      "  return func(*args, **kwargs)\n"
     ]
    },
    {
     "name": "stdout",
     "output_type": "stream",
     "text": [
      "Target value:       \t1.6259\n",
      "Exact value:        \t1.9320\n",
      "Estimated value:    \t1.9665\n",
      "Confidence interval:\t[1.8573, 2.0757]\n",
      "73\n",
      "20\n",
      "執行時間：310.343750 秒\n"
     ]
    },
    {
     "name": "stderr",
     "output_type": "stream",
     "text": [
      "C:\\Users\\user\\anaconda3\\lib\\site-packages\\qiskit\\utils\\deprecation.py:62: DeprecationWarning: Using a qobj for run() is deprecated as of qiskit-aer 0.9.0 and will be removed no sooner than 3 months from that release date. Transpiled circuits should now be passed directly using `backend.run(circuits, **run_options).\n",
      "  return func(*args, **kwargs)\n"
     ]
    },
    {
     "name": "stdout",
     "output_type": "stream",
     "text": [
      "Target value:       \t1.6223\n",
      "Exact value:        \t0.7128\n",
      "Estimated value:    \t0.7475\n",
      "Confidence interval:\t[0.7070, 0.7880]\n",
      "74\n",
      "20\n",
      "執行時間：311.953125 秒\n"
     ]
    },
    {
     "name": "stderr",
     "output_type": "stream",
     "text": [
      "C:\\Users\\user\\anaconda3\\lib\\site-packages\\qiskit\\utils\\deprecation.py:62: DeprecationWarning: Using a qobj for run() is deprecated as of qiskit-aer 0.9.0 and will be removed no sooner than 3 months from that release date. Transpiled circuits should now be passed directly using `backend.run(circuits, **run_options).\n",
      "  return func(*args, **kwargs)\n"
     ]
    },
    {
     "name": "stdout",
     "output_type": "stream",
     "text": [
      "Target value:       \t1.6337\n",
      "Exact value:        \t2.7718\n",
      "Estimated value:    \t2.7644\n",
      "Confidence interval:\t[2.7147, 2.8142]\n",
      "75\n",
      "20\n",
      "執行時間：311.546875 秒\n"
     ]
    },
    {
     "name": "stderr",
     "output_type": "stream",
     "text": [
      "C:\\Users\\user\\anaconda3\\lib\\site-packages\\qiskit\\utils\\deprecation.py:62: DeprecationWarning: Using a qobj for run() is deprecated as of qiskit-aer 0.9.0 and will be removed no sooner than 3 months from that release date. Transpiled circuits should now be passed directly using `backend.run(circuits, **run_options).\n",
      "  return func(*args, **kwargs)\n"
     ]
    },
    {
     "name": "stdout",
     "output_type": "stream",
     "text": [
      "Target value:       \t1.6279\n",
      "Exact value:        \t0.3253\n",
      "Estimated value:    \t0.3490\n",
      "Confidence interval:\t[0.3020, 0.3959]\n",
      "76\n",
      "20\n",
      "執行時間：311.140625 秒\n"
     ]
    },
    {
     "name": "stderr",
     "output_type": "stream",
     "text": [
      "C:\\Users\\user\\anaconda3\\lib\\site-packages\\qiskit\\utils\\deprecation.py:62: DeprecationWarning: Using a qobj for run() is deprecated as of qiskit-aer 0.9.0 and will be removed no sooner than 3 months from that release date. Transpiled circuits should now be passed directly using `backend.run(circuits, **run_options).\n",
      "  return func(*args, **kwargs)\n"
     ]
    },
    {
     "name": "stdout",
     "output_type": "stream",
     "text": [
      "Target value:       \t1.6233\n",
      "Exact value:        \t3.6753\n",
      "Estimated value:    \t3.6544\n",
      "Confidence interval:\t[3.6128, 3.6960]\n",
      "77\n",
      "20\n",
      "執行時間：311.984375 秒\n"
     ]
    },
    {
     "name": "stderr",
     "output_type": "stream",
     "text": [
      "C:\\Users\\user\\anaconda3\\lib\\site-packages\\qiskit\\utils\\deprecation.py:62: DeprecationWarning: Using a qobj for run() is deprecated as of qiskit-aer 0.9.0 and will be removed no sooner than 3 months from that release date. Transpiled circuits should now be passed directly using `backend.run(circuits, **run_options).\n",
      "  return func(*args, **kwargs)\n"
     ]
    },
    {
     "name": "stdout",
     "output_type": "stream",
     "text": [
      "Target value:       \t1.6305\n",
      "Exact value:        \t0.3458\n",
      "Estimated value:    \t0.3970\n",
      "Confidence interval:\t[0.3666, 0.4275]\n",
      "78\n",
      "20\n",
      "執行時間：312.296875 秒\n"
     ]
    },
    {
     "name": "stderr",
     "output_type": "stream",
     "text": [
      "C:\\Users\\user\\anaconda3\\lib\\site-packages\\qiskit\\utils\\deprecation.py:62: DeprecationWarning: Using a qobj for run() is deprecated as of qiskit-aer 0.9.0 and will be removed no sooner than 3 months from that release date. Transpiled circuits should now be passed directly using `backend.run(circuits, **run_options).\n",
      "  return func(*args, **kwargs)\n"
     ]
    },
    {
     "name": "stdout",
     "output_type": "stream",
     "text": [
      "Target value:       \t1.6244\n",
      "Exact value:        \t2.7390\n",
      "Estimated value:    \t2.7090\n",
      "Confidence interval:\t[2.6593, 2.7588]\n",
      "79\n",
      "20\n",
      "執行時間：311.109375 秒\n"
     ]
    },
    {
     "name": "stderr",
     "output_type": "stream",
     "text": [
      "C:\\Users\\user\\anaconda3\\lib\\site-packages\\qiskit\\utils\\deprecation.py:62: DeprecationWarning: Using a qobj for run() is deprecated as of qiskit-aer 0.9.0 and will be removed no sooner than 3 months from that release date. Transpiled circuits should now be passed directly using `backend.run(circuits, **run_options).\n",
      "  return func(*args, **kwargs)\n"
     ]
    },
    {
     "name": "stdout",
     "output_type": "stream",
     "text": [
      "Target value:       \t1.6285\n",
      "Exact value:        \t1.6262\n",
      "Estimated value:    \t1.6367\n",
      "Confidence interval:\t[1.5586, 1.7147]\n",
      "80\n",
      "20\n",
      "執行時間：310.453125 秒\n"
     ]
    },
    {
     "name": "stderr",
     "output_type": "stream",
     "text": [
      "C:\\Users\\user\\anaconda3\\lib\\site-packages\\qiskit\\utils\\deprecation.py:62: DeprecationWarning: Using a qobj for run() is deprecated as of qiskit-aer 0.9.0 and will be removed no sooner than 3 months from that release date. Transpiled circuits should now be passed directly using `backend.run(circuits, **run_options).\n",
      "  return func(*args, **kwargs)\n"
     ]
    },
    {
     "name": "stdout",
     "output_type": "stream",
     "text": [
      "Target value:       \t1.6285\n",
      "Exact value:        \t0.6275\n",
      "Estimated value:    \t0.6544\n",
      "Confidence interval:\t[0.6067, 0.7020]\n",
      "81\n",
      "20\n",
      "執行時間：311.359375 秒\n"
     ]
    },
    {
     "name": "stderr",
     "output_type": "stream",
     "text": [
      "C:\\Users\\user\\anaconda3\\lib\\site-packages\\qiskit\\utils\\deprecation.py:62: DeprecationWarning: Using a qobj for run() is deprecated as of qiskit-aer 0.9.0 and will be removed no sooner than 3 months from that release date. Transpiled circuits should now be passed directly using `backend.run(circuits, **run_options).\n",
      "  return func(*args, **kwargs)\n"
     ]
    },
    {
     "name": "stdout",
     "output_type": "stream",
     "text": [
      "Target value:       \t1.6283\n",
      "Exact value:        \t2.5302\n",
      "Estimated value:    \t2.5390\n",
      "Confidence interval:\t[2.5025, 2.5755]\n",
      "82\n",
      "20\n",
      "執行時間：311.765625 秒\n"
     ]
    },
    {
     "name": "stderr",
     "output_type": "stream",
     "text": [
      "C:\\Users\\user\\anaconda3\\lib\\site-packages\\qiskit\\utils\\deprecation.py:62: DeprecationWarning: Using a qobj for run() is deprecated as of qiskit-aer 0.9.0 and will be removed no sooner than 3 months from that release date. Transpiled circuits should now be passed directly using `backend.run(circuits, **run_options).\n",
      "  return func(*args, **kwargs)\n"
     ]
    },
    {
     "name": "stdout",
     "output_type": "stream",
     "text": [
      "Target value:       \t1.6361\n",
      "Exact value:        \t0.9831\n",
      "Estimated value:    \t1.0203\n",
      "Confidence interval:\t[0.9793, 1.0612]\n",
      "83\n",
      "20\n",
      "執行時間：311.171875 秒\n"
     ]
    },
    {
     "name": "stderr",
     "output_type": "stream",
     "text": [
      "C:\\Users\\user\\anaconda3\\lib\\site-packages\\qiskit\\utils\\deprecation.py:62: DeprecationWarning: Using a qobj for run() is deprecated as of qiskit-aer 0.9.0 and will be removed no sooner than 3 months from that release date. Transpiled circuits should now be passed directly using `backend.run(circuits, **run_options).\n",
      "  return func(*args, **kwargs)\n"
     ]
    },
    {
     "name": "stdout",
     "output_type": "stream",
     "text": [
      "Target value:       \t1.6316\n",
      "Exact value:        \t0.6222\n",
      "Estimated value:    \t0.6812\n",
      "Confidence interval:\t[0.6408, 0.7217]\n",
      "84\n",
      "20\n",
      "執行時間：311.406250 秒\n"
     ]
    },
    {
     "name": "stderr",
     "output_type": "stream",
     "text": [
      "C:\\Users\\user\\anaconda3\\lib\\site-packages\\qiskit\\utils\\deprecation.py:62: DeprecationWarning: Using a qobj for run() is deprecated as of qiskit-aer 0.9.0 and will be removed no sooner than 3 months from that release date. Transpiled circuits should now be passed directly using `backend.run(circuits, **run_options).\n",
      "  return func(*args, **kwargs)\n"
     ]
    },
    {
     "name": "stdout",
     "output_type": "stream",
     "text": [
      "Target value:       \t1.6266\n",
      "Exact value:        \t2.5850\n",
      "Estimated value:    \t2.5992\n",
      "Confidence interval:\t[2.5627, 2.6357]\n",
      "85\n",
      "20\n",
      "執行時間：312.171875 秒\n"
     ]
    },
    {
     "name": "stderr",
     "output_type": "stream",
     "text": [
      "C:\\Users\\user\\anaconda3\\lib\\site-packages\\qiskit\\utils\\deprecation.py:62: DeprecationWarning: Using a qobj for run() is deprecated as of qiskit-aer 0.9.0 and will be removed no sooner than 3 months from that release date. Transpiled circuits should now be passed directly using `backend.run(circuits, **run_options).\n",
      "  return func(*args, **kwargs)\n"
     ]
    },
    {
     "name": "stdout",
     "output_type": "stream",
     "text": [
      "Target value:       \t1.6203\n",
      "Exact value:        \t3.0657\n",
      "Estimated value:    \t3.0477\n",
      "Confidence interval:\t[2.9696, 3.1258]\n",
      "86\n",
      "20\n",
      "執行時間：310.937500 秒\n"
     ]
    },
    {
     "name": "stderr",
     "output_type": "stream",
     "text": [
      "C:\\Users\\user\\anaconda3\\lib\\site-packages\\qiskit\\utils\\deprecation.py:62: DeprecationWarning: Using a qobj for run() is deprecated as of qiskit-aer 0.9.0 and will be removed no sooner than 3 months from that release date. Transpiled circuits should now be passed directly using `backend.run(circuits, **run_options).\n",
      "  return func(*args, **kwargs)\n"
     ]
    },
    {
     "name": "stdout",
     "output_type": "stream",
     "text": [
      "Target value:       \t1.6291\n",
      "Exact value:        \t0.7633\n",
      "Estimated value:    \t0.8154\n",
      "Confidence interval:\t[0.7747, 0.8560]\n",
      "87\n",
      "20\n",
      "執行時間：311.609375 秒\n"
     ]
    },
    {
     "name": "stderr",
     "output_type": "stream",
     "text": [
      "C:\\Users\\user\\anaconda3\\lib\\site-packages\\qiskit\\utils\\deprecation.py:62: DeprecationWarning: Using a qobj for run() is deprecated as of qiskit-aer 0.9.0 and will be removed no sooner than 3 months from that release date. Transpiled circuits should now be passed directly using `backend.run(circuits, **run_options).\n",
      "  return func(*args, **kwargs)\n"
     ]
    },
    {
     "name": "stdout",
     "output_type": "stream",
     "text": [
      "Target value:       \t1.6268\n",
      "Exact value:        \t1.5833\n",
      "Estimated value:    \t1.5117\n",
      "Confidence interval:\t[1.4031, 1.6203]\n",
      "88\n",
      "20\n",
      "執行時間：310.265625 秒\n"
     ]
    },
    {
     "name": "stderr",
     "output_type": "stream",
     "text": [
      "C:\\Users\\user\\anaconda3\\lib\\site-packages\\qiskit\\utils\\deprecation.py:62: DeprecationWarning: Using a qobj for run() is deprecated as of qiskit-aer 0.9.0 and will be removed no sooner than 3 months from that release date. Transpiled circuits should now be passed directly using `backend.run(circuits, **run_options).\n",
      "  return func(*args, **kwargs)\n"
     ]
    },
    {
     "name": "stdout",
     "output_type": "stream",
     "text": [
      "Target value:       \t1.6269\n",
      "Exact value:        \t0.7325\n",
      "Estimated value:    \t0.7922\n",
      "Confidence interval:\t[0.7516, 0.8328]\n",
      "89\n",
      "20\n",
      "執行時間：311.500000 秒\n"
     ]
    },
    {
     "name": "stderr",
     "output_type": "stream",
     "text": [
      "C:\\Users\\user\\anaconda3\\lib\\site-packages\\qiskit\\utils\\deprecation.py:62: DeprecationWarning: Using a qobj for run() is deprecated as of qiskit-aer 0.9.0 and will be removed no sooner than 3 months from that release date. Transpiled circuits should now be passed directly using `backend.run(circuits, **run_options).\n",
      "  return func(*args, **kwargs)\n"
     ]
    },
    {
     "name": "stdout",
     "output_type": "stream",
     "text": [
      "Target value:       \t1.6307\n",
      "Exact value:        \t1.3898\n",
      "Estimated value:    \t1.4576\n",
      "Confidence interval:\t[1.3491, 1.5661]\n",
      "90\n",
      "20\n",
      "執行時間：309.859375 秒\n"
     ]
    },
    {
     "name": "stderr",
     "output_type": "stream",
     "text": [
      "C:\\Users\\user\\anaconda3\\lib\\site-packages\\qiskit\\utils\\deprecation.py:62: DeprecationWarning: Using a qobj for run() is deprecated as of qiskit-aer 0.9.0 and will be removed no sooner than 3 months from that release date. Transpiled circuits should now be passed directly using `backend.run(circuits, **run_options).\n",
      "  return func(*args, **kwargs)\n"
     ]
    },
    {
     "name": "stdout",
     "output_type": "stream",
     "text": [
      "Target value:       \t1.6299\n",
      "Exact value:        \t0.9159\n",
      "Estimated value:    \t0.9630\n",
      "Confidence interval:\t[0.9147, 1.0114]\n",
      "91\n",
      "20\n",
      "執行時間：311.234375 秒\n"
     ]
    },
    {
     "name": "stderr",
     "output_type": "stream",
     "text": [
      "C:\\Users\\user\\anaconda3\\lib\\site-packages\\qiskit\\utils\\deprecation.py:62: DeprecationWarning: Using a qobj for run() is deprecated as of qiskit-aer 0.9.0 and will be removed no sooner than 3 months from that release date. Transpiled circuits should now be passed directly using `backend.run(circuits, **run_options).\n",
      "  return func(*args, **kwargs)\n"
     ]
    },
    {
     "name": "stdout",
     "output_type": "stream",
     "text": [
      "Target value:       \t1.6303\n",
      "Exact value:        \t0.6549\n",
      "Estimated value:    \t0.7006\n",
      "Confidence interval:\t[0.6601, 0.7411]\n",
      "92\n",
      "20\n",
      "執行時間：311.656250 秒\n"
     ]
    },
    {
     "name": "stderr",
     "output_type": "stream",
     "text": [
      "C:\\Users\\user\\anaconda3\\lib\\site-packages\\qiskit\\utils\\deprecation.py:62: DeprecationWarning: Using a qobj for run() is deprecated as of qiskit-aer 0.9.0 and will be removed no sooner than 3 months from that release date. Transpiled circuits should now be passed directly using `backend.run(circuits, **run_options).\n",
      "  return func(*args, **kwargs)\n"
     ]
    },
    {
     "name": "stdout",
     "output_type": "stream",
     "text": [
      "Target value:       \t1.6260\n",
      "Exact value:        \t2.4700\n",
      "Estimated value:    \t2.4932\n",
      "Confidence interval:\t[2.4510, 2.5353]\n",
      "93\n",
      "20\n",
      "執行時間：311.234375 秒\n"
     ]
    },
    {
     "name": "stderr",
     "output_type": "stream",
     "text": [
      "C:\\Users\\user\\anaconda3\\lib\\site-packages\\qiskit\\utils\\deprecation.py:62: DeprecationWarning: Using a qobj for run() is deprecated as of qiskit-aer 0.9.0 and will be removed no sooner than 3 months from that release date. Transpiled circuits should now be passed directly using `backend.run(circuits, **run_options).\n",
      "  return func(*args, **kwargs)\n"
     ]
    },
    {
     "name": "stdout",
     "output_type": "stream",
     "text": [
      "Target value:       \t1.6287\n",
      "Exact value:        \t0.5739\n",
      "Estimated value:    \t0.6008\n",
      "Confidence interval:\t[0.5533, 0.6483]\n",
      "94\n",
      "20\n",
      "執行時間：310.812500 秒\n"
     ]
    },
    {
     "name": "stderr",
     "output_type": "stream",
     "text": [
      "C:\\Users\\user\\anaconda3\\lib\\site-packages\\qiskit\\utils\\deprecation.py:62: DeprecationWarning: Using a qobj for run() is deprecated as of qiskit-aer 0.9.0 and will be removed no sooner than 3 months from that release date. Transpiled circuits should now be passed directly using `backend.run(circuits, **run_options).\n",
      "  return func(*args, **kwargs)\n"
     ]
    },
    {
     "name": "stdout",
     "output_type": "stream",
     "text": [
      "Target value:       \t1.6278\n",
      "Exact value:        \t0.5392\n",
      "Estimated value:    \t0.5850\n",
      "Confidence interval:\t[0.5375, 0.6325]\n",
      "95\n",
      "20\n",
      "執行時間：310.921875 秒\n"
     ]
    },
    {
     "name": "stderr",
     "output_type": "stream",
     "text": [
      "C:\\Users\\user\\anaconda3\\lib\\site-packages\\qiskit\\utils\\deprecation.py:62: DeprecationWarning: Using a qobj for run() is deprecated as of qiskit-aer 0.9.0 and will be removed no sooner than 3 months from that release date. Transpiled circuits should now be passed directly using `backend.run(circuits, **run_options).\n",
      "  return func(*args, **kwargs)\n"
     ]
    },
    {
     "name": "stdout",
     "output_type": "stream",
     "text": [
      "Target value:       \t1.6302\n",
      "Exact value:        \t0.4090\n",
      "Estimated value:    \t0.4346\n",
      "Confidence interval:\t[0.3875, 0.4818]\n",
      "96\n",
      "20\n",
      "執行時間：310.609375 秒\n"
     ]
    },
    {
     "name": "stderr",
     "output_type": "stream",
     "text": [
      "C:\\Users\\user\\anaconda3\\lib\\site-packages\\qiskit\\utils\\deprecation.py:62: DeprecationWarning: Using a qobj for run() is deprecated as of qiskit-aer 0.9.0 and will be removed no sooner than 3 months from that release date. Transpiled circuits should now be passed directly using `backend.run(circuits, **run_options).\n",
      "  return func(*args, **kwargs)\n"
     ]
    },
    {
     "name": "stdout",
     "output_type": "stream",
     "text": [
      "Target value:       \t1.6280\n",
      "Exact value:        \t3.0266\n",
      "Estimated value:    \t3.0632\n",
      "Confidence interval:\t[2.9851, 3.1412]\n",
      "97\n",
      "20\n",
      "執行時間：310.515625 秒\n"
     ]
    },
    {
     "name": "stderr",
     "output_type": "stream",
     "text": [
      "C:\\Users\\user\\anaconda3\\lib\\site-packages\\qiskit\\utils\\deprecation.py:62: DeprecationWarning: Using a qobj for run() is deprecated as of qiskit-aer 0.9.0 and will be removed no sooner than 3 months from that release date. Transpiled circuits should now be passed directly using `backend.run(circuits, **run_options).\n",
      "  return func(*args, **kwargs)\n"
     ]
    },
    {
     "name": "stdout",
     "output_type": "stream",
     "text": [
      "Target value:       \t1.6292\n",
      "Exact value:        \t1.2678\n",
      "Estimated value:    \t1.2796\n",
      "Confidence interval:\t[1.2438, 1.3154]\n",
      "98\n",
      "20\n",
      "執行時間：311.765625 秒\n"
     ]
    },
    {
     "name": "stderr",
     "output_type": "stream",
     "text": [
      "C:\\Users\\user\\anaconda3\\lib\\site-packages\\qiskit\\utils\\deprecation.py:62: DeprecationWarning: Using a qobj for run() is deprecated as of qiskit-aer 0.9.0 and will be removed no sooner than 3 months from that release date. Transpiled circuits should now be passed directly using `backend.run(circuits, **run_options).\n",
      "  return func(*args, **kwargs)\n"
     ]
    },
    {
     "name": "stdout",
     "output_type": "stream",
     "text": [
      "Target value:       \t1.6304\n",
      "Exact value:        \t3.5067\n",
      "Estimated value:    \t3.4535\n",
      "Confidence interval:\t[3.3754, 3.5316]\n",
      "99\n",
      "20\n",
      "執行時間：310.281250 秒\n"
     ]
    },
    {
     "name": "stderr",
     "output_type": "stream",
     "text": [
      "C:\\Users\\user\\anaconda3\\lib\\site-packages\\qiskit\\utils\\deprecation.py:62: DeprecationWarning: Using a qobj for run() is deprecated as of qiskit-aer 0.9.0 and will be removed no sooner than 3 months from that release date. Transpiled circuits should now be passed directly using `backend.run(circuits, **run_options).\n",
      "  return func(*args, **kwargs)\n"
     ]
    },
    {
     "name": "stdout",
     "output_type": "stream",
     "text": [
      "Target value:       \t1.6312\n",
      "Exact value:        \t4.5436\n",
      "Estimated value:    \t4.4955\n",
      "Confidence interval:\t[4.4482, 4.5428]\n",
      "100\n",
      "20\n",
      "執行時間：310.875000 秒\n"
     ]
    }
   ],
   "source": [
    "ep_list_3 = []\n",
    "ep_train_list_3 =[]\n",
    "estimate_list_3 = []\n",
    "times_list_3 = []\n",
    "in_ci_3 = 0\n",
    "run_time_3 = 0\n",
    "\n",
    "for times in range(1, 101):\n",
    "    start = time.process_time()\n",
    "    \n",
    "    N = 1000\n",
    "    qubits_num = 3\n",
    "    num_epochs = 20\n",
    "    \n",
    "    data = []\n",
    "    data = pandas.read_csv(\"ttt.csv\", names=[\"price\"])\n",
    "    scaler = StandardScaler()\n",
    "    data_list = scaler.fit_transform(data)\n",
    "    data_arr = np.array(data_list)\n",
    "    actual_data = data_arr.astype(float)\n",
    "    \n",
    "    sigma,loc,scale = stats.lognorm.fit(actual_data)\n",
    "    estimated_mu = np.log(scale)\n",
    "    estimated_sigma = sigma\n",
    "    real_data = np.random.lognormal(mean=estimated_mu, sigma=estimated_sigma, size=N)\n",
    "\n",
    "    Dmin = real_data.min()\n",
    "    Dmax = real_data.max()\n",
    "    \n",
    "    load_num_qubits = [qubits_num]\n",
    "    k = len(load_num_qubits)\n",
    "    load_bounds = np.array([0, (2 ** load_num_qubits[0]) -1])\n",
    "\n",
    "    batch_size = int(N/num_epochs)\n",
    "    qgan = QGAN(real_data, load_bounds, load_num_qubits, batch_size, num_epochs, snapshot_dir=None)\n",
    "    qgan.seed = 11\n",
    "    quantum_instance = QuantumInstance(backend=BasicAer.get_backend('statevector_simulator'),\n",
    "                                   seed_transpiler=seed, seed_simulator=seed)\n",
    "\n",
    "    init_dist = UniformDistribution(sum(load_num_qubits))\n",
    "    ansatz = TwoLocal(int(np.sum(load_num_qubits)), 'ry', 'cz', 'linear', reps=1, insert_barriers=True)\n",
    "    init_params = np.random.rand(ansatz.num_parameters_settable) * 2 * np.pi\n",
    "    load_g_circuit = ansatz.compose(init_dist, front=True)\n",
    "\n",
    "    qgan.set_generator(generator_circuit=load_g_circuit, generator_init_params=init_params)\n",
    "    qgan._generator._free_parameters = sorted(load_g_circuit.parameters, key=lambda p: p.name)\n",
    "    discriminator = NumPyDiscriminator(len(load_num_qubits))\n",
    "    qgan.set_discriminator(discriminator)\n",
    "    \n",
    "    result = qgan.run(quantum_instance)\n",
    "    \n",
    "    op_bounds = np.array([0 , (2 ** load_num_qubits[0]) -1])\n",
    "    op_num_qubits = load_num_qubits[0]\n",
    "    g_params = result['params_g']\n",
    "    init_dist = NormalDistribution(op_num_qubits, mu=estimated_mu, sigma=estimated_sigma, bounds=op_bounds)\n",
    "    var_form = TwoLocal(op_num_qubits, 'ry', 'cz', entanglement='circular', reps=1)\n",
    "    theta = var_form.ordered_parameters\n",
    "    op_g_circuit = init_dist.compose(var_form)\n",
    "\n",
    "    strike_price = 2\n",
    "    c_approx = 0.25\n",
    "    european_call_objective = EuropeanCallExpectedValue(\n",
    "        op_num_qubits,\n",
    "        strike_price=strike_price,\n",
    "        rescaling_factor=c_approx,\n",
    "        bounds=op_bounds\n",
    "    )\n",
    "    \n",
    "    values = [op_bounds[0] + (op_bounds[1] - op_bounds[0]) * x / (2 ** op_num_qubits - 1) for x in range(2**op_num_qubits)]\n",
    "    uncertainty_model = op_g_circuit.assign_parameters(dict(zip(theta, g_params)))\n",
    "    amplitudes = Statevector.from_instruction(uncertainty_model).data\n",
    "\n",
    "    x = np.array(values)\n",
    "    y = np.abs(amplitudes) ** 2\n",
    "\n",
    "    N = 100000\n",
    "    log_normal = np.random.lognormal(mean=estimated_mu, sigma=estimated_sigma, size=N)\n",
    "    log_normal = np.round(log_normal)\n",
    "    log_normal = log_normal[log_normal <= (2 ** op_num_qubits) -1]\n",
    "    log_normal_samples = []\n",
    "    for i in range(2 ** op_num_qubits):\n",
    "        log_normal_samples += [np.sum(log_normal==i)]\n",
    "    log_normal_samples = np.array(log_normal_samples / sum(log_normal_samples))\n",
    "\n",
    "    payoff = []\n",
    "    for i in range(2 ** op_num_qubits):\n",
    "        if i <= strike_price:\n",
    "            payoff.append(0)\n",
    "        else:\n",
    "            payoff.append(i - strike_price)\n",
    "    payoff = np.array(payoff)\n",
    "\n",
    "    ep = np.dot(log_normal_samples, payoff)\n",
    "    ep_trained = np.dot(y, payoff)\n",
    "    european_call = european_call_objective.compose(uncertainty_model, front=True)\n",
    "    epsilon = 0.01\n",
    "    alpha = 0.05\n",
    "    \n",
    "    ae = IterativeAmplitudeEstimation(epsilon=epsilon, alpha=alpha,\n",
    "                                      state_preparation=european_call,\n",
    "                                      objective_qubits=[op_num_qubits],\n",
    "                                      post_processing=european_call_objective.post_processing)\n",
    "    END_result = ae.run(quantum_instance = Aer.get_backend('qasm_simulator'), shots = 1000)\n",
    "    \n",
    "    conf_int = np.array(END_result['confidence_interval'])\n",
    "    print('Target value:       \\t%.4f' % ep)\n",
    "    print('Exact value:        \\t%.4f' % ep_trained)\n",
    "    print('Estimated value:    \\t%.4f' % (END_result['estimation']))\n",
    "    print('Confidence interval:\\t[%.4f, %.4f]' % tuple(conf_int))\n",
    "    print(times)\n",
    "    print(num_epochs)\n",
    "    end = time.process_time()\n",
    "    print(\"執行時間：%f 秒\" % (end - start))\n",
    "\n",
    "    if conf_int[0] <= ep <= conf_int[1]:\n",
    "        in_ci_3 += 1\n",
    "        \n",
    "    run_time_3 += (end - start)    \n",
    "    ep_list_3.append(ep)\n",
    "    ep_train_list_3.append(ep_trained)\n",
    "    estimate_list_3.append((END_result['estimation']))\n",
    "    times_list_3.append(times)"
   ]
  },
  {
   "cell_type": "code",
   "execution_count": 5,
   "id": "a8fff1ec",
   "metadata": {},
   "outputs": [
    {
     "data": {
      "image/png": "[encoded data removed]",
      "text/plain": [
       "<Figure size 720x360 with 1 Axes>"
      ]
     },
     "metadata": {
      "needs_background": "light"
     },
     "output_type": "display_data"
    },
    {
     "name": "stdout",
     "output_type": "stream",
     "text": [
      "平均時間 : 19.6375\n"
     ]
    }
   ],
   "source": [
    "plt.figure(figsize=(10,5))\n",
    "plt.title(\"Result (N = 1000, qubit_num = 3, num_epochs = 5)\")\n",
    "tl = []\n",
    "for i in times_list_1:\n",
    "    if i % 5 == 0:\n",
    "        tl.append(i)\n",
    "\n",
    "plt.scatter(times_list_1, ep_list_1, label='ep', color='mediumvioletred', linewidth=2)\n",
    "plt.scatter(times_list_1, ep_train_list_1, label='ep train', color='rebeccapurple', linewidth=2)\n",
    "plt.scatter(times_list_1, estimate_list_1, label='estiamte', color='yellow', linewidth=2)\n",
    "\n",
    "plt.grid()\n",
    "plt.legend(loc='best')\n",
    "plt.xticks(tl) \n",
    "plt.xlabel('Run Times')\n",
    "plt.show()\n",
    "print('平均時間 :',run_time_1/len(times_list_1))"
   ]
  },
  {
   "cell_type": "code",
   "execution_count": 17,
   "id": "c84810db",
   "metadata": {},
   "outputs": [
    {
     "data": {
      "image/png": "[encoded data removed]",
      "text/plain": [
       "<Figure size 720x360 with 1 Axes>"
      ]
     },
     "metadata": {
      "needs_background": "light"
     },
     "output_type": "display_data"
    },
    {
     "name": "stdout",
     "output_type": "stream",
     "text": [
      "平均時間 : 76.44203125\n"
     ]
    }
   ],
   "source": [
    "plt.figure(figsize=(10,5))\n",
    "plt.title(\"Result (N = 1000, qubit_num = 3, num_epochs = 10)\")\n",
    "tl = []\n",
    "for i in times_list_2:\n",
    "    if i % 5 == 0:\n",
    "        tl.append(i)\n",
    "plt.scatter(times_list_2, ep_list_2, label='ep', color='mediumvioletred', linewidth=2)\n",
    "plt.scatter(times_list_2, ep_train_list_2, label='ep train', color='rebeccapurple', linewidth=2)\n",
    "plt.scatter(times_list_2, estimate_list_2, label='estiamte', color='yellow', linewidth=2)\n",
    "\n",
    "plt.grid()\n",
    "plt.legend(loc='best')\n",
    "plt.xticks(tl) \n",
    "plt.xlabel('Run Times')\n",
    "plt.show()\n",
    "print('平均時間 :',run_time_2/len(times_list_2))"
   ]
  },
  {
   "cell_type": "code",
   "execution_count": 16,
   "id": "f3e9db2e",
   "metadata": {},
   "outputs": [
    {
     "data": {
      "image/png": "[encoded data removed]",
      "text/plain": [
       "<Figure size 720x360 with 1 Axes>"
      ]
     },
     "metadata": {
      "needs_background": "light"
     },
     "output_type": "display_data"
    },
    {
     "name": "stdout",
     "output_type": "stream",
     "text": [
      "平均時間 : 312.489375\n"
     ]
    }
   ],
   "source": [
    "plt.figure(figsize=(10,5))\n",
    "plt.title(\"Result (N = 1000, qubit_num = 3, num_epochs = 20)\")\n",
    "tl = []\n",
    "for i in times_list_3:\n",
    "    if i % 5 == 0:\n",
    "        tl.append(i)\n",
    "plt.scatter(times_list_3, ep_list_3, label='ep', color='mediumvioletred', linewidth=2)\n",
    "plt.scatter(times_list_3, ep_train_list_3, label='ep train', color='rebeccapurple', linewidth=2)\n",
    "plt.scatter(times_list_3, estimate_list_3, label='estiamte', color='yellow', linewidth=2)\n",
    "\n",
    "plt.grid()\n",
    "plt.legend(loc='best')\n",
    "plt.xticks(tl) \n",
    "plt.xlabel('Run Times')\n",
    "plt.show()\n",
    "print('平均時間 :',run_time_3/len(times_list_3))"
   ]
  },
  {
   "cell_type": "code",
   "execution_count": 6,
   "id": "ef78989a",
   "metadata": {},
   "outputs": [
    {
     "name": "stdout",
     "output_type": "stream",
     "text": [
      "1\n"
     ]
    }
   ],
   "source": [
    "print(in_ci_1)\n",
    "#print(in_ci_2)\n",
    "#print(in_ci_3)\n",
    "#print(run_time_1)\n",
    "#print(run_time_2)\n",
    "#print(run_time_3)\n",
    "#print(len(times_list_1))\n",
    "#print(len(times_list_2))\n",
    "#print(len(times_list_3))"
   ]
  }
 ],
 "metadata": {
  "kernelspec": {
   "display_name": "Python 3",
   "language": "python",
   "name": "python3"
  },
  "language_info": {
   "codemirror_mode": {
    "name": "ipython",
    "version": 3
   },
   "file_extension": ".py",
   "mimetype": "text/x-python",
   "name": "python",
   "nbconvert_exporter": "python",
   "pygments_lexer": "ipython3",
   "version": "3.8.8"
  }
 },
 "nbformat": 4,
 "nbformat_minor": 5
}
