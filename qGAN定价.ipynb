{
 "cells": [
  {
   "cell_type": "markdown",
   "id": "b17c48ba",
   "metadata": {},
   "source": [
    "# 使用量子生成對抗網路為期權定價\n",
    "\n",
    "## 簡介\n",
    "\n",
    "#### 在此筆記本，我們討論量子機器學習，即量子生成對抗網路(qGAN)，如何促進歐洲看漲期權的定價。更具體的說，qGAN可以訓練成量子電路模擬歐洲看漲期權基礎資產的現貨價格。由此得到的模型可以集成到基於量子振幅估計的算法中，以評估預期的收益-參見歐洲看漲期權定價。關於通過訓練qGAN學習和加載隨機分佈的更多細節，請參閱論文''Quantum Generative Adversarial Networks for Learning and Loading Random Distributions. Zoufal, Lucchi, Woerner. 2019.''"
   ]
  },
  {
   "cell_type": "code",
   "execution_count": 1,
   "id": "c800feb8",
   "metadata": {},
   "outputs": [
    {
     "name": "stderr",
     "output_type": "stream",
     "text": [
      "D:\\Anaconda\\lib\\site-packages\\qiskit\\aqua\\__init__.py:86: DeprecationWarning: The package qiskit.aqua is deprecated. It was moved/refactored to qiskit-terra For more information see <https://github.com/Qiskit/qiskit-aqua/blob/main/README.md#migration-guide>\n",
      "  warn_package('aqua', 'qiskit-terra')\n",
      "D:\\Anaconda\\lib\\site-packages\\qiskit\\finance\\__init__.py:50: DeprecationWarning: The package qiskit.finance is deprecated. It was moved/refactored to qiskit_finance (pip install qiskit-finance). For more information see <https://github.com/Qiskit/qiskit-aqua/blob/main/README.md#migration-guide>\n",
      "  warn_package('finance', 'qiskit_finance', 'qiskit-finance')\n"
     ]
    }
   ],
   "source": [
    "import matplotlib.pyplot as plt\n",
    "import numpy as np\n",
    "\n",
    "from qiskit import Aer, QuantumRegister, QuantumCircuit, BasicAer\n",
    "from qiskit.circuit import ParameterVector\n",
    "from qiskit.circuit.library import TwoLocal, NormalDistribution\n",
    "from qiskit.quantum_info import Statevector\n",
    "\n",
    "from qiskit.aqua import aqua_globals, QuantumInstance\n",
    "from qiskit.aqua.algorithms import IterativeAmplitudeEstimation\n",
    "from qiskit.finance.applications import EuropeanCallExpectedValue"
   ]
  },
  {
   "cell_type": "markdown",
   "id": "4b6d66c4",
   "metadata": {},
   "source": [
    "##  不确定性模型 Uncertainty Model\n",
    "#### Black-Scholes模型假設歐洲看漲期權在到期時 $S_T$ 的現貨價格是對數正態分佈的。因此，我們可以用來自對數正態分佈的樣本訓練qGAN，並將結果作為基於期權的不確定性模型。接下来，我們構建一個量子電路用於加載不確定性模型。電路輸出如下\n",
    "\n",
    "<center>$ {∣g_\\theta⟩} = \\sum_{j=0}^{2^n−1}\\sqrt{p_θ^j}{∣j⟩}$</center>\n",
    "\n",
    "#### 其中概率 $p_θ^j$ ($j∈{0，…，2n−1}$)，表示目標分佈模型。"
   ]
  },
  {
   "cell_type": "code",
   "execution_count": 2,
   "id": "9f56a076",
   "metadata": {},
   "outputs": [
    {
     "name": "stderr",
     "output_type": "stream",
     "text": [
      "<ipython-input-2-d27b115ac203>:11: DeprecationWarning: `NormalDistribution` is deprecated as of version 0.17.0 and will be removed no earlier than 3 months after the release date. It moved to qiskit_finance.circuit.library.NormalDistribution.\n",
      "  init_dist = NormalDistribution(num_qubits, mu=1., sigma=1., bounds=bounds)\n"
     ]
    },
    {
     "name": "stdout",
     "output_type": "stream",
     "text": [
      "     ┌───────┐\n",
      "q_0: ┤0      ├\n",
      "     │       │\n",
      "q_1: ┤1      ├\n",
      "     │       │\n",
      "q_2: ┤2      ├\n",
      "     │  P(X) │\n",
      "q_3: ┤3      ├\n",
      "     │       │\n",
      "q_4: ┤4      ├\n",
      "     │       │\n",
      "q_5: ┤5      ├\n",
      "     └───────┘\n",
      "     ┌──────────┐ ░                    ░  ┌──────────┐\n",
      "q_0: ┤ Ry(θ[0]) ├─░──■──■──────────────░──┤ Ry(θ[6]) ├\n",
      "     ├──────────┤ ░  │  │              ░  ├──────────┤\n",
      "q_1: ┤ Ry(θ[1]) ├─░──┼──■──■───────────░──┤ Ry(θ[7]) ├\n",
      "     ├──────────┤ ░  │     │           ░  ├──────────┤\n",
      "q_2: ┤ Ry(θ[2]) ├─░──┼─────■──■────────░──┤ Ry(θ[8]) ├\n",
      "     ├──────────┤ ░  │        │        ░  ├──────────┤\n",
      "q_3: ┤ Ry(θ[3]) ├─░──┼────────■──■─────░──┤ Ry(θ[9]) ├\n",
      "     ├──────────┤ ░  │           │     ░ ┌┴──────────┤\n",
      "q_4: ┤ Ry(θ[4]) ├─░──┼───────────■──■──░─┤ Ry(θ[10]) ├\n",
      "     ├──────────┤ ░  │              │  ░ ├───────────┤\n",
      "q_5: ┤ Ry(θ[5]) ├─░──■──────────────■──░─┤ Ry(θ[11]) ├\n",
      "     └──────────┘ ░                    ░ └───────────┘\n",
      "     ┌───────┐»\n",
      "q_0: ┤0      ├»\n",
      "     │       │»\n",
      "q_1: ┤1      ├»\n",
      "     │       │»\n",
      "q_2: ┤2      ├»\n",
      "     │  P(X) │»\n",
      "q_3: ┤3      ├»\n",
      "     │       │»\n",
      "q_4: ┤4      ├»\n",
      "     │       │»\n",
      "q_5: ┤5      ├»\n",
      "     └───────┘»\n",
      "«     ┌──────────────────────────────────────────────────────────────────────────┐\n",
      "«q_0: ┤0                                                                         ├\n",
      "«     │                                                                          │\n",
      "«q_1: ┤1                                                                         ├\n",
      "«     │                                                                          │\n",
      "«q_2: ┤2                                                                         ├\n",
      "«     │  TwoLocal(θ[0],θ[1],θ[2],θ[3],θ[4],θ[5],θ[6],θ[7],θ[8],θ[9],θ[10],θ[11]) │\n",
      "«q_3: ┤3                                                                         ├\n",
      "«     │                                                                          │\n",
      "«q_4: ┤4                                                                         ├\n",
      "«     │                                                                          │\n",
      "«q_5: ┤5                                                                         ├\n",
      "«     └──────────────────────────────────────────────────────────────────────────┘\n"
     ]
    }
   ],
   "source": [
    "# 设置上、下数据值\n",
    "bounds = np.array([0.,7.])\n",
    "# 不确定性模型中使用的量子位元的集合数\n",
    "num_qubits = 6\n",
    "\n",
    "#加载训练过的电路参数\n",
    "# g_params = [0.29399714, 0.38853322, 0.9557694, 0.07245791, 6.02626428, 0.13537225]\n",
    "g_params = [0.2939, 0.3885, 0.9557, 0.0724, 6.0262, 0.1353]\n",
    "\n",
    "# 设置发电机电路的初始状态\n",
    "init_dist = NormalDistribution(num_qubits, mu=1., sigma=1., bounds=bounds)\n",
    "print(init_dist)\n",
    "\n",
    "# 构造变分形式\n",
    "var_form = TwoLocal(num_qubits, 'ry', 'cz', entanglement='circular', reps=1, insert_barriers=True)\n",
    "print(var_form)\n",
    "# 保留一个参数列表，以便我们可以将它们与数值列表关联起来\n",
    "# (否则我们需要一个字典)\n",
    "theta = var_form.ordered_parameters\n",
    "\n",
    "# 组成生成电路，这是加载不确定性模型的电路\n",
    "g_circuit = init_dist.compose(var_form)\n",
    "# print(g_circuit)"
   ]
  },
  {
   "cell_type": "markdown",
   "id": "62029ec1",
   "metadata": {},
   "source": [
    "## 評估預期收益\n",
    "\n",
    "#### 現在，訓練的不確定性模型可以用量子振幅估計來評估期權收益函數的期望值。"
   ]
  },
  {
   "cell_type": "code",
   "execution_count": 3,
   "id": "1e017a3a",
   "metadata": {},
   "outputs": [
    {
     "name": "stdout",
     "output_type": "stream",
     "text": [
      "        ┌───────┐»\n",
      "q126_0: ┤0      ├»\n",
      "        │       │»\n",
      "q126_1: ┤1      ├»\n",
      "        │       │»\n",
      "q126_2: ┤2      ├»\n",
      "        │  P(X) │»\n",
      "q126_3: ┤3      ├»\n",
      "        │       │»\n",
      "q126_4: ┤4      ├»\n",
      "        │       │»\n",
      "q126_5: ┤5      ├»\n",
      "        └───────┘»\n",
      "q127_0: ─────────»\n",
      "                 »\n",
      "  a0_0: ─────────»\n",
      "                 »\n",
      "  a0_1: ─────────»\n",
      "                 »\n",
      "  a0_2: ─────────»\n",
      "                 »\n",
      "  a0_3: ─────────»\n",
      "                 »\n",
      "  a0_4: ─────────»\n",
      "                 »\n",
      "  a0_5: ─────────»\n",
      "                 »\n",
      "«        ┌──────────────────────────────────────────────────────────────────────────┐»\n",
      "«q126_0: ┤0                                                                         ├»\n",
      "«        │                                                                          │»\n",
      "«q126_1: ┤1                                                                         ├»\n",
      "«        │                                                                          │»\n",
      "«q126_2: ┤2                                                                         ├»\n",
      "«        │  TwoLocal(θ[0],θ[1],θ[2],θ[3],θ[4],θ[5],θ[6],θ[7],θ[8],θ[9],θ[10],θ[11]) │»\n",
      "«q126_3: ┤3                                                                         ├»\n",
      "«        │                                                                          │»\n",
      "«q126_4: ┤4                                                                         ├»\n",
      "«        │                                                                          │»\n",
      "«q126_5: ┤5                                                                         ├»\n",
      "«        └──────────────────────────────────────────────────────────────────────────┘»\n",
      "«q127_0: ────────────────────────────────────────────────────────────────────────────»\n",
      "«                                                                                    »\n",
      "«  a0_0: ────────────────────────────────────────────────────────────────────────────»\n",
      "«                                                                                    »\n",
      "«  a0_1: ────────────────────────────────────────────────────────────────────────────»\n",
      "«                                                                                    »\n",
      "«  a0_2: ────────────────────────────────────────────────────────────────────────────»\n",
      "«                                                                                    »\n",
      "«  a0_3: ────────────────────────────────────────────────────────────────────────────»\n",
      "«                                                                                    »\n",
      "«  a0_4: ────────────────────────────────────────────────────────────────────────────»\n",
      "«                                                                                    »\n",
      "«  a0_5: ────────────────────────────────────────────────────────────────────────────»\n",
      "«                                                                                    »\n",
      "«        ┌─────┐\n",
      "«q126_0: ┤0    ├\n",
      "«        │     │\n",
      "«q126_1: ┤1    ├\n",
      "«        │     │\n",
      "«q126_2: ┤2    ├\n",
      "«        │     │\n",
      "«q126_3: ┤3    ├\n",
      "«        │     │\n",
      "«q126_4: ┤4    ├\n",
      "«        │     │\n",
      "«q126_5: ┤5    ├\n",
      "«        │     │\n",
      "«q127_0: ┤6  F ├\n",
      "«        │     │\n",
      "«  a0_0: ┤7    ├\n",
      "«        │     │\n",
      "«  a0_1: ┤8    ├\n",
      "«        │     │\n",
      "«  a0_2: ┤9    ├\n",
      "«        │     │\n",
      "«  a0_3: ┤10   ├\n",
      "«        │     │\n",
      "«  a0_4: ┤11   ├\n",
      "«        │     │\n",
      "«  a0_5: ┤12   ├\n",
      "«        └─────┘\n"
     ]
    }
   ],
   "source": [
    "#设置执行价格(应该在不确定性的低值和高值范围内)\n",
    "strike_price = 2\n",
    "\n",
    "#设置成本函数的近似缩放\n",
    "c_approx = 0.25\n",
    "\n",
    "#为成本函数构造电路\n",
    "european_call_objective = EuropeanCallExpectedValue(\n",
    "    num_qubits,\n",
    "    strike_price=strike_price,\n",
    "    rescaling_factor=c_approx,\n",
    "    bounds=bounds\n",
    ")\n",
    "european_call = european_call_objective.compose(g_circuit, front=True)\n",
    "print(european_call)"
   ]
  },
  {
   "cell_type": "markdown",
   "id": "8a558069",
   "metadata": {},
   "source": [
    "## 繪製概率分佈\n",
    "\n",
    "##### 接下來，我們繪製訓練後的概率分佈圖，為了便於比較，我們也繪製目標概率分佈圖。"
   ]
  },
  {
   "cell_type": "code",
   "execution_count": 4,
   "id": "601fda61",
   "metadata": {},
   "outputs": [
    {
     "ename": "TypeError",
     "evalue": "ParameterExpression with unbound parameters ({ParameterVectorElement(θ[6])}) cannot be cast to a float.",
     "output_type": "error",
     "traceback": [
      "\u001b[1;31m---------------------------------------------------------------------------\u001b[0m",
      "\u001b[1;31mTypeError\u001b[0m                                 Traceback (most recent call last)",
      "\u001b[1;32m<ipython-input-4-7e49c36e0df5>\u001b[0m in \u001b[0;36m<module>\u001b[1;34m\u001b[0m\n\u001b[0;32m      2\u001b[0m \u001b[0mvalues\u001b[0m \u001b[1;33m=\u001b[0m \u001b[1;33m[\u001b[0m\u001b[0mbounds\u001b[0m\u001b[1;33m[\u001b[0m\u001b[1;36m0\u001b[0m\u001b[1;33m]\u001b[0m \u001b[1;33m+\u001b[0m \u001b[1;33m(\u001b[0m\u001b[0mbounds\u001b[0m\u001b[1;33m[\u001b[0m\u001b[1;36m1\u001b[0m\u001b[1;33m]\u001b[0m \u001b[1;33m-\u001b[0m \u001b[0mbounds\u001b[0m\u001b[1;33m[\u001b[0m\u001b[1;36m0\u001b[0m\u001b[1;33m]\u001b[0m\u001b[1;33m)\u001b[0m \u001b[1;33m*\u001b[0m \u001b[0mx\u001b[0m \u001b[1;33m/\u001b[0m \u001b[1;33m(\u001b[0m\u001b[1;36m2\u001b[0m \u001b[1;33m**\u001b[0m \u001b[0mnum_qubits\u001b[0m \u001b[1;33m-\u001b[0m \u001b[1;36m1\u001b[0m\u001b[1;33m)\u001b[0m \u001b[1;32mfor\u001b[0m \u001b[0mx\u001b[0m \u001b[1;32min\u001b[0m \u001b[0mrange\u001b[0m\u001b[1;33m(\u001b[0m\u001b[1;36m2\u001b[0m\u001b[1;33m**\u001b[0m\u001b[0mnum_qubits\u001b[0m\u001b[1;33m)\u001b[0m\u001b[1;33m]\u001b[0m\u001b[1;33m\u001b[0m\u001b[1;33m\u001b[0m\u001b[0m\n\u001b[0;32m      3\u001b[0m \u001b[0muncertainty_model\u001b[0m \u001b[1;33m=\u001b[0m \u001b[0mg_circuit\u001b[0m\u001b[1;33m.\u001b[0m\u001b[0massign_parameters\u001b[0m\u001b[1;33m(\u001b[0m\u001b[0mdict\u001b[0m\u001b[1;33m(\u001b[0m\u001b[0mzip\u001b[0m\u001b[1;33m(\u001b[0m\u001b[0mtheta\u001b[0m\u001b[1;33m,\u001b[0m \u001b[0mg_params\u001b[0m\u001b[1;33m)\u001b[0m\u001b[1;33m)\u001b[0m\u001b[1;33m)\u001b[0m\u001b[1;33m\u001b[0m\u001b[1;33m\u001b[0m\u001b[0m\n\u001b[1;32m----> 4\u001b[1;33m \u001b[0mamplitudes\u001b[0m \u001b[1;33m=\u001b[0m \u001b[0mStatevector\u001b[0m\u001b[1;33m.\u001b[0m\u001b[0mfrom_instruction\u001b[0m\u001b[1;33m(\u001b[0m\u001b[0muncertainty_model\u001b[0m\u001b[1;33m)\u001b[0m\u001b[1;33m.\u001b[0m\u001b[0mdata\u001b[0m\u001b[1;33m\u001b[0m\u001b[1;33m\u001b[0m\u001b[0m\n\u001b[0m\u001b[0;32m      5\u001b[0m \u001b[1;33m\u001b[0m\u001b[0m\n\u001b[0;32m      6\u001b[0m \u001b[0mx\u001b[0m \u001b[1;33m=\u001b[0m \u001b[0mnp\u001b[0m\u001b[1;33m.\u001b[0m\u001b[0marray\u001b[0m\u001b[1;33m(\u001b[0m\u001b[0mvalues\u001b[0m\u001b[1;33m)\u001b[0m\u001b[1;33m\u001b[0m\u001b[1;33m\u001b[0m\u001b[0m\n",
      "\u001b[1;32mD:\\Anaconda\\lib\\site-packages\\qiskit\\quantum_info\\states\\statevector.py\u001b[0m in \u001b[0;36mfrom_instruction\u001b[1;34m(cls, instruction)\u001b[0m\n\u001b[0;32m    668\u001b[0m         \u001b[0minit\u001b[0m\u001b[1;33m[\u001b[0m\u001b[1;36m0\u001b[0m\u001b[1;33m]\u001b[0m \u001b[1;33m=\u001b[0m \u001b[1;36m1.0\u001b[0m\u001b[1;33m\u001b[0m\u001b[1;33m\u001b[0m\u001b[0m\n\u001b[0;32m    669\u001b[0m         \u001b[0mvec\u001b[0m \u001b[1;33m=\u001b[0m \u001b[0mStatevector\u001b[0m\u001b[1;33m(\u001b[0m\u001b[0minit\u001b[0m\u001b[1;33m,\u001b[0m \u001b[0mdims\u001b[0m\u001b[1;33m=\u001b[0m\u001b[0minstruction\u001b[0m\u001b[1;33m.\u001b[0m\u001b[0mnum_qubits\u001b[0m \u001b[1;33m*\u001b[0m \u001b[1;33m(\u001b[0m\u001b[1;36m2\u001b[0m\u001b[1;33m,\u001b[0m\u001b[1;33m)\u001b[0m\u001b[1;33m)\u001b[0m\u001b[1;33m\u001b[0m\u001b[1;33m\u001b[0m\u001b[0m\n\u001b[1;32m--> 670\u001b[1;33m         \u001b[1;32mreturn\u001b[0m \u001b[0mStatevector\u001b[0m\u001b[1;33m.\u001b[0m\u001b[0m_evolve_instruction\u001b[0m\u001b[1;33m(\u001b[0m\u001b[0mvec\u001b[0m\u001b[1;33m,\u001b[0m \u001b[0minstruction\u001b[0m\u001b[1;33m)\u001b[0m\u001b[1;33m\u001b[0m\u001b[1;33m\u001b[0m\u001b[0m\n\u001b[0m\u001b[0;32m    671\u001b[0m \u001b[1;33m\u001b[0m\u001b[0m\n\u001b[0;32m    672\u001b[0m     \u001b[1;32mdef\u001b[0m \u001b[0mto_dict\u001b[0m\u001b[1;33m(\u001b[0m\u001b[0mself\u001b[0m\u001b[1;33m,\u001b[0m \u001b[0mdecimals\u001b[0m\u001b[1;33m=\u001b[0m\u001b[1;32mNone\u001b[0m\u001b[1;33m)\u001b[0m\u001b[1;33m:\u001b[0m\u001b[1;33m\u001b[0m\u001b[1;33m\u001b[0m\u001b[0m\n",
      "\u001b[1;32mD:\\Anaconda\\lib\\site-packages\\qiskit\\quantum_info\\states\\statevector.py\u001b[0m in \u001b[0;36m_evolve_instruction\u001b[1;34m(statevec, obj, qargs)\u001b[0m\n\u001b[0;32m    807\u001b[0m             \u001b[1;32melse\u001b[0m\u001b[1;33m:\u001b[0m\u001b[1;33m\u001b[0m\u001b[1;33m\u001b[0m\u001b[0m\n\u001b[0;32m    808\u001b[0m                 \u001b[0mnew_qargs\u001b[0m \u001b[1;33m=\u001b[0m \u001b[1;33m[\u001b[0m\u001b[0mqargs\u001b[0m\u001b[1;33m[\u001b[0m\u001b[0mqubits\u001b[0m\u001b[1;33m[\u001b[0m\u001b[0mtup\u001b[0m\u001b[1;33m]\u001b[0m\u001b[1;33m]\u001b[0m \u001b[1;32mfor\u001b[0m \u001b[0mtup\u001b[0m \u001b[1;32min\u001b[0m \u001b[0mqregs\u001b[0m\u001b[1;33m]\u001b[0m\u001b[1;33m\u001b[0m\u001b[1;33m\u001b[0m\u001b[0m\n\u001b[1;32m--> 809\u001b[1;33m             \u001b[0mStatevector\u001b[0m\u001b[1;33m.\u001b[0m\u001b[0m_evolve_instruction\u001b[0m\u001b[1;33m(\u001b[0m\u001b[0mstatevec\u001b[0m\u001b[1;33m,\u001b[0m \u001b[0minstr\u001b[0m\u001b[1;33m,\u001b[0m \u001b[0mqargs\u001b[0m\u001b[1;33m=\u001b[0m\u001b[0mnew_qargs\u001b[0m\u001b[1;33m)\u001b[0m\u001b[1;33m\u001b[0m\u001b[1;33m\u001b[0m\u001b[0m\n\u001b[0m\u001b[0;32m    810\u001b[0m         \u001b[1;32mreturn\u001b[0m \u001b[0mstatevec\u001b[0m\u001b[1;33m\u001b[0m\u001b[1;33m\u001b[0m\u001b[0m\n",
      "\u001b[1;32mD:\\Anaconda\\lib\\site-packages\\qiskit\\quantum_info\\states\\statevector.py\u001b[0m in \u001b[0;36m_evolve_instruction\u001b[1;34m(statevec, obj, qargs)\u001b[0m\n\u001b[0;32m    807\u001b[0m             \u001b[1;32melse\u001b[0m\u001b[1;33m:\u001b[0m\u001b[1;33m\u001b[0m\u001b[1;33m\u001b[0m\u001b[0m\n\u001b[0;32m    808\u001b[0m                 \u001b[0mnew_qargs\u001b[0m \u001b[1;33m=\u001b[0m \u001b[1;33m[\u001b[0m\u001b[0mqargs\u001b[0m\u001b[1;33m[\u001b[0m\u001b[0mqubits\u001b[0m\u001b[1;33m[\u001b[0m\u001b[0mtup\u001b[0m\u001b[1;33m]\u001b[0m\u001b[1;33m]\u001b[0m \u001b[1;32mfor\u001b[0m \u001b[0mtup\u001b[0m \u001b[1;32min\u001b[0m \u001b[0mqregs\u001b[0m\u001b[1;33m]\u001b[0m\u001b[1;33m\u001b[0m\u001b[1;33m\u001b[0m\u001b[0m\n\u001b[1;32m--> 809\u001b[1;33m             \u001b[0mStatevector\u001b[0m\u001b[1;33m.\u001b[0m\u001b[0m_evolve_instruction\u001b[0m\u001b[1;33m(\u001b[0m\u001b[0mstatevec\u001b[0m\u001b[1;33m,\u001b[0m \u001b[0minstr\u001b[0m\u001b[1;33m,\u001b[0m \u001b[0mqargs\u001b[0m\u001b[1;33m=\u001b[0m\u001b[0mnew_qargs\u001b[0m\u001b[1;33m)\u001b[0m\u001b[1;33m\u001b[0m\u001b[1;33m\u001b[0m\u001b[0m\n\u001b[0m\u001b[0;32m    810\u001b[0m         \u001b[1;32mreturn\u001b[0m \u001b[0mstatevec\u001b[0m\u001b[1;33m\u001b[0m\u001b[1;33m\u001b[0m\u001b[0m\n",
      "\u001b[1;32mD:\\Anaconda\\lib\\site-packages\\qiskit\\quantum_info\\states\\statevector.py\u001b[0m in \u001b[0;36m_evolve_instruction\u001b[1;34m(statevec, obj, qargs)\u001b[0m\n\u001b[0;32m    770\u001b[0m         \u001b[1;32mfrom\u001b[0m \u001b[0mqiskit\u001b[0m\u001b[1;33m.\u001b[0m\u001b[0mcircuit\u001b[0m\u001b[1;33m.\u001b[0m\u001b[0mbarrier\u001b[0m \u001b[1;32mimport\u001b[0m \u001b[0mBarrier\u001b[0m\u001b[1;33m\u001b[0m\u001b[1;33m\u001b[0m\u001b[0m\n\u001b[0;32m    771\u001b[0m \u001b[1;33m\u001b[0m\u001b[0m\n\u001b[1;32m--> 772\u001b[1;33m         \u001b[0mmat\u001b[0m \u001b[1;33m=\u001b[0m \u001b[0mOperator\u001b[0m\u001b[1;33m.\u001b[0m\u001b[0m_instruction_to_matrix\u001b[0m\u001b[1;33m(\u001b[0m\u001b[0mobj\u001b[0m\u001b[1;33m)\u001b[0m\u001b[1;33m\u001b[0m\u001b[1;33m\u001b[0m\u001b[0m\n\u001b[0m\u001b[0;32m    773\u001b[0m         \u001b[1;32mif\u001b[0m \u001b[0mmat\u001b[0m \u001b[1;32mis\u001b[0m \u001b[1;32mnot\u001b[0m \u001b[1;32mNone\u001b[0m\u001b[1;33m:\u001b[0m\u001b[1;33m\u001b[0m\u001b[1;33m\u001b[0m\u001b[0m\n\u001b[0;32m    774\u001b[0m             \u001b[1;31m# Perform the composition and inplace update the current state\u001b[0m\u001b[1;33m\u001b[0m\u001b[1;33m\u001b[0m\u001b[1;33m\u001b[0m\u001b[0m\n",
      "\u001b[1;32mD:\\Anaconda\\lib\\site-packages\\qiskit\\quantum_info\\operators\\operator.py\u001b[0m in \u001b[0;36m_instruction_to_matrix\u001b[1;34m(cls, obj)\u001b[0m\n\u001b[0;32m    476\u001b[0m             \u001b[1;31m# `to_matrix` definition and if so use that.\u001b[0m\u001b[1;33m\u001b[0m\u001b[1;33m\u001b[0m\u001b[1;33m\u001b[0m\u001b[0m\n\u001b[0;32m    477\u001b[0m             \u001b[1;32mtry\u001b[0m\u001b[1;33m:\u001b[0m\u001b[1;33m\u001b[0m\u001b[1;33m\u001b[0m\u001b[0m\n\u001b[1;32m--> 478\u001b[1;33m                 \u001b[0mmat\u001b[0m \u001b[1;33m=\u001b[0m \u001b[0mobj\u001b[0m\u001b[1;33m.\u001b[0m\u001b[0mto_matrix\u001b[0m\u001b[1;33m(\u001b[0m\u001b[1;33m)\u001b[0m\u001b[1;33m\u001b[0m\u001b[1;33m\u001b[0m\u001b[0m\n\u001b[0m\u001b[0;32m    479\u001b[0m             \u001b[1;32mexcept\u001b[0m \u001b[0mQiskitError\u001b[0m\u001b[1;33m:\u001b[0m\u001b[1;33m\u001b[0m\u001b[1;33m\u001b[0m\u001b[0m\n\u001b[0;32m    480\u001b[0m                 \u001b[1;32mpass\u001b[0m\u001b[1;33m\u001b[0m\u001b[1;33m\u001b[0m\u001b[0m\n",
      "\u001b[1;32mD:\\Anaconda\\lib\\site-packages\\qiskit\\circuit\\gate.py\u001b[0m in \u001b[0;36mto_matrix\u001b[1;34m(self)\u001b[0m\n\u001b[0;32m     55\u001b[0m         \u001b[1;32mif\u001b[0m \u001b[0mhasattr\u001b[0m\u001b[1;33m(\u001b[0m\u001b[0mself\u001b[0m\u001b[1;33m,\u001b[0m \u001b[1;34m\"__array__\"\u001b[0m\u001b[1;33m)\u001b[0m\u001b[1;33m:\u001b[0m\u001b[1;33m\u001b[0m\u001b[1;33m\u001b[0m\u001b[0m\n\u001b[0;32m     56\u001b[0m             \u001b[1;31m# pylint: disable=no-member\u001b[0m\u001b[1;33m\u001b[0m\u001b[1;33m\u001b[0m\u001b[1;33m\u001b[0m\u001b[0m\n\u001b[1;32m---> 57\u001b[1;33m             \u001b[1;32mreturn\u001b[0m \u001b[0mself\u001b[0m\u001b[1;33m.\u001b[0m\u001b[0m__array__\u001b[0m\u001b[1;33m(\u001b[0m\u001b[0mdtype\u001b[0m\u001b[1;33m=\u001b[0m\u001b[0mcomplex\u001b[0m\u001b[1;33m)\u001b[0m\u001b[1;33m\u001b[0m\u001b[1;33m\u001b[0m\u001b[0m\n\u001b[0m\u001b[0;32m     58\u001b[0m         \u001b[1;32mraise\u001b[0m \u001b[0mCircuitError\u001b[0m\u001b[1;33m(\u001b[0m\u001b[1;34mf\"to_matrix not defined for this {type(self)}\"\u001b[0m\u001b[1;33m)\u001b[0m\u001b[1;33m\u001b[0m\u001b[1;33m\u001b[0m\u001b[0m\n\u001b[0;32m     59\u001b[0m \u001b[1;33m\u001b[0m\u001b[0m\n",
      "\u001b[1;32mD:\\Anaconda\\lib\\site-packages\\qiskit\\circuit\\library\\standard_gates\\ry.py\u001b[0m in \u001b[0;36m__array__\u001b[1;34m(self, dtype)\u001b[0m\n\u001b[0;32m     92\u001b[0m     \u001b[1;32mdef\u001b[0m \u001b[0m__array__\u001b[0m\u001b[1;33m(\u001b[0m\u001b[0mself\u001b[0m\u001b[1;33m,\u001b[0m \u001b[0mdtype\u001b[0m\u001b[1;33m=\u001b[0m\u001b[1;32mNone\u001b[0m\u001b[1;33m)\u001b[0m\u001b[1;33m:\u001b[0m\u001b[1;33m\u001b[0m\u001b[1;33m\u001b[0m\u001b[0m\n\u001b[0;32m     93\u001b[0m         \u001b[1;34m\"\"\"Return a numpy.array for the RY gate.\"\"\"\u001b[0m\u001b[1;33m\u001b[0m\u001b[1;33m\u001b[0m\u001b[0m\n\u001b[1;32m---> 94\u001b[1;33m         \u001b[0mcos\u001b[0m \u001b[1;33m=\u001b[0m \u001b[0mmath\u001b[0m\u001b[1;33m.\u001b[0m\u001b[0mcos\u001b[0m\u001b[1;33m(\u001b[0m\u001b[0mself\u001b[0m\u001b[1;33m.\u001b[0m\u001b[0mparams\u001b[0m\u001b[1;33m[\u001b[0m\u001b[1;36m0\u001b[0m\u001b[1;33m]\u001b[0m \u001b[1;33m/\u001b[0m \u001b[1;36m2\u001b[0m\u001b[1;33m)\u001b[0m\u001b[1;33m\u001b[0m\u001b[1;33m\u001b[0m\u001b[0m\n\u001b[0m\u001b[0;32m     95\u001b[0m         \u001b[0msin\u001b[0m \u001b[1;33m=\u001b[0m \u001b[0mmath\u001b[0m\u001b[1;33m.\u001b[0m\u001b[0msin\u001b[0m\u001b[1;33m(\u001b[0m\u001b[0mself\u001b[0m\u001b[1;33m.\u001b[0m\u001b[0mparams\u001b[0m\u001b[1;33m[\u001b[0m\u001b[1;36m0\u001b[0m\u001b[1;33m]\u001b[0m \u001b[1;33m/\u001b[0m \u001b[1;36m2\u001b[0m\u001b[1;33m)\u001b[0m\u001b[1;33m\u001b[0m\u001b[1;33m\u001b[0m\u001b[0m\n\u001b[0;32m     96\u001b[0m         \u001b[1;32mreturn\u001b[0m \u001b[0mnumpy\u001b[0m\u001b[1;33m.\u001b[0m\u001b[0marray\u001b[0m\u001b[1;33m(\u001b[0m\u001b[1;33m[\u001b[0m\u001b[1;33m[\u001b[0m\u001b[0mcos\u001b[0m\u001b[1;33m,\u001b[0m \u001b[1;33m-\u001b[0m\u001b[0msin\u001b[0m\u001b[1;33m]\u001b[0m\u001b[1;33m,\u001b[0m \u001b[1;33m[\u001b[0m\u001b[0msin\u001b[0m\u001b[1;33m,\u001b[0m \u001b[0mcos\u001b[0m\u001b[1;33m]\u001b[0m\u001b[1;33m]\u001b[0m\u001b[1;33m,\u001b[0m \u001b[0mdtype\u001b[0m\u001b[1;33m=\u001b[0m\u001b[0mdtype\u001b[0m\u001b[1;33m)\u001b[0m\u001b[1;33m\u001b[0m\u001b[1;33m\u001b[0m\u001b[0m\n",
      "\u001b[1;32mD:\\Anaconda\\lib\\site-packages\\qiskit\\circuit\\parameterexpression.py\u001b[0m in \u001b[0;36m__float__\u001b[1;34m(self)\u001b[0m\n\u001b[0;32m    417\u001b[0m     \u001b[1;32mdef\u001b[0m \u001b[0m__float__\u001b[0m\u001b[1;33m(\u001b[0m\u001b[0mself\u001b[0m\u001b[1;33m)\u001b[0m\u001b[1;33m:\u001b[0m\u001b[1;33m\u001b[0m\u001b[1;33m\u001b[0m\u001b[0m\n\u001b[0;32m    418\u001b[0m         \u001b[1;32mif\u001b[0m \u001b[0mself\u001b[0m\u001b[1;33m.\u001b[0m\u001b[0mparameters\u001b[0m\u001b[1;33m:\u001b[0m\u001b[1;33m\u001b[0m\u001b[1;33m\u001b[0m\u001b[0m\n\u001b[1;32m--> 419\u001b[1;33m             raise TypeError(\n\u001b[0m\u001b[0;32m    420\u001b[0m                 \u001b[1;34m\"ParameterExpression with unbound parameters ({}) \"\u001b[0m\u001b[1;33m\u001b[0m\u001b[1;33m\u001b[0m\u001b[0m\n\u001b[0;32m    421\u001b[0m                 \u001b[1;34m\"cannot be cast to a float.\"\u001b[0m\u001b[1;33m.\u001b[0m\u001b[0mformat\u001b[0m\u001b[1;33m(\u001b[0m\u001b[0mself\u001b[0m\u001b[1;33m.\u001b[0m\u001b[0mparameters\u001b[0m\u001b[1;33m)\u001b[0m\u001b[1;33m\u001b[0m\u001b[1;33m\u001b[0m\u001b[0m\n",
      "\u001b[1;31mTypeError\u001b[0m: ParameterExpression with unbound parameters ({ParameterVectorElement(θ[6])}) cannot be cast to a float."
     ]
    }
   ],
   "source": [
    "# 评估训练过的概率分布\n",
    "values = [bounds[0] + (bounds[1] - bounds[0]) * x / (2 ** num_qubits - 1) for x in range(2**num_qubits)]\n",
    "uncertainty_model = g_circuit.assign_parameters(dict(zip(theta, g_params)))\n",
    "amplitudes = Statevector.from_instruction(uncertainty_model).data\n",
    "\n",
    "x = np.array(values)\n",
    "y = np.abs(amplitudes) ** 2\n",
    "\n",
    "# 从目标概率分布中抽取样本\n",
    "N = 100000\n",
    "log_normal = np.random.lognormal(mean=1, sigma=1, size=N)\n",
    "log_normal = np.round(log_normal)\n",
    "log_normal = log_normal[log_normal <= 7]\n",
    "log_normal_samples = []\n",
    "for i in range(8):\n",
    "    log_normal_samples += [np.sum(log_normal==i)]\n",
    "log_normal_samples = np.array(log_normal_samples / sum(log_normal_samples))\n",
    "\n",
    "# 画出分布\n",
    "plt.bar(x, y, width=0.2, label='trained distribution', color='royalblue')\n",
    "plt.xticks(x, size=15, rotation=90)\n",
    "plt.yticks(size=15)\n",
    "plt.grid()\n",
    "plt.xlabel('Spot Price at Maturity $S_T$ (\\$)', size=15)\n",
    "plt.ylabel('Probability ($\\%$)', size=15)\n",
    "plt.plot(log_normal_samples,'-o', color ='deepskyblue', label='target distribution', linewidth=4, markersize=12)\n",
    "plt.legend(loc='best')\n",
    "plt.show()"
   ]
  },
  {
   "cell_type": "markdown",
   "id": "daa8f361",
   "metadata": {},
   "source": [
    "## 評估預期收益\n",
    "\n",
    "#### 現在，訓練的不確定性模型可以用量子振幅估計的方法解析求解期權收益函數的期望值。"
   ]
  },
  {
   "cell_type": "code",
   "execution_count": null,
   "id": "f078c32b",
   "metadata": {},
   "outputs": [],
   "source": [
    "#评估不同发行版本的收益\n",
    "payoff = np.array([0,0,0,1,2,3,4,5])\n",
    "ep = np.dot(log_normal_samples, payoff)\n",
    "print(\"Analytically calculated expected payoff w.r.t. the target distribution:  %.4f\" % ep)\n",
    "ep_trained = np.dot(y, payoff)\n",
    "print(\"Analytically calculated expected payoff w.r.t. the trained distribution: %.4f\" % ep_trained)\n",
    "\n",
    "#绘制精确的收益函数(在训练的不确定性模型的网格上进行评估)\n",
    "x = np.array(values)\n",
    "y_strike = np.maximum(0, x - strike_price)\n",
    "plt.plot(x, y_strike, 'ro-')\n",
    "plt.grid()\n",
    "plt.title('Payoff Function', size=15)\n",
    "plt.xlabel('Spot Price', size=15)\n",
    "plt.ylabel('Payoff', size=15)\n",
    "plt.xticks(x, size=15, rotation=90)\n",
    "plt.yticks(size=15)\n",
    "plt.show()"
   ]
  },
  {
   "cell_type": "code",
   "execution_count": null,
   "id": "6b5fc08d",
   "metadata": {},
   "outputs": [],
   "source": [
    "#为QAE构造一个操作符\n",
    "european_call = european_call_objective.compose(uncertainty_model, front=True)\n",
    "print(european_call)"
   ]
  },
  {
   "cell_type": "code",
   "execution_count": null,
   "id": "364a29fb",
   "metadata": {},
   "outputs": [],
   "source": [
    "#设置目标精度和置信水平\n",
    "epsilon = 0.01\n",
    "alpha = 0.05\n",
    "\n",
    "# 构造振幅估计\n",
    "ae = IterativeAmplitudeEstimation(epsilon=epsilon, alpha=alpha,\n",
    "                                  state_preparation=european_call,\n",
    "                                  objective_qubits=[num_qubits],\n",
    "                                  post_processing=european_call_objective.post_processing)\n",
    "print(ae)"
   ]
  },
  {
   "cell_type": "code",
   "execution_count": null,
   "id": "887632d6",
   "metadata": {},
   "outputs": [],
   "source": [
    "result = ae.run(quantum_instance=Aer.get_backend('qasm_simulator'), shots=1000)"
   ]
  },
  {
   "cell_type": "code",
   "execution_count": null,
   "id": "ab18c135",
   "metadata": {},
   "outputs": [],
   "source": [
    "conf_int = np.array(result['confidence_interval'])\n",
    "print('Exact value:        \\t%.4f' % ep_trained)\n",
    "print('Estimated value:    \\t%.4f' % (result['estimation']))\n",
    "print('Confidence interval:\\t[%.4f, %.4f]' % tuple(conf_int))"
   ]
  }
 ],
 "metadata": {
  "kernelspec": {
   "display_name": "Python 3",
   "language": "python",
   "name": "python3"
  },
  "language_info": {
   "codemirror_mode": {
    "name": "ipython",
    "version": 3
   },
   "file_extension": ".py",
   "mimetype": "text/x-python",
   "name": "python",
   "nbconvert_exporter": "python",
   "pygments_lexer": "ipython3",
   "version": "3.8.8"
  }
 },
 "nbformat": 4,
 "nbformat_minor": 5
}
