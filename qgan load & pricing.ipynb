{
 "cells": [
  {
   "cell_type": "markdown",
   "id": "7d21dddf",
   "metadata": {},
   "source": [
    "# 用 qGAN 加載隨機分布\n",
    "\n",
    "給定 $k$-維度的樣本資料，我們用 qGAN 來獲得資料的基礎隨機分布並將其直接加載到量子態 :\n",
    "\n",
    "<center>$ {∣g_\\theta⟩} = \\sum_{j=0}^{2^n−1}\\sqrt{p_θ^j}{∣j⟩}$</center>\n",
    "\n",
    "$p_θ^j$ 代表了基本態 $∣j⟩$ 的發生機率。\n",
    "\n",
    "qGAN 的訓練目標生成一個狀態 $∣g_\\theta⟩$ 其中 $p_θ^j$ ($j∈\\{{0,...,2^n−1}\\}$)，代表一個機率分布其接近訓練資料 \n",
    "$X = \\{{x^0,...,x^k−1}\\}$ 的基礎分布。\n",
    "\n",
    "想要進一步了解請參考論文 \"Quantum Generative Adversarial Networks for Learning and Loading Random Distributions Zoufal, Lucchi, Woerner [2019]\"。\n",
    "\n",
    "應用訓練過的 qGAN 的例子，金融衍生品的訂價，請參閱 \"Option Pricing with qGANs\" 的教學。"
   ]
  },
  {
   "cell_type": "code",
   "execution_count": 1,
   "id": "7c6378a3",
   "metadata": {},
   "outputs": [
    {
     "name": "stderr",
     "output_type": "stream",
     "text": [
      "C:\\Users\\user\\anaconda3\\lib\\site-packages\\qiskit\\aqua\\__init__.py:86: DeprecationWarning: The package qiskit.aqua is deprecated. It was moved/refactored to qiskit-terra For more information see <https://github.com/Qiskit/qiskit-aqua/blob/main/README.md#migration-guide>\n",
      "  warn_package('aqua', 'qiskit-terra')\n",
      "C:\\Users\\user\\anaconda3\\lib\\site-packages\\qiskit\\finance\\__init__.py:50: DeprecationWarning: The package qiskit.finance is deprecated. It was moved/refactored to qiskit_finance (pip install qiskit-finance). For more information see <https://github.com/Qiskit/qiskit-aqua/blob/main/README.md#migration-guide>\n",
      "  warn_package('finance', 'qiskit_finance', 'qiskit-finance')\n"
     ]
    }
   ],
   "source": [
    "import pandas\n",
    "import time\n",
    "from scipy.stats import lognorm\n",
    "from sklearn.preprocessing import StandardScaler\n",
    "import numpy as np\n",
    "seed = 71\n",
    "np.random.seed = seed\n",
    "\n",
    "import matplotlib.pyplot as plt\n",
    "%matplotlib inline\n",
    "\n",
    "from scipy import stats\n",
    "\n",
    "from qiskit import Aer, QuantumRegister, QuantumCircuit, BasicAer\n",
    "from qiskit.circuit import ParameterVector\n",
    "from qiskit.quantum_info import Statevector\n",
    "from qiskit.circuit.library import TwoLocal, UniformDistribution, NormalDistribution\n",
    "\n",
    "from qiskit.utils import QuantumInstance, algorithm_globals\n",
    "from qiskit_machine_learning.algorithms import NumPyDiscriminator, QGAN\n",
    "\n",
    "from qiskit.aqua import aqua_globals, QuantumInstance\n",
    "from qiskit.aqua.algorithms import IterativeAmplitudeEstimation\n",
    "from qiskit.finance.applications import EuropeanCallExpectedValue\n",
    "\n",
    "algorithm_globals.random_seed = seed"
   ]
  },
  {
   "cell_type": "markdown",
   "id": "7752ad0d",
   "metadata": {},
   "source": [
    "## 載入訓練資料\n",
    "\n",
    "首先，我們需要載入 $k$-維度的訓練資料樣本(在此 k=1)。\n",
    "\n",
    "接下來，設置數據的解析度，也就是最大最小值和用於代表每個資料維度的量子位元數量。"
   ]
  },
  {
   "cell_type": "code",
   "execution_count": 2,
   "id": "a6107422",
   "metadata": {},
   "outputs": [
    {
     "name": "stdout",
     "output_type": "stream",
     "text": [
      "[[1.37844049]\n",
      " [1.31919497]\n",
      " [1.33795605]\n",
      " ...\n",
      " [0.74076116]\n",
      " [0.76208955]\n",
      " [0.7222963 ]]\n",
      "actual_data: [[1.37844049]\n",
      " [1.31919497]\n",
      " [1.33795605]\n",
      " ...\n",
      " [0.74076116]\n",
      " [0.76208955]\n",
      " [0.7222963 ]]\n",
      "mu:1.2542724636880587,sigma:0.2780874767952817\n",
      "1.6600391918354007 7.937454830356145\n"
     ]
    }
   ],
   "source": [
    "# 訓練資料的樣本數\n",
    "start = time.process_time()\n",
    "N = 1000\n",
    "qubits_num = 3\n",
    "\n",
    "# 把高盛能源金屬指數的數據轉換成對數正態分布以找出平均值和標準差\n",
    "data = []\n",
    "data = pandas.read_csv(\"ttt.csv\", names=[\"price\"])\n",
    "scaler = StandardScaler()\n",
    "data_list = scaler.fit_transform(data) # 将数据更改使得数据可以被fit\n",
    "print(data_list)\n",
    "data_arr = np.array(data_list)\n",
    "actual_data = data_arr.astype(float)\n",
    "\n",
    "print(\"actual_data:\",actual_data)\n",
    "sigma,loc,scale = stats.lognorm.fit(actual_data)\n",
    "estimated_mu = np.log(scale)\n",
    "estimated_sigma = sigma\n",
    "real_data = np.random.lognormal(mean=estimated_mu, sigma=estimated_sigma, size=N)\n",
    "print(\"mu:{},sigma:{}\".format(estimated_mu,estimated_sigma))\n",
    "\n",
    "# 將數據標準化\n",
    "Dmin = real_data.min()\n",
    "Dmax = real_data.max()\n",
    "# new_data = []\n",
    "# for i in real_data:\n",
    "#     new = (i - Dmin) / (Dmax - Dmin) * (2 ** qubits_num - 1)\n",
    "#     new_data.append(new)\n",
    "# #print(new_data)\n",
    "print(Dmin,Dmax)\n",
    "# real_data = new_data\n",
    "\n",
    "# 根據資料的維度設置量子位元為 k 個量子位元串列[#q_0,...,#q_k-1]\n",
    "load_num_qubits = [qubits_num]\n",
    "k = len(load_num_qubits)\n",
    "\n",
    "# 設置數據解析度\n",
    "# 設置最高和最低資料數值作為 k 最小/最大數據值的串列\n",
    "load_bounds = np.array([0, (2 ** load_num_qubits[0]) -1])"
   ]
  },
  {
   "cell_type": "markdown",
   "id": "8c26f04b",
   "metadata": {},
   "source": [
    "## 初始化qGAN\n",
    "qGAN 包括一個量子生成器 $G_\\theta$ ，即是一個擬設，和一個經典判別器 $D_\\phi$ ，一個神經網路。\n",
    "\n",
    "為了執行量子生成器，我們選則一個深度-$1$ 實施了 $R_Y$ 旋轉和 $CZ$ 閘的擬設其以均勻分配為輸入態。 尤其是，若是 $k>1$ 的生成器參數必須小心的選擇。例如，電路的深度應該 $>1$ 因為更高的電路深度才能夠表示更複雜的結構。\n",
    "\n",
    "使用的經典判別器是基於 NumPy 實施的神經網路。 還有一個判別器是基於 PyTorch 其並未於 Qiskit 默認的安裝內 - 更多資訊請參閱 Optional Install。\n",
    "\n",
    "在此，兩個網路使用 ADAM 最佳化演算法(ADAM 是量子生成對抗網路的默認優化器)。"
   ]
  },
  {
   "cell_type": "code",
   "execution_count": 3,
   "id": "1e8e037f",
   "metadata": {},
   "outputs": [
    {
     "name": "stderr",
     "output_type": "stream",
     "text": [
      "C:\\Users\\user\\anaconda3\\lib\\site-packages\\qiskit\\aqua\\quantum_instance.py:135: DeprecationWarning: The class qiskit.aqua.QuantumInstance is deprecated. It was moved/refactored to qiskit.utils.QuantumInstance (pip install qiskit-terra). For more information see <https://github.com/Qiskit/qiskit-aqua/blob/main/README.md#migration-guide>\n",
      "  warn_class('aqua.QuantumInstance',\n"
     ]
    },
    {
     "name": "stdout",
     "output_type": "stream",
     "text": [
      "[1.21564296 5.94923134 4.20587794 1.32325767 3.8823082  2.17438522]\n"
     ]
    },
    {
     "name": "stderr",
     "output_type": "stream",
     "text": [
      "<ipython-input-3-e6db00abfdeb>:15: DeprecationWarning: `UniformDistribution` is deprecated as of version 0.17.0 and will be removed no earlier than 3 months after the release date. It moved to qiskit_finance.circuit.library.UniformDistribution.\n",
      "  init_dist = UniformDistribution(sum(load_num_qubits))\n"
     ]
    }
   ],
   "source": [
    "# 設置人工智慧訓練型樣的數量\n",
    "# 記住:演算法的執行時間可以透過減少人工智慧訓練型樣的數量來降低\n",
    "num_epochs = 5\n",
    "# 批次量\n",
    "batch_size = int(N/num_epochs)\n",
    "\n",
    "# 初始化 qGAN\n",
    "qgan = QGAN(real_data, load_bounds, load_num_qubits, batch_size, num_epochs, snapshot_dir=None)\n",
    "qgan.seed = 11\n",
    "# 設置 quantum instance 以執行量子生成器\n",
    "quantum_instance = QuantumInstance(backend=BasicAer.get_backend('statevector_simulator'),\n",
    "                                   seed_transpiler=seed, seed_simulator=seed)\n",
    "\n",
    "# 為生成器電路設置初始態\n",
    "init_dist = UniformDistribution(sum(load_num_qubits))\n",
    "\n",
    "# 設置擬設電路\n",
    "ansatz = TwoLocal(int(np.sum(load_num_qubits)), 'ry', 'cz', 'circular', reps=1, insert_barriers=True)\n",
    "\n",
    "# 設置初始參數用於減少訓練時間進而降低筆記的執行時間\n",
    "# 你可以提升人工智慧訓練型樣的數量並使用隨機初始參數\n",
    "init_params = np.random.rand(ansatz.num_parameters_settable) * 2 * np.pi\n",
    "print(init_params)\n",
    "# init_params = [100,100,100,100,100,100,100,100,100,100]\n",
    "load_g_circuit = ansatz.compose(init_dist, front=True)\n",
    "\n",
    "# 設置量子生成器\n",
    "qgan.set_generator(generator_circuit=load_g_circuit, generator_init_params=init_params)\n",
    "# 參數具有順序問題下列是暫時的解決方法\n",
    "qgan._generator._free_parameters = sorted(load_g_circuit.parameters, key=lambda p: p.name)\n",
    "# 設置經典判別器神經網路\n",
    "discriminator = NumPyDiscriminator(len(load_num_qubits))\n",
    "qgan.set_discriminator(discriminator)"
   ]
  },
  {
   "cell_type": "markdown",
   "id": "0a568447",
   "metadata": {},
   "source": [
    "## 執行qGAN的訓練\n",
    "\n",
    "在訓練生成器和判別器時的參數是用以下的損失函數來交替更新:\n",
    "\n",
    "<center>$L_G (\\phi,\\theta) = -\\frac{1}{m}\\sum_{l=1}^{m}[\\log(D_\\phi (g^l))]$</center>\n",
    "\n",
    "以及\n",
    "\n",
    "<center>$L_G (\\phi,\\theta) = \\frac{1}{m}\\sum_{l=1}^{m}[\\log D_\\phi (x^l) + \\log(1 - D_\\phi(g^l))]$</center>\n",
    " \n",
    "$m$ 代表了批次而 $g^l$ 表示了量子生成器產生的資料樣本。\n",
    "\n",
    "請記住此訓練，為了這次的筆記本，選擇已知的初始點以保持簡節. 沒有這樣的先前知識需要注意訓練可能會花一點時間。"
   ]
  },
  {
   "cell_type": "code",
   "execution_count": 4,
   "id": "4f7fb04c",
   "metadata": {},
   "outputs": [],
   "source": [
    "# 執行 qGAN\n",
    "result = qgan.run(quantum_instance)"
   ]
  },
  {
   "cell_type": "code",
   "execution_count": 5,
   "id": "21924365",
   "metadata": {},
   "outputs": [
    {
     "name": "stdout",
     "output_type": "stream",
     "text": [
      "Training results:\n",
      "  params_d : [-0.53387831  0.00066173  0.12816618 ...  0.06577865  0.0669668\n",
      " -0.18557944]\n",
      "  params_g : [1.21563293 5.94923286 4.20587429 1.32326304 3.88230277 2.17438355]\n",
      "  loss_d : 0.6735\n",
      "  loss_g : [0.9209]\n",
      "  rel_entr : 4.0346\n",
      "[1.21563293 5.94923286 4.20587429 1.32326304 3.88230277 2.17438355]\n"
     ]
    }
   ],
   "source": [
    "print('Training results:')\n",
    "for key, value in result.items():\n",
    "    print(f'  {key} : {value}')\n",
    "\n",
    "print(result['params_g'])"
   ]
  },
  {
   "cell_type": "markdown",
   "id": "0832522e",
   "metadata": {},
   "source": [
    "## 訓練過程和結果\n",
    "\n",
    "現在，我們繪製生成器和判別器的損失函數在訓練中的變化，以及訓練和目標分布的相對熵的進展。\n",
    "\n",
    "最後，我們也比較訓練分布和目標分布的累積分布函數(CDF)。"
   ]
  },
  {
   "cell_type": "code",
   "execution_count": 6,
   "id": "411ebbfc",
   "metadata": {},
   "outputs": [
    {
     "name": "stdout",
     "output_type": "stream",
     "text": [
      "[0.4189]\n"
     ]
    },
    {
     "data": {
      "image/png": "[encoded data removed]",
      "text/plain": [
       "<Figure size 432x360 with 1 Axes>"
      ]
     },
     "metadata": {
      "needs_background": "light"
     },
     "output_type": "display_data"
    },
    {
     "name": "stdout",
     "output_type": "stream",
     "text": [
      "[array([0.3956]), array([0.5658]), array([0.7932]), array([0.9166]), array([0.9209])]\n",
      "[0.8145, 0.7254, 0.6802, 0.6757, 0.6735]\n"
     ]
    }
   ],
   "source": [
    "# 繪製基於生成器和判別器的損失函數進展\n",
    "t_steps = np.arange(num_epochs)\n",
    "def func(aa,bb):\n",
    "    return abs(aa-bb)\n",
    "trytry = list(map(func, qgan.g_loss, qgan.d_loss))\n",
    "print(trytry[0])\n",
    "plt.figure(figsize=(6,5))\n",
    "plt.title(\"Progress in the loss function\")\n",
    "plt.plot(t_steps, qgan.g_loss, label='Generator loss function', color='mediumvioletred', linewidth=2)\n",
    "plt.plot(t_steps, qgan.d_loss, label='Discriminator loss function', color='rebeccapurple', linewidth=2)\n",
    "plt.plot(t_steps, trytry, label='loss difference', color='yellow', linewidth=2)\n",
    "plt.grid()\n",
    "plt.legend(loc='best')\n",
    "plt.xlabel('time steps')\n",
    "plt.ylabel('loss')\n",
    "plt.show()\n",
    "print(qgan.g_loss)\n",
    "print(qgan.d_loss)"
   ]
  },
  {
   "cell_type": "code",
   "execution_count": 7,
   "id": "22bbd2be",
   "metadata": {},
   "outputs": [
    {
     "data": {
      "image/png": "[encoded data removed]",
      "text/plain": [
       "<Figure size 432x360 with 1 Axes>"
      ]
     },
     "metadata": {
      "needs_background": "light"
     },
     "output_type": "display_data"
    }
   ],
   "source": [
    "# 繪製基於相對熵的進展\n",
    "plt.figure(figsize=(6,5))\n",
    "plt.title('Relative Entropy')\n",
    "plt.plot(np.linspace(0, num_epochs, len(qgan.rel_entr)), qgan.rel_entr, color='mediumblue', lw=4, ls=':')\n",
    "plt.grid()\n",
    "plt.xlabel('time steps')\n",
    "plt.ylabel('relative entropy')\n",
    "plt.show()"
   ]
  },
  {
   "cell_type": "code",
   "execution_count": 8,
   "id": "f4517ac4",
   "metadata": {},
   "outputs": [
    {
     "data": {
      "image/png": "[encoded data removed]",
      "text/plain": [
       "<Figure size 432x360 with 1 Axes>"
      ]
     },
     "metadata": {
      "needs_background": "light"
     },
     "output_type": "display_data"
    }
   ],
   "source": [
    "#繪製結果分布對於目標分布，也就是對數正態分布，的累積分布函數\n",
    "log_normal = np.random.lognormal(mean=estimated_mu, sigma=estimated_sigma, size=1000)\n",
    "\n",
    "# 將數據標準化\n",
    "# Dmin = log_normal.min()\n",
    "# Dmax = log_normal.max()\n",
    "# log_data = []\n",
    "# for i in log_normal:\n",
    "#     new = (i - Dmin) / (Dmax - Dmin) * (2 ** qubits_num - 1)\n",
    "#     log_data.append(new)\n",
    "# #print(new_data)\n",
    "# log_normal = log_data\n",
    "\n",
    "# print(log_normal)\n",
    "log_normal = np.round(log_normal)\n",
    "log_normal = log_normal[log_normal <= load_bounds[1]]\n",
    "\n",
    "temp = []\n",
    "for i in range(int(load_bounds[1] + 1)):\n",
    "    temp += [np.sum(log_normal==i)]\n",
    "log_normal = np.array(temp / sum(temp))\n",
    "\n",
    "plt.figure(figsize=(6,5))\n",
    "plt.title('CDF (Cumulative Distribution Function)')\n",
    "samples_g, prob_g = qgan.generator.get_output(qgan.quantum_instance, shots=10000)\n",
    "samples_g = np.array(samples_g)\n",
    "samples_g = samples_g.flatten()\n",
    "num_bins = len(prob_g)\n",
    "plt.bar(samples_g,  np.cumsum(prob_g), color='royalblue', width= 0.8, label='simulation')\n",
    "plt.plot( np.cumsum(log_normal),'-o', label='log-normal', color='deepskyblue', linewidth=4, markersize=12)\n",
    "plt.xticks(np.arange(min(samples_g), max(samples_g)+1, 1.0))\n",
    "plt.grid()\n",
    "plt.xlabel('x')\n",
    "plt.ylabel('p(x)')\n",
    "plt.legend(loc='best')\n",
    "plt.show()\n"
   ]
  },
  {
   "cell_type": "markdown",
   "id": "04ed73e7",
   "metadata": {},
   "source": [
    "# 使用量子生成對抗網路為期權定價\n",
    "\n",
    "## 簡介\n",
    "\n",
    "#### 在此筆記本，我們討論量子機器學習，即量子生成對抗網路(qGAN)，如何促進歐洲看漲期權的定價。更具體的說，qGAN可以訓練成量子電路模擬歐洲看漲期權基礎資產的現貨價格。由此得到的模型可以集成到基於量子振幅估計的算法中，以評估預期的收益-參見歐洲看漲期權定價。關於通過訓練qGAN學習和加載隨機分佈的更多細節，請參閱論文''Quantum Generative Adversarial Networks for Learning and Loading Random Distributions. Zoufal, Lucchi, Woerner. 2019.''"
   ]
  },
  {
   "cell_type": "markdown",
   "id": "1aafcc81",
   "metadata": {},
   "source": [
    "##  不确定性模型 Uncertainty Model\n",
    "#### Black-Scholes模型假設歐洲看漲期權在到期時 $S_T$ 的現貨價格是對數正態分佈的。因此，我們可以用來自對數正態分佈的樣本訓練qGAN，並將結果作為基於期權的不確定性模型。接下来，我們構建一個量子電路用於加載不確定性模型。電路輸出如下\n",
    "44\n",
    "<center>$ {∣g_\\theta⟩} = \\sum_{j=0}^{2^n−1}\\sqrt{p_θ^j}{∣j⟩}$</center>\n",
    "\n",
    "#### 其中概率 $p_θ^j$ ($j∈{0，…，2n−1}$)，表示目標分佈模型。"
   ]
  },
  {
   "cell_type": "code",
   "execution_count": 9,
   "id": "98f8cd15",
   "metadata": {},
   "outputs": [
    {
     "name": "stdout",
     "output_type": "stream",
     "text": [
      "[1.21563293 5.94923286 4.20587429 1.32326304 3.88230277 2.17438355]\n",
      "{ParameterVectorElement(θ[0]): 1.215632930222219, ParameterVectorElement(θ[1]): 5.9492328583177585, ParameterVectorElement(θ[2]): 4.205874291183962, ParameterVectorElement(θ[3]): 1.3232630412892985, ParameterVectorElement(θ[4]): 3.882302765492633, ParameterVectorElement(θ[5]): 2.174383546870831}\n"
     ]
    },
    {
     "name": "stderr",
     "output_type": "stream",
     "text": [
      "<ipython-input-9-65c9be20369a>:11: DeprecationWarning: `NormalDistribution` is deprecated as of version 0.17.0 and will be removed no earlier than 3 months after the release date. It moved to qiskit_finance.circuit.library.NormalDistribution.\n",
      "  init_dist = NormalDistribution(op_num_qubits, mu=estimated_mu, sigma=estimated_sigma, bounds=op_bounds)\n"
     ]
    }
   ],
   "source": [
    "# 設置最高、最低數據值\n",
    "op_bounds = np.array([0 , (2 ** load_num_qubits[0]) -1])\n",
    "# 不確定性模型中使用的量子位元的集合數\n",
    "op_num_qubits = load_num_qubits[0]\n",
    "\n",
    "# 加載訓練過的電路參數\n",
    "g_params = result['params_g']\n",
    "print(g_params)\n",
    "# g_params = [0.29399714, 0.38853322, 0.9557694, 0.07245791, 6.02626428, 0.13537225]\n",
    "# 為生成器電路設置初始態\n",
    "init_dist = NormalDistribution(op_num_qubits, mu=estimated_mu, sigma=estimated_sigma, bounds=op_bounds)\n",
    "\n",
    "# 構造變分形式\n",
    "var_form = TwoLocal(op_num_qubits, 'ry', 'cz', entanglement='circular', reps=1)\n",
    "\n",
    "# 保留一個參數列表，以便我們可以將它們與數值列表關聯起來\n",
    "# (否則我們需要一個字典)\n",
    "theta = var_form.ordered_parameters\n",
    "\n",
    "# 組成生成器電路，這是加載不確定性模型的電路\n",
    "op_g_circuit = init_dist.compose(var_form)\n",
    "\n",
    "print(dict(zip(theta, g_params)))"
   ]
  },
  {
   "cell_type": "markdown",
   "id": "fd1eb0e5",
   "metadata": {},
   "source": [
    "## 評估預期收益\n",
    "\n",
    "#### 現在，訓練的不確定性模型可以用量子振幅估計來評估期權收益函數的期望值。"
   ]
  },
  {
   "cell_type": "code",
   "execution_count": 10,
   "id": "3f301e93",
   "metadata": {},
   "outputs": [],
   "source": [
    "# 設置執行價格(應該在不確定性的最低值和最高值範圍內)\n",
    "strike_price = 2\n",
    "\n",
    "# 設置成本函數的近似縮放\n",
    "c_approx = 0.25\n",
    "\n",
    "# 為成本函數構造電路\n",
    "european_call_objective = EuropeanCallExpectedValue(\n",
    "    op_num_qubits,\n",
    "    strike_price=strike_price,\n",
    "    rescaling_factor=c_approx,\n",
    "    bounds=op_bounds\n",
    ")"
   ]
  },
  {
   "cell_type": "markdown",
   "id": "5c583ff2",
   "metadata": {},
   "source": [
    "## 繪製概率分佈\n",
    "\n",
    "##### 接下來，我們繪製訓練後的概率分佈圖，為了便於比較，我們也繪製目標概率分佈圖。"
   ]
  },
  {
   "cell_type": "code",
   "execution_count": 11,
   "id": "4beff17c",
   "metadata": {},
   "outputs": [
    {
     "name": "stdout",
     "output_type": "stream",
     "text": [
      "[ 0.01745421+0.j  0.46524736+0.j  0.10894112+0.j -0.34191062+0.j\n",
      " -0.12168045+0.j -0.41091422+0.j -0.52719743+0.j  0.43917587+0.j]\n"
     ]
    },
    {
     "data": {
      "image/png": "[encoded data removed]",
      "text/plain": [
       "<Figure size 432x288 with 1 Axes>"
      ]
     },
     "metadata": {
      "needs_background": "light"
     },
     "output_type": "display_data"
    }
   ],
   "source": [
    "# 評估訓練過的概率分佈\n",
    "values = [op_bounds[0] + (op_bounds[1] - op_bounds[0]) * x / (2 ** op_num_qubits - 1) for x in range(2**op_num_qubits)]\n",
    "uncertainty_model = op_g_circuit.assign_parameters(dict(zip(theta, g_params)))\n",
    "amplitudes = Statevector.from_instruction(uncertainty_model).data\n",
    "print(amplitudes)\n",
    "\n",
    "x = np.array(values)\n",
    "# print(x)\n",
    "y = np.abs(amplitudes) ** 2\n",
    "# print(y)\n",
    "\n",
    "# 從目標概率分佈中抽取樣本\n",
    "N = 100000\n",
    "log_normal = np.random.lognormal(mean=estimated_mu, sigma=estimated_sigma, size=N)\n",
    "log_normal = np.round(log_normal)\n",
    "log_normal = log_normal[log_normal <= (2 ** op_num_qubits) -1]\n",
    "log_normal_samples = []\n",
    "for i in range(2 ** op_num_qubits):\n",
    "    log_normal_samples += [np.sum(log_normal==i)]\n",
    "log_normal_samples = np.array(log_normal_samples / sum(log_normal_samples))\n",
    "\n",
    "# 繪製分布\n",
    "plt.bar(x, y, width=0.2, label='trained distribution', color='royalblue')\n",
    "plt.xticks(x, size=15, rotation=90)\n",
    "plt.yticks(size=15)\n",
    "plt.grid()\n",
    "plt.xlabel('Spot Price at Maturity $S_T$ (\\$)', size=15)\n",
    "plt.ylabel('Probability ($\\%$)', size=15)\n",
    "plt.plot(log_normal_samples,'-o', color ='deepskyblue', label='target distribution', linewidth=4, markersize=12)\n",
    "plt.legend(loc='best')\n",
    "plt.show()"
   ]
  },
  {
   "cell_type": "markdown",
   "id": "4c784c5f",
   "metadata": {},
   "source": [
    "## 評估預期收益\n",
    "\n",
    "#### 現在，訓練的不確定性模型可以用量子振幅估計的方法解析求解期權收益函數的期望值。"
   ]
  },
  {
   "cell_type": "code",
   "execution_count": 12,
   "id": "32a398e4",
   "metadata": {},
   "outputs": [
    {
     "name": "stdout",
     "output_type": "stream",
     "text": [
      "[0.         0.0010935  0.11268058 0.3866874  0.31691413 0.1325943\n",
      " 0.04045947 0.00957063]\n",
      "[0.00030465 0.21645511 0.01186817 0.11690287 0.01480613 0.16885049\n",
      " 0.27793714 0.19287544]\n",
      "8\n",
      "[0 0 0 1 2 3 4 5]\n",
      "Analytically calculated expected payoff w.r.t. the target distribution:  1.6280\n",
      "Analytically calculated expected payoff w.r.t. the trained distribution: 2.7292\n"
     ]
    },
    {
     "data": {
      "image/png": "[encoded data removed]",
      "text/plain": [
       "<Figure size 432x288 with 1 Axes>"
      ]
     },
     "metadata": {
      "needs_background": "light"
     },
     "output_type": "display_data"
    }
   ],
   "source": [
    "# 評估不同發行版本的收益\n",
    "print(log_normal_samples)\n",
    "print(y)\n",
    "print(len(y))\n",
    "payoff = []\n",
    "for i in range(2 ** op_num_qubits):\n",
    "    if i <= strike_price:\n",
    "        payoff.append(0)\n",
    "    else:\n",
    "        payoff.append(i - strike_price)\n",
    "payoff = np.array(payoff)\n",
    "print(payoff)\n",
    "\n",
    "ep = np.dot(log_normal_samples, payoff)\n",
    "print(\"Analytically calculated expected payoff w.r.t. the target distribution:  %.4f\" % ep)\n",
    "ep_trained = np.dot(y, payoff)\n",
    "print(\"Analytically calculated expected payoff w.r.t. the trained distribution: %.4f\" % ep_trained)\n",
    "\n",
    "# 繪製精確的收益函數(在訓練的不確定性模型的網格上進行評估)\n",
    "x = np.array(values)\n",
    "y_strike = np.maximum(0, x - strike_price)\n",
    "plt.plot(x, y_strike, 'ro-')\n",
    "plt.grid()\n",
    "plt.title('Payoff Function', size=12)\n",
    "plt.xlabel('Spot Price', size=12)\n",
    "plt.ylabel('Payoff', size=12)\n",
    "plt.xticks(x, size=8, rotation=90)\n",
    "plt.yticks(size=13)\n",
    "plt.show()"
   ]
  },
  {
   "cell_type": "code",
   "execution_count": 13,
   "id": "ebfcc56b",
   "metadata": {},
   "outputs": [],
   "source": [
    "# 為QAE構造一個操作符\n",
    "european_call = european_call_objective.compose(uncertainty_model, front=True)"
   ]
  },
  {
   "cell_type": "code",
   "execution_count": 14,
   "id": "cb7f26b9",
   "metadata": {},
   "outputs": [
    {
     "name": "stderr",
     "output_type": "stream",
     "text": [
      "C:\\Users\\user\\anaconda3\\lib\\site-packages\\qiskit\\aqua\\algorithms\\amplitude_estimators\\ae_algorithm.py:91: DeprecationWarning: The package qiskit.aqua.algorithms.amplitude_estimators is deprecated. It was moved/refactored to qiskit.algorithms.amplitude_estimators (pip install qiskit-terra). For more information see <https://github.com/Qiskit/qiskit-aqua/blob/main/README.md#migration-guide>\n",
      "  warn_package('aqua.algorithms.amplitude_estimators',\n"
     ]
    }
   ],
   "source": [
    "# 設置目標精度和信賴區間\n",
    "epsilon = 0.01\n",
    "alpha = 0.05\n",
    "\n",
    "# 構造振幅估計\n",
    "ae = IterativeAmplitudeEstimation(epsilon=epsilon, alpha=alpha,\n",
    "                                  state_preparation=european_call,\n",
    "                                  objective_qubits=[op_num_qubits],\n",
    "                                  post_processing=european_call_objective.post_processing)"
   ]
  },
  {
   "cell_type": "code",
   "execution_count": 15,
   "id": "56ad6066",
   "metadata": {},
   "outputs": [
    {
     "name": "stderr",
     "output_type": "stream",
     "text": [
      "C:\\Users\\user\\anaconda3\\lib\\site-packages\\qiskit\\utils\\deprecation.py:62: DeprecationWarning: Using a qobj for run() is deprecated as of qiskit-aer 0.9.0 and will be removed no sooner than 3 months from that release date. Transpiled circuits should now be passed directly using `backend.run(circuits, **run_options).\n",
      "  return func(*args, **kwargs)\n"
     ]
    }
   ],
   "source": [
    "END_result = ae.run(quantum_instance = Aer.get_backend('qasm_simulator'), shots = 1000)"
   ]
  },
  {
   "cell_type": "code",
   "execution_count": 16,
   "id": "e4c66e27",
   "metadata": {},
   "outputs": [
    {
     "name": "stdout",
     "output_type": "stream",
     "text": [
      "Target value:       \t1.6280\n",
      "Exact value:        \t2.7292\n",
      "Estimated value:    \t2.7352\n",
      "Confidence interval:\t[2.6854, 2.7850]\n",
      "執行時間：20.562500 秒\n",
      "[1.21563293 5.94923286 4.20587429 1.32326304 3.88230277 2.17438355]\n"
     ]
    }
   ],
   "source": [
    "conf_int = np.array(END_result['confidence_interval'])\n",
    "print('Target value:       \\t%.4f' % ep)\n",
    "print('Exact value:        \\t%.4f' % ep_trained)\n",
    "print('Estimated value:    \\t%.4f' % (END_result['estimation']))\n",
    "print('Confidence interval:\\t[%.4f, %.4f]' % tuple(conf_int))\n",
    "\n",
    "end = time.process_time()\n",
    "\n",
    "print(\"執行時間：%f 秒\" % (end - start))\n",
    "print(g_params)"
   ]
  }
 ],
 "metadata": {
  "kernelspec": {
   "display_name": "Python 3",
   "language": "python",
   "name": "python3"
  },
  "language_info": {
   "codemirror_mode": {
    "name": "ipython",
    "version": 3
   },
   "file_extension": ".py",
   "mimetype": "text/x-python",
   "name": "python",
   "nbconvert_exporter": "python",
   "pygments_lexer": "ipython3",
   "version": "3.8.8"
  }
 },
 "nbformat": 4,
 "nbformat_minor": 5
}
