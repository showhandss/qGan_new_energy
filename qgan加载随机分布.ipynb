{
 "cells": [
  {
   "cell_type": "markdown",
   "id": "f2a57059",
   "metadata": {},
   "source": [
    "# qgan加载随机分布\n",
    "\n",
    "给定$k$维数据样本，我们使用量子生成对抗网络(qGAN)来了解数据的底层随机分布，并将其直接加载到量子状态:\n",
    "\n",
    "$$ \\big| g_{\\theta}\\rangle = \\sum_{j=0}^{2^n-1} \\sqrt{p_{\\theta}^{j}}\\big| j \\rangle $$\n",
    "\n",
    "其中$p_{\\theta}^{j}$描述基状态$\\big| j\\rangle$的发生概率。\n",
    "\n",
    "qGAN训练的目的是生成一个状态$\\big| g_{\\theta}\\rangle$，其中$p_{\\theta}^{j}$，对于$j\\in \\left\\{0, \\ldots, {2^n-1} \\right\\}$，描述一个概率分布，该分布接近于训练数据$X=\\left\\{x^0, \\ldots, x^{k-1} \\right\\}$下的分布。\n",
    "\n",
    "For further details please refer to [Quantum Generative Adversarial Networks for Learning and Loading Random Distributions](https://arxiv.org/abs/1904.00043) _Zoufal, Lucchi, Woerner_ \\[2019\\]."
   ]
  },
  {
   "cell_type": "code",
   "execution_count": 1,
   "id": "1cc1a3c9",
   "metadata": {},
   "outputs": [],
   "source": [
    "import numpy as np\n",
    "seed = 71\n",
    "np.random.seed = seed\n",
    "\n",
    "import matplotlib.pyplot as plt\n",
    "%matplotlib inline\n",
    "\n",
    "from qiskit import QuantumRegister, QuantumCircuit, BasicAer\n",
    "from qiskit.circuit.library import TwoLocal, UniformDistribution\n",
    "\n",
    "from qiskit.utils import QuantumInstance, algorithm_globals\n",
    "from qiskit_machine_learning.algorithms import NumPyDiscriminator, QGAN\n",
    "\n",
    "algorithm_globals.random_seed = seed"
   ]
  },
  {
   "cell_type": "markdown",
   "id": "a42759c9",
   "metadata": {},
   "source": [
    "## 加载训练数据\n",
    "\n",
    "首先，我们需要加载$k$维训练数据样本(这里k=1)。\n",
    "\n",
    "接下来，设置数据分辨率，即最小/最大数据值和用于表示每个数据维的量子位数。"
   ]
  },
  {
   "cell_type": "code",
   "execution_count": 2,
   "id": "4ba8e5b2",
   "metadata": {},
   "outputs": [
    {
     "name": "stdout",
     "output_type": "stream",
     "text": [
      "[ 4.90190411  1.30977772  3.52962788  0.71297701  1.06049297  5.96068416\n",
      "  6.30382175 17.63682471  0.73687701  3.34779499]\n"
     ]
    }
   ],
   "source": [
    "# 训练数据样本数量\n",
    "N = 10 \n",
    "qubitnum = 3\n",
    "\n",
    "# 加载数据样本来自对数正态分布，均值=1，标准差=1\n",
    "mu = 1\n",
    "sigma = 1\n",
    "real_data = np.random.lognormal(mean=mu, sigma=sigma, size=N)\n",
    "print(real_data)\n",
    "\n",
    "# 设置数据范围\n",
    "# 设置上下数据值为k个最小/最大数据值列表[[min_0,max_0]，…，[min_k-1,max_k-1]]\n",
    "bounds = np.array([0, (2 ** qubitnum - 1)]) \n",
    "\n",
    "# 设置每个数据维度的量子位数为k个量子位值列表[#q_0，…，#q_k-1]\n",
    "num_qubits = [qubitnum]\n",
    "k = len(num_qubits) # 1"
   ]
  },
  {
   "cell_type": "markdown",
   "id": "e1e3dd92",
   "metadata": {},
   "source": [
    "## 初始化qGAN\n",
    "\n",
    "量子gan由量子发生器$G_{\\theta}$(即ansatz)和经典鉴别器$D_{\\phi}$(即神经网络)组成。\n",
    "\n",
    "为了实现量子发生器，我们选择了一个depth-$1$ ansatz，它实现了$R_Y$旋转和$CZ$门，它以均匀分布作为输入状态。值得注意的是，对于$k>1$，生成器的参数必须仔细选择。例如，电路深度应该是$>1$，因为更高的电路深度可以表示更复杂的结构。\n",
    "\n",
    "这里使用的经典鉴别器是基于使用NumPy的神经网络实现的。还有一个基于PyTorch的识别器，在安装Qiskit时默认不安装它——参见[可选安装](https://github.com/Qiskit/qiskit-machine-learning#optional-installs)了解更多信息。\n",
    "\n",
    "这里，两个网络都使用ADAM优化算法更新(ADAM是qGAN优化器的默认值)。"
   ]
  },
  {
   "cell_type": "code",
   "execution_count": 3,
   "id": "b71001cd",
   "metadata": {},
   "outputs": [
    {
     "name": "stderr",
     "output_type": "stream",
     "text": [
      "<ipython-input-3-13b2690560fc>:18: DeprecationWarning: `UniformDistribution` is deprecated as of version 0.17.0 and will be removed no earlier than 3 months after the release date. It moved to qiskit_finance.circuit.library.UniformDistribution.\n",
      "  init_dist = UniformDistribution(sum(num_qubits))\n"
     ]
    }
   ],
   "source": [
    "# 设置训练epoch次数\n",
    "# 注:算法的运行时间可以通过减少训练epoch的数量来缩短。\n",
    "num_epochs = 5\n",
    "# Batch size\n",
    "batch_size = int(N / num_epochs)\n",
    "\n",
    "# 初始化 qGAN\n",
    "qgan = QGAN(real_data, bounds, num_qubits, batch_size, num_epochs, snapshot_dir=None)\n",
    "qgan.seed = 1\n",
    "# 设置量子硬件运行量子生成器\n",
    "quantum_instance = QuantumInstance(backend=BasicAer.get_backend('statevector_simulator'),\n",
    "                                   seed_transpiler=seed, seed_simulator=seed)\n",
    "\n",
    "# 设置纠缠 map\n",
    "entangler_map = [[0, 1]]\n",
    "\n",
    "#设置电路的初始状态\n",
    "init_dist = UniformDistribution(sum(num_qubits))\n",
    "\n",
    "# 设置ansatz电路\n",
    "ansatz = TwoLocal(int(np.sum(num_qubits)), 'ry', 'cz', entanglement=entangler_map, reps=1)\n",
    "\n",
    "#设置电路初始参数 - 为了减少训练时间，从而减少这个笔记本的总运行时间\n",
    "#init_params = [3., 1., 0.6, 1.6]\n",
    "\n",
    "# 您可以增加训练周期的数量并使用随机初始参数。\n",
    "init_params = np.random.rand(ansatz.num_parameters_settable) * 2 * np.pi\n",
    "\n",
    "# 通过在ansatz前面添加初始分布来设置电路分布\n",
    "g_circuit = ansatz.compose(init_dist, front=True)\n",
    "\n",
    "# 设置量子生成器\n",
    "qgan.set_generator(generator_circuit=g_circuit, generator_init_params=init_params)\n",
    "# 参数有一个顺序问题，下面是一个临时的解决办法\n",
    "qgan._generator._free_parameters = sorted(g_circuit.parameters, key=lambda p: p.name)\n",
    "# 设置经典判别器神经网络\n",
    "discriminator = NumPyDiscriminator(len(num_qubits))\n",
    "qgan.set_discriminator(discriminator)"
   ]
  },
  {
   "cell_type": "markdown",
   "id": "a57a09c7",
   "metadata": {},
   "source": [
    "## 运行qGAN培训\n",
    "\n",
    "在训练过程中，鉴别器和生成器的参数交替更新为以下损失函数:\n",
    "$$ L_G\\left(\\phi, \\theta\\right) = -\\frac{1}{m}\\sum\\limits_{l=1}^{m}\\left[\\log\\left(D_{\\phi}\\left(g^{l}\\right)\\right)\\right] $$和\n",
    "$$  L_D\\left(\\phi, \\theta\\right) =\n",
    "\t\\frac{1}{m}\\sum\\limits_{l=1}^{m}\\left[\\log D_{\\phi}\\left(x^{l}\\right) + \\log\\left(1-D_{\\phi}\\left(g^{l}\\right)\\right)\\right] $$,\n",
    "其中$m$表示批大小，$g^l$表示量子发生器生成的数据样本。\n",
    "\n",
    "请注意，为了便于编写本手册，通过选择一个已知的初始点(' init_params ')，使培训更加简洁。没有这些事先的知识，要知道培训可能需要一些时间。"
   ]
  },
  {
   "cell_type": "code",
   "execution_count": 4,
   "id": "7115ab5a",
   "metadata": {},
   "outputs": [],
   "source": [
    "# Run qGAN\n",
    "result = qgan.run(quantum_instance)"
   ]
  },
  {
   "cell_type": "code",
   "execution_count": 5,
   "id": "3c6b279f",
   "metadata": {},
   "outputs": [
    {
     "name": "stdout",
     "output_type": "stream",
     "text": [
      "Training results:\n",
      "  params_d : [ 0.03047165  0.61668622 -0.48484985 ... -0.17245303 -0.19535628\n",
      " -0.09334295]\n",
      "  params_g : [ 1.09666121e+00  1.94444050e+00  1.26898824e+00  3.72613984e+00\n",
      " -2.54698490e-03  1.32871668e+00]\n",
      "  loss_d : 0.6807\n",
      "  loss_g : [1.3116]\n",
      "  rel_entr : 8.2443\n"
     ]
    }
   ],
   "source": [
    "print('Training results:')\n",
    "for key, value in result.items():\n",
    "    print(f'  {key} : {value}')"
   ]
  },
  {
   "cell_type": "markdown",
   "id": "f9eb8524",
   "metadata": {},
   "source": [
    "## 培训进度和结果\n",
    "\n",
    "现在，我们绘制出在训练过程中发生器和鉴别器的损失函数的演化，以及训练后的相对熵与目标分布之间的变化。\n",
    "\n",
    "最后，我们还比较了训练分布的累积分布函数(CDF)和目标分布的累积分布函数。"
   ]
  },
  {
   "cell_type": "code",
   "execution_count": 6,
   "id": "1a8e2d9f",
   "metadata": {},
   "outputs": [
    {
     "data": {
      "image/png": "[encoded data removed]",
      "text/plain": [
       "<Figure size 432x360 with 1 Axes>"
      ]
     },
     "metadata": {
      "needs_background": "light"
     },
     "output_type": "display_data"
    }
   ],
   "source": [
    "# 绘制w.r.t生成器和鉴别器的损失函数\n",
    "t_steps = np.arange(num_epochs)\n",
    "plt.figure(figsize=(6,5))\n",
    "plt.title(\"Progress in the loss function\")\n",
    "plt.plot(t_steps, qgan.g_loss, label='Generator loss function', color='mediumvioletred', linewidth=2)\n",
    "plt.plot(t_steps, qgan.d_loss, label='Discriminator loss function', color='rebeccapurple', linewidth=2)\n",
    "plt.grid()\n",
    "plt.legend(loc='best')\n",
    "plt.xlabel('time steps')\n",
    "plt.ylabel('loss')\n",
    "plt.show()"
   ]
  },
  {
   "cell_type": "code",
   "execution_count": 7,
   "id": "64a0099f",
   "metadata": {},
   "outputs": [
    {
     "data": {
      "image/png": "[encoded data removed]",
      "text/plain": [
       "<Figure size 432x360 with 1 Axes>"
      ]
     },
     "metadata": {
      "needs_background": "light"
     },
     "output_type": "display_data"
    }
   ],
   "source": [
    "# Plot progress w.r.t relative entropy\n",
    "plt.figure(figsize=(6,5))\n",
    "plt.title('Relative Entropy')\n",
    "plt.plot(np.linspace(0, num_epochs, len(qgan.rel_entr)), qgan.rel_entr, color='mediumblue', lw=4, ls=':')\n",
    "plt.grid()\n",
    "plt.xlabel('time steps')\n",
    "plt.ylabel('relative entropy')\n",
    "plt.show()"
   ]
  },
  {
   "cell_type": "code",
   "execution_count": 8,
   "id": "4dcad27c",
   "metadata": {},
   "outputs": [
    {
     "data": {
      "image/png": "[encoded data removed]",
      "text/plain": [
       "<Figure size 432x360 with 1 Axes>"
      ]
     },
     "metadata": {
      "needs_background": "light"
     },
     "output_type": "display_data"
    }
   ],
   "source": [
    "# 绘制结果分布的CDF与目标分布，即对数正态分布\n",
    "log_normal = np.random.lognormal(mean=1, sigma=1, size=100000)\n",
    "log_normal = np.round(log_normal)\n",
    "log_normal = log_normal[log_normal <= bounds[1]]\n",
    "temp = []\n",
    "for i in range(int(bounds[1] + 1)):\n",
    "    temp += [np.sum(log_normal==i)]\n",
    "log_normal = np.array(temp / sum(temp))\n",
    "\n",
    "plt.figure(figsize=(6,5))\n",
    "plt.title('CDF (Cumulative Distribution Function)')\n",
    "samples_g, prob_g = qgan.generator.get_output(qgan.quantum_instance, shots=10000)\n",
    "samples_g = np.array(samples_g)\n",
    "samples_g = samples_g.flatten()\n",
    "num_bins = len(prob_g)\n",
    "plt.bar(samples_g,  np.cumsum(prob_g), color='royalblue', width= 0.8, label='simulation')\n",
    "plt.plot( np.cumsum(log_normal),'-o', label='log-normal', color='deepskyblue', linewidth=4, markersize=12)\n",
    "plt.xticks(np.arange(min(samples_g), max(samples_g)+1, 1.0))\n",
    "plt.grid()\n",
    "plt.xlabel('x')\n",
    "plt.ylabel('p(x)')\n",
    "plt.legend(loc='best')\n",
    "plt.show()"
   ]
  },
  {
   "cell_type": "code",
   "execution_count": 9,
   "id": "45ffbdd8",
   "metadata": {},
   "outputs": [
    {
     "name": "stderr",
     "output_type": "stream",
     "text": [
      "D:\\Anaconda\\lib\\site-packages\\qiskit\\aqua\\__init__.py:86: DeprecationWarning: The package qiskit.aqua is deprecated. It was moved/refactored to qiskit-terra For more information see <https://github.com/Qiskit/qiskit-aqua/blob/main/README.md#migration-guide>\n",
      "  warn_package('aqua', 'qiskit-terra')\n"
     ]
    },
    {
     "data": {
      "text/html": [
       "<h3>Version Information</h3><table><tr><th>Qiskit Software</th><th>Version</th></tr><tr><td><code>qiskit-terra</code></td><td>0.18.2</td></tr><tr><td><code>qiskit-aer</code></td><td>0.9.0</td></tr><tr><td><code>qiskit-ignis</code></td><td>0.6.0</td></tr><tr><td><code>qiskit-ibmq-provider</code></td><td>0.16.0</td></tr><tr><td><code>qiskit-aqua</code></td><td>0.9.5</td></tr><tr><td><code>qiskit</code></td><td>0.30.0</td></tr><tr><td><code>qiskit-machine-learning</code></td><td>0.2.1</td></tr><tr><th>System information</th></tr><tr><td>Python</td><td>3.8.8 (default, Apr 13 2021, 15:08:03) [MSC v.1916 64 bit (AMD64)]</td></tr><tr><td>OS</td><td>Windows</td></tr><tr><td>CPUs</td><td>4</td></tr><tr><td>Memory (Gb)</td><td>15.838668823242188</td></tr><tr><td colspan='2'>Thu Dec 16 17:20:51 2021 台北标准时间</td></tr></table>"
      ],
      "text/plain": [
       "<IPython.core.display.HTML object>"
      ]
     },
     "metadata": {},
     "output_type": "display_data"
    },
    {
     "data": {
      "text/html": [
       "<div style='width: 100%; background-color:#d5d9e0;padding-left: 10px; padding-bottom: 10px; padding-right: 10px; padding-top: 5px'><h3>This code is a part of Qiskit</h3><p>&copy; Copyright IBM 2017, 2021.</p><p>This code is licensed under the Apache License, Version 2.0. You may<br>obtain a copy of this license in the LICENSE.txt file in the root directory<br> of this source tree or at http://www.apache.org/licenses/LICENSE-2.0.<p>Any modifications or derivative works of this code must retain this<br>copyright notice, and modified files need to carry a notice indicating<br>that they have been altered from the originals.</p></div>"
      ],
      "text/plain": [
       "<IPython.core.display.HTML object>"
      ]
     },
     "metadata": {},
     "output_type": "display_data"
    }
   ],
   "source": [
    "import qiskit.tools.jupyter\n",
    "%qiskit_version_table\n",
    "%qiskit_copyright"
   ]
  }
 ],
 "metadata": {
  "kernelspec": {
   "display_name": "Python 3",
   "language": "python",
   "name": "python3"
  },
  "language_info": {
   "codemirror_mode": {
    "name": "ipython",
    "version": 3
   },
   "file_extension": ".py",
   "mimetype": "text/x-python",
   "name": "python",
   "nbconvert_exporter": "python",
   "pygments_lexer": "ipython3",
   "version": "3.8.8"
  }
 },
 "nbformat": 4,
 "nbformat_minor": 5
}
