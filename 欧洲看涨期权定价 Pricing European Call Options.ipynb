{
 "cells": [
  {
   "cell_type": "markdown",
   "id": "9afcef69",
   "metadata": {},
   "source": [
    "# 欧洲看涨期权定价 Pricing European Call Options\n",
    "\n",
    "### 介绍 Introduction\n",
    "\n",
    "###### 行权价（K）、到期时间（T）、股价（S）、股价的波动率（Sigma）、无风险收益率（r）\n",
    "\n",
    "###### 假设有一个执行价格为K的欧洲看涨期权，其标的资产在到期时的现货价格$S_T$遵循一个给定的随机分布。对应的收益函数定义为:\n",
    "\n",
    "<center>$ max\\begin{Bmatrix}S_T−K,0\\end{Bmatrix}$</center>\n",
    "\n",
    "###### 下面，我们使用基于振幅估计的量子算法来估计期权的预期收益。例，折现前的公平价格:\n",
    "\n",
    "<center>$ \\mathbb{E}\\begin{bmatrix}max\\begin{Bmatrix}S_T−K,0\\end{Bmatrix}\\end{bmatrix}$</center>\n",
    "\n",
    "###### 以及对冲值Δ。例，期权价格相对于现货价格的导数，其定义为:\n",
    "\n",
    "<center>$ \\Delta=P\\begin{bmatrix}S_T−K \\geq K\\end{bmatrix}$</center>\n",
    "\n",
    "###### 下面的文章给出了目标函数的近似和量子计算机期权定价与风险分析的一般介绍:\n",
    "\n",
    "- Quantum Risk Analysis. Woerner, Egger. 2018.\n",
    "- Option Pricing using Quantum Computers. Stamatopoulos et al. 2019."
   ]
  },
  {
   "cell_type": "code",
   "execution_count": 30,
   "id": "c69f058f",
   "metadata": {},
   "outputs": [],
   "source": [
    "import matplotlib.pyplot as plt\n",
    "%matplotlib inline\n",
    "import numpy as np\n",
    "\n",
    "from qiskit import Aer, QuantumCircuit\n",
    "from qiskit.aqua.algorithms import IterativeAmplitudeEstimation\n",
    "from qiskit.circuit.library import LogNormalDistribution, LinearAmplitudeFunction, NormalDistribution"
   ]
  },
  {
   "cell_type": "code",
   "execution_count": 2,
   "id": "2bc14ad7",
   "metadata": {},
   "outputs": [
    {
     "name": "stderr",
     "output_type": "stream",
     "text": [
      "<ipython-input-2-5eac025b486a>:1: DeprecationWarning: `NormalDistribution` is deprecated as of version 0.17.0 and will be removed no earlier than 3 months after the release date. It moved to qiskit_finance.circuit.library.NormalDistribution.\n",
      "  circuit = NormalDistribution(3, mu=1, sigma=1, bounds=(0, 2))\n"
     ]
    },
    {
     "data": {
      "text/html": [
       "<pre style=\"word-wrap: normal;white-space: pre;background: #fff0;line-height: 1.1;font-family: &quot;Courier New&quot;,Courier,monospace\">     ┌───────┐\n",
       "q_0: ┤0      ├\n",
       "     │       │\n",
       "q_1: ┤1 P(X) ├\n",
       "     │       │\n",
       "q_2: ┤2      ├\n",
       "     └───────┘</pre>"
      ],
      "text/plain": [
       "     ┌───────┐\n",
       "q_0: ┤0      ├\n",
       "     │       │\n",
       "q_1: ┤1 P(X) ├\n",
       "     │       │\n",
       "q_2: ┤2      ├\n",
       "     └───────┘"
      ]
     },
     "execution_count": 2,
     "metadata": {},
     "output_type": "execute_result"
    }
   ],
   "source": [
    "circuit = NormalDistribution(3, mu=1, sigma=1, bounds=(0, 2))\n",
    "circuit.draw()"
   ]
  },
  {
   "cell_type": "markdown",
   "id": "21db2a13",
   "metadata": {},
   "source": [
    "### 不确定性模型 Uncertainty Model\n",
    "\n",
    "###### 我们构造了一个把对数正态分布加载进量子态的电路。分布被截断到一个给定的区间[low，high]，并使用$2^n$个网格点进行离散操作，其中n表示使用的量子位元的数量。电路对应的酉算子实现如下:\n",
    "\n",
    "<center>$|0⟩_n \\Rightarrow |\\psi⟩_n = \\sum_{i=0}^{2^n-1}\\sqrt{p_i}|i⟩_n$</center>\n",
    "    \n",
    "###### 其中 $p_i$ 表示截短离散分布对应的概率，其中 $i$ 使用仿射映射到正确的区间:\n",
    "\n",
    "<center>$ \\begin{Bmatrix}0,\\cdots,2^n-1\\end{Bmatrix}∋ i \\Rightarrow \\frac{high-low}{2^n-1} \\times i + low \\in \\begin{bmatrix}low,high\\end{bmatrix} $</center>\n"
   ]
  },
  {
   "cell_type": "code",
   "execution_count": 35,
   "id": "c823c7b0",
   "metadata": {},
   "outputs": [
    {
     "name": "stderr",
     "output_type": "stream",
     "text": [
      "<ipython-input-35-ca26d0ec3f6d>:23: DeprecationWarning: `LogNormalDistribution` is deprecated as of version 0.17.0 and will be removed no earlier than 3 months after the release date. It moved to qiskit_finance.circuit.library.LogNormalDistribution.\n",
      "  uncertainty_model = LogNormalDistribution(num_uncertainty_qubits, mu=mu, sigma=sigma**2, bounds=(low, high))\n"
     ]
    }
   ],
   "source": [
    "# 表示不确定性的量子位的数量\n",
    "num_uncertainty_qubits = 3\n",
    "\n",
    "# 相对随机分布的参数\n",
    "S = 42.881       # 最初的现货价格\n",
    "vol = 0.03     # 40%的波动\n",
    "r = 0.05      # 无风险利率年化为5%\n",
    "T = 40 / 365  # 40天到期\n",
    "\n",
    "# 得到的参数为对数正态分布\n",
    "mu = ((r - 0.5 * vol**2) * T + np.log(S))                     # 平均值\n",
    "sigma = vol * np.sqrt(T)                                      # 波动率\n",
    "mean = np.exp(mu + sigma**2/2)                                # 期望值 见下方markdown\n",
    "variance = (np.exp(sigma**2) - 1) * np.exp(2*mu + sigma**2)   # 方差 一组数据内部的离散程度\n",
    "stddev = np.sqrt(variance)                                    # 标准差\n",
    "\n",
    "# 考虑现货价格的最低和最高价值;在中间，考虑等距离散化。\n",
    "low  = np.maximum(0, mean - 3*stddev)\n",
    "high = mean + 3*stddev\n",
    "\n",
    "# 构造一个用于QAE的操作符\n",
    "# 组成不确定性模型和目标\n",
    "uncertainty_model = LogNormalDistribution(num_uncertainty_qubits, mu=mu, sigma=sigma**2, bounds=(low, high))"
   ]
  },
  {
   "cell_type": "markdown",
   "id": "fa6cd774",
   "metadata": {},
   "source": [
    "已知$X~(\\mu, \\sigma^2)$,则\n",
    "<center>$\\mathbb{E}(e^X) = e^{\\mu+\\frac{\\sigma^2}{2}}$</center>\n",
    "<center>$Var = (e^{\\sigma^2}-1) \\times e^{2\\mu + \\sigma^2}$</center>"
   ]
  },
  {
   "cell_type": "code",
   "execution_count": 36,
   "id": "96f781fc",
   "metadata": {},
   "outputs": [
    {
     "data": {
      "image/png": "[encoded data removed]",
      "text/plain": [
       "<Figure size 432x288 with 1 Axes>"
      ]
     },
     "metadata": {
      "needs_background": "light"
     },
     "output_type": "display_data"
    }
   ],
   "source": [
    "# 画出概率分布\n",
    "x = uncertainty_model.values\n",
    "y = uncertainty_model.probabilities\n",
    "plt.bar(x, y, width=0.2)\n",
    "plt.xticks(x, size=15, rotation=90)\n",
    "plt.yticks(size=15)\n",
    "plt.grid()\n",
    "plt.xlabel('Spot Price at Maturity $S_T$ (\\$)', size=15)\n",
    "plt.ylabel('Probability ($\\%$)', size=15)\n",
    "plt.show()"
   ]
  },
  {
   "cell_type": "markdown",
   "id": "e6bb24a3",
   "metadata": {},
   "source": [
    "### 支付函数 Payoff Function\n",
    "###### 只要到期$S_T$的现货价格小于执行价格K，收益函数就等于零，然后线性增加。该实现使用一个比较器，如果$S_T≥K$，该比较器将一个辅助量子位从$∣0⟩$翻转到$∣1⟩$，并且该辅助器用于控制收益函数的线性部分。\n",
    "\n",
    "###### 然后将线性部分本身近似如下。对于小的|y|，利用 $\\sin^2(y+\\frac{\\pi}{4})≈y+\\frac{1}{2}$ 这一事实。因此，对于给定的近似缩放因子$c_{approx}\\in[0,1]$和$x\\in[0,1]$，尤其小型 $c_{approx}$,我们考虑\n",
    "\n",
    "<center>$\\sin^2 (\\frac{\\pi}{2} * c_{approx} * (x - \\frac{1}{2}) + \\frac{\\pi}{4}) \\approx \\frac{\\pi}{2} * c_{approx} * (x - \\frac{1}{2}) + \\frac{1}{2}$</center>\n",
    "\n",
    "###### 我们可以很容易地利用y旋转控制构造一个操作符来充当\n",
    "\n",
    "<center>$|x⟩|0⟩ \\Rightarrow |x⟩ (\\cos(a * x + b)|0⟩ + \\sin(a * x + b)|1⟩)$</center>\n",
    "\n",
    "###### 最终，我们感兴趣的是在最后一个量子位中测量 $∣1⟩$ 的概率，它对应于 $sin^2(a∗x+b)$ 。连同上面的近似，这允许近似感兴趣的值。我们选择的 $c_{approx}$ 越小，逼近效果越好。然而，由于我们正在估计一个由 $c_{approx}$ 缩放的属性，因此需要相应地调整评估量子位元 $m$ 的数量。\n",
    "\n",
    "###### 关于近似的更多细节，请参阅:Quantum Risk Analysis. Woerner, Egger. 2018."
   ]
  },
  {
   "cell_type": "code",
   "execution_count": 5,
   "id": "30a486c7",
   "metadata": {},
   "outputs": [
    {
     "data": {
      "text/html": [
       "<pre style=\"word-wrap: normal;white-space: pre;background: #fff0;line-height: 1.1;font-family: &quot;Courier New&quot;,Courier,monospace\">     ┌───────┐┌────┐\n",
       "q_0: ┤0      ├┤0   ├\n",
       "     │       ││    │\n",
       "q_1: ┤1 P(X) ├┤1   ├\n",
       "     │       ││    │\n",
       "q_2: ┤2      ├┤2   ├\n",
       "     └───────┘│    │\n",
       "q_3: ─────────┤3 F ├\n",
       "              │    │\n",
       "q_4: ─────────┤4   ├\n",
       "              │    │\n",
       "q_5: ─────────┤5   ├\n",
       "              │    │\n",
       "q_6: ─────────┤6   ├\n",
       "              └────┘</pre>"
      ],
      "text/plain": [
       "     ┌───────┐┌────┐\n",
       "q_0: ┤0      ├┤0   ├\n",
       "     │       ││    │\n",
       "q_1: ┤1 P(X) ├┤1   ├\n",
       "     │       ││    │\n",
       "q_2: ┤2      ├┤2   ├\n",
       "     └───────┘│    │\n",
       "q_3: ─────────┤3 F ├\n",
       "              │    │\n",
       "q_4: ─────────┤4   ├\n",
       "              │    │\n",
       "q_5: ─────────┤5   ├\n",
       "              │    │\n",
       "q_6: ─────────┤6   ├\n",
       "              └────┘"
      ]
     },
     "execution_count": 5,
     "metadata": {},
     "output_type": "execute_result"
    }
   ],
   "source": [
    "# 设定执行价格(应在不确定性的低值和高值范围内)\n",
    "strike_price = 1.896\n",
    "\n",
    "# 设置支付函数的近似缩放\n",
    "c_approx = 0.25\n",
    "# 建立分段线性目标函数\n",
    "breakpoints = [low, strike_price]\n",
    "slopes = [0, 1]\n",
    "offsets = [0, 0]\n",
    "f_min = 0\n",
    "f_max = high - strike_price\n",
    "european_call_objective = LinearAmplitudeFunction(\n",
    "    num_uncertainty_qubits,\n",
    "    slopes,\n",
    "    offsets,\n",
    "    domain=(low, high),\n",
    "    image=(f_min, f_max),\n",
    "    breakpoints=breakpoints,\n",
    "    rescaling_factor=c_approx\n",
    ")\n",
    "\n",
    "# 为支付函数构造一个QAE算子\n",
    "# 组成不确定性模型和目标\n",
    "num_qubits = european_call_objective.num_qubits\n",
    "european_call = QuantumCircuit(num_qubits)\n",
    "european_call.append(uncertainty_model, range(num_uncertainty_qubits))\n",
    "european_call.append(european_call_objective, range(num_qubits))\n",
    "\n",
    "# draw the circuit\n",
    "european_call.draw()"
   ]
  },
  {
   "cell_type": "code",
   "execution_count": 6,
   "id": "be379d87",
   "metadata": {},
   "outputs": [
    {
     "data": {
      "image/png": "[encoded data removed]",
      "text/plain": [
       "<Figure size 432x288 with 1 Axes>"
      ]
     },
     "metadata": {
      "needs_background": "light"
     },
     "output_type": "display_data"
    }
   ],
   "source": [
    "# 绘制精确的支付函数(在不确定性模型的网格上进行评估)\n",
    "x = uncertainty_model.values\n",
    "y = np.maximum(0, x - strike_price)\n",
    "plt.plot(x, y, 'ro-')\n",
    "plt.grid()\n",
    "plt.title('Payoff Function', size=15)\n",
    "plt.xlabel('Spot Price', size=15)\n",
    "plt.ylabel('Payoff', size=15)\n",
    "plt.xticks(x, size=15, rotation=90)\n",
    "plt.yticks(size=15)\n",
    "plt.show()"
   ]
  },
  {
   "cell_type": "code",
   "execution_count": 7,
   "id": "658f5866",
   "metadata": {},
   "outputs": [
    {
     "name": "stdout",
     "output_type": "stream",
     "text": [
      "exact expected value:\t0.1623\n",
      "exact delta value:   \t0.8098\n"
     ]
    }
   ],
   "source": [
    "# 计算精确的期望值(归一化到[0,1]区间)\n",
    "exact_value = np.dot(uncertainty_model.probabilities, y)\n",
    "exact_delta = sum(uncertainty_model.probabilities[x >= strike_price])\n",
    "print('exact expected value:\\t%.4f' % exact_value)\n",
    "print('exact delta value:   \\t%.4f' % exact_delta)"
   ]
  },
  {
   "cell_type": "markdown",
   "id": "be5feb42",
   "metadata": {},
   "source": [
    "### Evaluate Expected Payoff"
   ]
  },
  {
   "cell_type": "code",
   "execution_count": 15,
   "id": "4a7801b6",
   "metadata": {},
   "outputs": [
    {
     "name": "stdout",
     "output_type": "stream",
     "text": [
      "Exact value:        \t0.1623\n",
      "Estimated value:    \t0.1654\n",
      "Confidence interval:\t[0.1579, 0.1728]\n"
     ]
    }
   ],
   "source": [
    "# 设定目标精度和置信度\n",
    "epsilon = 0.01\n",
    "alpha = 0.05\n",
    "\n",
    "# 构造幅度估计\n",
    "ae = IterativeAmplitudeEstimation(epsilon=epsilon, alpha=alpha,\n",
    "                                  state_preparation=european_call,\n",
    "                                  objective_qubits=[3],\n",
    "                                  post_processing=european_call_objective.post_processing)\n",
    "result = ae.run(quantum_instance=Aer.get_backend('qasm_simulator'), shots=1000)\n",
    "conf_int = np.array(result['confidence_interval'])\n",
    "print('Exact value:        \\t%.4f' % exact_value)\n",
    "print('Estimated value:    \\t%.4f' % (result['estimation']))\n",
    "print('Confidence interval:\\t[%.4f, %.4f]' % tuple(conf_int))"
   ]
  },
  {
   "cell_type": "markdown",
   "id": "bb49cc35",
   "metadata": {},
   "source": [
    "###### 与手工构造这些电路不同，Qiskit的财务模块提供了$EuropeanCallExpectedValue$ 电路，它已经作为构建块实现了这一功能。"
   ]
  },
  {
   "cell_type": "code",
   "execution_count": 23,
   "id": "e06b943e",
   "metadata": {},
   "outputs": [
    {
     "data": {
      "text/html": [
       "<pre style=\"word-wrap: normal;white-space: pre;background: #fff0;line-height: 1.1;font-family: &quot;Courier New&quot;,Courier,monospace\">        ┌───────┐┌────┐\n",
       "q739_0: ┤0      ├┤0   ├\n",
       "        │       ││    │\n",
       "q739_1: ┤1 P(X) ├┤1   ├\n",
       "        │       ││    │\n",
       "q739_2: ┤2      ├┤2   ├\n",
       "        └───────┘│    │\n",
       "q740_0: ─────────┤3 F ├\n",
       "                 │    │\n",
       " a10_0: ─────────┤4   ├\n",
       "                 │    │\n",
       " a10_1: ─────────┤5   ├\n",
       "                 │    │\n",
       " a10_2: ─────────┤6   ├\n",
       "                 └────┘</pre>"
      ],
      "text/plain": [
       "        ┌───────┐┌────┐\n",
       "q739_0: ┤0      ├┤0   ├\n",
       "        │       ││    │\n",
       "q739_1: ┤1 P(X) ├┤1   ├\n",
       "        │       ││    │\n",
       "q739_2: ┤2      ├┤2   ├\n",
       "        └───────┘│    │\n",
       "q740_0: ─────────┤3 F ├\n",
       "                 │    │\n",
       " a10_0: ─────────┤4   ├\n",
       "                 │    │\n",
       " a10_1: ─────────┤5   ├\n",
       "                 │    │\n",
       " a10_2: ─────────┤6   ├\n",
       "                 └────┘"
      ]
     },
     "execution_count": 23,
     "metadata": {},
     "output_type": "execute_result"
    }
   ],
   "source": [
    "from qiskit.finance.applications import EuropeanCallExpectedValue\n",
    "\n",
    "european_call_objective = EuropeanCallExpectedValue(num_uncertainty_qubits,\n",
    "                                                    strike_price,\n",
    "                                                    rescaling_factor=c_approx,\n",
    "                                                    bounds=(low, high))\n",
    "\n",
    "# 将不确定性模型附加到前面\n",
    "european_call = european_call_objective.compose(uncertainty_model, front=True)\n",
    "european_call.draw()"
   ]
  },
  {
   "cell_type": "code",
   "execution_count": 20,
   "id": "9e996be9",
   "metadata": {},
   "outputs": [
    {
     "name": "stdout",
     "output_type": "stream",
     "text": [
      "Exact value:        \t0.1623\n",
      "Estimated value:    \t0.1697\n",
      "Confidence interval:\t[0.1623, 0.1772]\n"
     ]
    }
   ],
   "source": [
    "# 设定目标精度和置信度\n",
    "epsilon = 0.01\n",
    "alpha = 0.05\n",
    "\n",
    "# 构造幅度估计\n",
    "ae = IterativeAmplitudeEstimation(epsilon=epsilon, alpha=alpha,\n",
    "                                  state_preparation=european_call,\n",
    "                                  objective_qubits=[3],\n",
    "                                  post_processing=european_call_objective.post_processing)\n",
    "result = ae.run(quantum_instance=Aer.get_backend('qasm_simulator'), shots=1000)\n",
    "\n",
    "conf_int = np.array(result['confidence_interval'])\n",
    "print('Exact value:        \\t%.4f' % exact_value)\n",
    "print('Estimated value:    \\t%.4f' % (result['estimation']))\n",
    "print('Confidence interval:\\t[%.4f, %.4f]' % tuple(conf_int))"
   ]
  },
  {
   "cell_type": "markdown",
   "id": "96821e36",
   "metadata": {},
   "source": [
    "### Evaluate Delta\n",
    "#### Delta比预期收益更容易计算。类似于预期的回报，我们使用比较电路和辅助量子位来识别$S_T>K$的情况。然而，由于我们只对这个条件为真的概率感兴趣，我们可以直接使用这个辅助量子位作为振幅估计的客观量子位，而无需进一步的近似。"
   ]
  },
  {
   "cell_type": "code",
   "execution_count": 24,
   "id": "c4931281",
   "metadata": {},
   "outputs": [
    {
     "data": {
      "text/html": [
       "<pre style=\"word-wrap: normal;white-space: pre;background: #fff0;line-height: 1.1;font-family: &quot;Courier New&quot;,Courier,monospace\">         ┌──────┐\n",
       "state_0: ┤0     ├\n",
       "         │      │\n",
       "state_1: ┤1     ├\n",
       "         │      │\n",
       "state_2: ┤2     ├\n",
       "         │  cmp │\n",
       "state_3: ┤3     ├\n",
       "         │      │\n",
       " work_0: ┤4     ├\n",
       "         │      │\n",
       " work_1: ┤5     ├\n",
       "         └──────┘</pre>"
      ],
      "text/plain": [
       "         ┌──────┐\n",
       "state_0: ┤0     ├\n",
       "         │      │\n",
       "state_1: ┤1     ├\n",
       "         │      │\n",
       "state_2: ┤2     ├\n",
       "         │  cmp │\n",
       "state_3: ┤3     ├\n",
       "         │      │\n",
       " work_0: ┤4     ├\n",
       "         │      │\n",
       " work_1: ┤5     ├\n",
       "         └──────┘"
      ]
     },
     "execution_count": 24,
     "metadata": {},
     "output_type": "execute_result"
    }
   ],
   "source": [
    "from qiskit.finance.applications import EuropeanCallDelta\n",
    "\n",
    "european_call_delta = EuropeanCallDelta(num_uncertainty_qubits, strike_price, bounds=(low, high))\n",
    "\n",
    "european_call_delta.decompose().draw()"
   ]
  },
  {
   "cell_type": "code",
   "execution_count": 25,
   "id": "fbd66fb8",
   "metadata": {},
   "outputs": [
    {
     "data": {
      "text/html": [
       "<pre style=\"word-wrap: normal;white-space: pre;background: #fff0;line-height: 1.1;font-family: &quot;Courier New&quot;,Courier,monospace\">     ┌───────┐┌──────┐\n",
       "q_0: ┤0      ├┤0     ├\n",
       "     │       ││      │\n",
       "q_1: ┤1 P(X) ├┤1     ├\n",
       "     │       ││      │\n",
       "q_2: ┤2      ├┤2     ├\n",
       "     └───────┘│  ECD │\n",
       "q_3: ─────────┤3     ├\n",
       "              │      │\n",
       "q_4: ─────────┤4     ├\n",
       "              │      │\n",
       "q_5: ─────────┤5     ├\n",
       "              └──────┘</pre>"
      ],
      "text/plain": [
       "     ┌───────┐┌──────┐\n",
       "q_0: ┤0      ├┤0     ├\n",
       "     │       ││      │\n",
       "q_1: ┤1 P(X) ├┤1     ├\n",
       "     │       ││      │\n",
       "q_2: ┤2      ├┤2     ├\n",
       "     └───────┘│  ECD │\n",
       "q_3: ─────────┤3     ├\n",
       "              │      │\n",
       "q_4: ─────────┤4     ├\n",
       "              │      │\n",
       "q_5: ─────────┤5     ├\n",
       "              └──────┘"
      ]
     },
     "execution_count": 25,
     "metadata": {},
     "output_type": "execute_result"
    }
   ],
   "source": [
    "state_preparation = QuantumCircuit(european_call_delta.num_qubits)\n",
    "state_preparation.append(uncertainty_model, range(uncertainty_model.num_qubits))\n",
    "state_preparation.append(european_call_delta, range(european_call_delta.num_qubits))\n",
    "state_preparation.draw()"
   ]
  },
  {
   "cell_type": "code",
   "execution_count": 26,
   "id": "62b66496",
   "metadata": {},
   "outputs": [],
   "source": [
    "# set target precision and confidence level\n",
    "epsilon = 0.01\n",
    "alpha = 0.05\n",
    "\n",
    "# construct amplitude estimation\n",
    "ae_delta = IterativeAmplitudeEstimation(epsilon=epsilon, alpha=alpha,\n",
    "                                        state_preparation=state_preparation,\n",
    "                                        objective_qubits=[num_uncertainty_qubits])"
   ]
  },
  {
   "cell_type": "code",
   "execution_count": 27,
   "id": "ca21471a",
   "metadata": {},
   "outputs": [],
   "source": [
    "result_delta = ae_delta.run(quantum_instance=Aer.get_backend('qasm_simulator'), shots=100)"
   ]
  },
  {
   "cell_type": "code",
   "execution_count": 28,
   "id": "d941b820",
   "metadata": {},
   "outputs": [
    {
     "name": "stdout",
     "output_type": "stream",
     "text": [
      "Exact delta:    \t0.8098\n",
      "Esimated value: \t0.8067\n",
      "Confidence interval: \t[0.8009, 0.8124]\n"
     ]
    }
   ],
   "source": [
    "conf_int = np.array(result_delta['confidence_interval'])\n",
    "print('Exact delta:    \\t%.4f' % exact_delta)\n",
    "print('Esimated value: \\t%.4f' % result_delta['estimation'])\n",
    "print('Confidence interval: \\t[%.4f, %.4f]' % tuple(conf_int))"
   ]
  },
  {
   "cell_type": "code",
   "execution_count": null,
   "id": "92154b90",
   "metadata": {},
   "outputs": [],
   "source": [
    "import qiskit.tools.jupyter\n",
    "%qiskit_version_table\n",
    "%qiskit_copyrightw"
   ]
  }
 ],
 "metadata": {
  "kernelspec": {
   "display_name": "Python 3",
   "language": "python",
   "name": "python3"
  },
  "language_info": {
   "codemirror_mode": {
    "name": "ipython",
    "version": 3
   },
   "file_extension": ".py",
   "mimetype": "text/x-python",
   "name": "python",
   "nbconvert_exporter": "python",
   "pygments_lexer": "ipython3",
   "version": "3.8.8"
  }
 },
 "nbformat": 4,
 "nbformat_minor": 5
}
