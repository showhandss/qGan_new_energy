{
 "cells": [
  {
   "cell_type": "code",
   "execution_count": 2,
   "id": "a9ad4f65",
   "metadata": {},
   "outputs": [
    {
     "data": {
      "text/html": [
       "<div>\n",
       "<style scoped>\n",
       "    .dataframe tbody tr th:only-of-type {\n",
       "        vertical-align: middle;\n",
       "    }\n",
       "\n",
       "    .dataframe tbody tr th {\n",
       "        vertical-align: top;\n",
       "    }\n",
       "\n",
       "    .dataframe thead th {\n",
       "        text-align: right;\n",
       "    }\n",
       "</style>\n",
       "<table border=\"1\" class=\"dataframe\">\n",
       "  <thead>\n",
       "    <tr style=\"text-align: right;\">\n",
       "      <th></th>\n",
       "      <th>Effective date</th>\n",
       "      <th>S&amp;P GSCI Energy &amp; Metals</th>\n",
       "      <th>Rate of rise or fall</th>\n",
       "      <th>Ln(B)</th>\n",
       "      <th>Ln(今日)-Ln(昨日)</th>\n",
       "      <th>5日标准差</th>\n",
       "      <th>5日年化标准差</th>\n",
       "    </tr>\n",
       "  </thead>\n",
       "  <tbody>\n",
       "    <tr>\n",
       "      <th>1</th>\n",
       "      <td>2011/10/31</td>\n",
       "      <td>495.26</td>\n",
       "      <td>NaN</td>\n",
       "      <td>6.205083</td>\n",
       "      <td>NaN</td>\n",
       "      <td>NaN</td>\n",
       "      <td>NaN</td>\n",
       "    </tr>\n",
       "    <tr>\n",
       "      <th>2</th>\n",
       "      <td>2011/11/1</td>\n",
       "      <td>489.26</td>\n",
       "      <td>-1.21%</td>\n",
       "      <td>6.192894</td>\n",
       "      <td>-0.012189</td>\n",
       "      <td>NaN</td>\n",
       "      <td>NaN</td>\n",
       "    </tr>\n",
       "    <tr>\n",
       "      <th>3</th>\n",
       "      <td>2011/11/2</td>\n",
       "      <td>491.16</td>\n",
       "      <td>0.39%</td>\n",
       "      <td>6.196770</td>\n",
       "      <td>0.003876</td>\n",
       "      <td>NaN</td>\n",
       "      <td>NaN</td>\n",
       "    </tr>\n",
       "    <tr>\n",
       "      <th>4</th>\n",
       "      <td>2011/11/3</td>\n",
       "      <td>497.19</td>\n",
       "      <td>1.23%</td>\n",
       "      <td>6.208972</td>\n",
       "      <td>0.012202</td>\n",
       "      <td>NaN</td>\n",
       "      <td>NaN</td>\n",
       "    </tr>\n",
       "    <tr>\n",
       "      <th>5</th>\n",
       "      <td>2011/11/4</td>\n",
       "      <td>499.62</td>\n",
       "      <td>0.49%</td>\n",
       "      <td>6.213848</td>\n",
       "      <td>0.004876</td>\n",
       "      <td>NaN</td>\n",
       "      <td>NaN</td>\n",
       "    </tr>\n",
       "  </tbody>\n",
       "</table>\n",
       "</div>"
      ],
      "text/plain": [
       "  Effective date   S&P GSCI Energy & Metals Rate of rise or fall     Ln(B)  \\\n",
       "1      2011/10/31                    495.26                  NaN  6.205083   \n",
       "2       2011/11/1                    489.26               -1.21%  6.192894   \n",
       "3       2011/11/2                    491.16                0.39%  6.196770   \n",
       "4       2011/11/3                    497.19                1.23%  6.208972   \n",
       "5       2011/11/4                    499.62                0.49%  6.213848   \n",
       "\n",
       "   Ln(今日)-Ln(昨日)  5日标准差  5日年化标准差  \n",
       "1            NaN    NaN      NaN  \n",
       "2      -0.012189    NaN      NaN  \n",
       "3       0.003876    NaN      NaN  \n",
       "4       0.012202    NaN      NaN  \n",
       "5       0.004876    NaN      NaN  "
      ]
     },
     "execution_count": 2,
     "metadata": {},
     "output_type": "execute_result"
    }
   ],
   "source": [
    "import pandas as pd\n",
    "data=pd.read_csv('D:\\JUPYTER_DEMO\\QGAN_code\\DATA.csv')\n",
    "data.index += 1\n",
    "data.head()"
   ]
  },
  {
   "cell_type": "code",
   "execution_count": 36,
   "id": "628e6cca",
   "metadata": {},
   "outputs": [
    {
     "name": "stdout",
     "output_type": "stream",
     "text": [
      "-5.696672914195354e-05\n",
      "0.016757846234777406\n"
     ]
    },
    {
     "data": {
      "text/plain": [
       "NormaltestResult(statistic=195.51599724685968, pvalue=3.501391200283558e-43)"
      ]
     },
     "execution_count": 36,
     "metadata": {},
     "output_type": "execute_result"
    }
   ],
   "source": [
    "import numpy as np\n",
    "import scipy.stats\n",
    "import matplotlib.pyplot as plt\n",
    "%matplotlib inline\n",
    "%config InlineBackend.figure_format='retina'\n",
    "\n",
    "mean=data['Ln(今日)-Ln(昨日)'].mean()\n",
    "print(mean)\n",
    "std = data['Ln(今日)-Ln(昨日)'].std()\n",
    "print(std)\n",
    "\n",
    "#验证是否符合正态分布\n",
    "df=data['Ln(B)']\n",
    "scipy.stats.normaltest(df.tail(1000))"
   ]
  }
 ],
 "metadata": {
  "kernelspec": {
   "display_name": "Python 3",
   "language": "python",
   "name": "python3"
  },
  "language_info": {
   "codemirror_mode": {
    "name": "ipython",
    "version": 3
   },
   "file_extension": ".py",
   "mimetype": "text/x-python",
   "name": "python",
   "nbconvert_exporter": "python",
   "pygments_lexer": "ipython3",
   "version": "3.8.8"
  }
 },
 "nbformat": 4,
 "nbformat_minor": 5
}
